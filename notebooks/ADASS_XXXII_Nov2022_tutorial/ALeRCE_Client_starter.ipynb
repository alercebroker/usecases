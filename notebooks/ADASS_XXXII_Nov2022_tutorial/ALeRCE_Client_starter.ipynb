{
 "cells": [
  {
   "cell_type": "markdown",
   "metadata": {},
   "source": [
    "# ALeRCE client starter"
   ]
  },
  {
   "cell_type": "markdown",
   "metadata": {},
   "source": [
    "Francisco Förster\n",
    "\n",
    "Last modification: 20221104\n",
    "\n",
    "Very simple examples on how to interact with the ALeRCE client https://alerce.readthedocs.io/en/latest/index.html.\n",
    "\n",
    "See https://alerce.readthedocs.io/en/latest/apis.html for the API documentation.\n",
    "\n",
    "We recommend that you run this notebook from the following [link](https://colab.research.google.com/github/alercebroker/usecases/blob/master/notebooks/ADASS_XXXII_Nov2022_tutorial/ALeRCE_Client_starter.ipynb)."
   ]
  },
  {
   "cell_type": "markdown",
   "metadata": {},
   "source": [
    "Load libraries"
   ]
  },
  {
   "cell_type": "code",
   "execution_count": null,
   "metadata": {
    "ExecuteTime": {
     "end_time": "2022-11-04T13:11:55.492240Z",
     "start_time": "2022-11-04T13:11:55.076021Z"
    }
   },
   "outputs": [],
   "source": [
    "import matplotlib.pyplot as plt\n",
    "import pandas as pd\n",
    "import matplotlib.colors"
   ]
  },
  {
   "cell_type": "markdown",
   "metadata": {},
   "source": [
    "#!pip install alerce"
   ]
  },
  {
   "cell_type": "code",
   "execution_count": null,
   "metadata": {
    "ExecuteTime": {
     "end_time": "2022-11-04T13:11:56.159332Z",
     "start_time": "2022-11-04T13:11:55.787262Z"
    }
   },
   "outputs": [],
   "source": [
    "from alerce.core import Alerce"
   ]
  },
  {
   "cell_type": "markdown",
   "metadata": {},
   "source": [
    "# Initialize alerce api object"
   ]
  },
  {
   "cell_type": "markdown",
   "metadata": {},
   "source": [
    "Let's start the ALeRCE client"
   ]
  },
  {
   "cell_type": "code",
   "execution_count": null,
   "metadata": {
    "ExecuteTime": {
     "end_time": "2022-11-04T13:11:56.870574Z",
     "start_time": "2022-11-04T13:11:56.866583Z"
    }
   },
   "outputs": [],
   "source": [
    "client = Alerce()"
   ]
  },
  {
   "cell_type": "markdown",
   "metadata": {},
   "source": [
    "We will explore different methods from the client:\n",
    "\n",
    "* Query global properties of an individual object\n",
    "* Query properties per band of an individual object\n",
    "* Query detections of an individual object\n",
    "* Query image stamps\n",
    "* Crossmatch with objects in the vicinity\n",
    "* Query non detections of an individual object\n",
    "* Query features of an individual object\n",
    "* Query probabilities of an individual object\n",
    "* Query global properties of a group of objects"
   ]
  },
  {
   "cell_type": "markdown",
   "metadata": {},
   "source": [
    "# Query properties for an individual object"
   ]
  },
  {
   "cell_type": "markdown",
   "metadata": {},
   "source": [
    "We will now query the global properties of one object based on a given object id, ZTF20aaelulu in this case. You can see this object in the website https://alerce.online/object/ZTF20aaelulu.\n"
   ]
  },
  {
   "cell_type": "code",
   "execution_count": null,
   "metadata": {
    "ExecuteTime": {
     "end_time": "2022-11-04T13:11:59.229350Z",
     "start_time": "2022-11-04T13:11:58.315590Z"
    }
   },
   "outputs": [],
   "source": [
    "oid = \"ZTF20aaelulu\"\n",
    "query_results = client.query_objects(\n",
    "        oid=oid,\n",
    "        format='pandas')\n",
    "properties = query_results # save for later\n",
    "query_results"
   ]
  },
  {
   "cell_type": "markdown",
   "metadata": {
    "ExecuteTime": {
     "end_time": "2022-01-18T14:44:08.210148Z",
     "start_time": "2022-01-18T14:44:08.193187Z"
    }
   },
   "source": [
    "The column names are the following"
   ]
  },
  {
   "cell_type": "code",
   "execution_count": null,
   "metadata": {
    "ExecuteTime": {
     "end_time": "2022-11-04T13:12:00.802626Z",
     "start_time": "2022-11-04T13:12:00.800147Z"
    }
   },
   "outputs": [],
   "source": [
    "\", \".join(query_results)"
   ]
  },
  {
   "cell_type": "markdown",
   "metadata": {},
   "source": [
    "The columns are described in here https://alerce.readthedocs.io/en/latest/models.html"
   ]
  },
  {
   "cell_type": "markdown",
   "metadata": {},
   "source": [
    "# Query properties per band for an indivual object"
   ]
  },
  {
   "cell_type": "code",
   "execution_count": null,
   "metadata": {
    "ExecuteTime": {
     "end_time": "2022-11-04T13:12:02.193063Z",
     "start_time": "2022-11-04T13:12:02.018494Z"
    }
   },
   "outputs": [],
   "source": [
    "query_results = client.query_magstats(\n",
    "        oid=oid,\n",
    "        format='pandas')\n",
    "query_results"
   ]
  },
  {
   "cell_type": "markdown",
   "metadata": {
    "ExecuteTime": {
     "end_time": "2022-01-18T15:43:44.730607Z",
     "start_time": "2022-01-18T15:43:44.706074Z"
    }
   },
   "source": [
    "You can see that the results are different statistics in two rows, one per band. The columns are described in here https://alerce.readthedocs.io/en/latest/models.html"
   ]
  },
  {
   "cell_type": "code",
   "execution_count": null,
   "metadata": {
    "ExecuteTime": {
     "end_time": "2022-11-04T13:12:03.081781Z",
     "start_time": "2022-11-04T13:12:03.078631Z"
    }
   },
   "outputs": [],
   "source": [
    "\", \".join(query_results)"
   ]
  },
  {
   "cell_type": "markdown",
   "metadata": {},
   "source": [
    "# Query detections and non-detections for an individual object"
   ]
  },
  {
   "cell_type": "markdown",
   "metadata": {
    "ExecuteTime": {
     "end_time": "2022-10-12T19:21:12.710843Z",
     "start_time": "2022-10-12T19:21:12.704041Z"
    }
   },
   "source": [
    "Now we obtain a list of all the detections and non-detections (limiting magnitude) in two bands. \n",
    "\n",
    "Note that both dataframes include a unique identifier for the telescope (`tid`), which hints at the multi-stream nature of ALeRCE (soon to be available)."
   ]
  },
  {
   "cell_type": "code",
   "execution_count": null,
   "metadata": {
    "ExecuteTime": {
     "end_time": "2022-11-04T13:12:05.068119Z",
     "start_time": "2022-11-04T13:12:04.639684Z"
    },
    "scrolled": false
   },
   "outputs": [],
   "source": [
    "detections = client.query_detections(\n",
    "        oid=oid,\n",
    "        format='pandas')\n",
    "nondetections = client.query_non_detections(\n",
    "        oid=oid,\n",
    "        format='pandas')\n",
    "display(detections)\n",
    "display(nondetections)"
   ]
  },
  {
   "cell_type": "markdown",
   "metadata": {},
   "source": [
    "The most important columns for the detections are the time (`mjd`), the unique detection identifier (`candid`), the band (`fid`), the difference magnitude (`magpsf`) and its error (`sigmapsf`). \n",
    "\n",
    "The columns for the non-detections are the time (`mjd`), the band (`fid`), and the limiting magnitude (`diffmaglim`).\n",
    "\n",
    "All the field are explained in here The columns are described in here https://alerce.readthedocs.io/en/latest/models.html."
   ]
  },
  {
   "cell_type": "markdown",
   "metadata": {},
   "source": [
    "# Query image stamps\n",
    "\n",
    "We can also query the image stamps associated to a specific object and candid."
   ]
  },
  {
   "cell_type": "markdown",
   "metadata": {},
   "source": [
    "We will use the first candid from the previously queried detections."
   ]
  },
  {
   "cell_type": "code",
   "execution_count": null,
   "metadata": {
    "ExecuteTime": {
     "end_time": "2022-11-04T13:12:06.544326Z",
     "start_time": "2022-11-04T13:12:06.532765Z"
    }
   },
   "outputs": [],
   "source": [
    "stamps = client.get_stamps(oid, detections.iloc[0].candid)\n",
    "print(stamps)"
   ]
  },
  {
   "cell_type": "markdown",
   "metadata": {},
   "source": [
    "The image stamps are a triplet of science, reference and difference images. Let's look at the first image:"
   ]
  },
  {
   "cell_type": "code",
   "execution_count": null,
   "metadata": {
    "ExecuteTime": {
     "end_time": "2022-11-04T13:12:07.583566Z",
     "start_time": "2022-11-04T13:12:07.423867Z"
    }
   },
   "outputs": [],
   "source": [
    "fig, ax = plt.subplots(ncols=3)\n",
    "for i in range(3):\n",
    "    ax[i].imshow(stamps[i].data)"
   ]
  },
  {
   "cell_type": "markdown",
   "metadata": {},
   "source": [
    "We can also directly plot the images stamps using the plot_stamps command."
   ]
  },
  {
   "cell_type": "code",
   "execution_count": null,
   "metadata": {
    "ExecuteTime": {
     "end_time": "2022-11-04T13:12:08.740661Z",
     "start_time": "2022-11-04T13:12:08.736902Z"
    }
   },
   "outputs": [],
   "source": [
    "client.plot_stamps(oid, detections.iloc[0].candid)"
   ]
  },
  {
   "cell_type": "markdown",
   "metadata": {},
   "source": [
    "If `candid` is not given the last available value will be used."
   ]
  },
  {
   "cell_type": "code",
   "execution_count": null,
   "metadata": {
    "ExecuteTime": {
     "end_time": "2022-11-04T13:12:10.355112Z",
     "start_time": "2022-11-04T13:12:09.604037Z"
    }
   },
   "outputs": [],
   "source": [
    "client.plot_stamps(oid)\n",
    "print(detections.candid.max())"
   ]
  },
  {
   "cell_type": "markdown",
   "metadata": {},
   "source": [
    "# Crossmatch with objects in the vicinity"
   ]
  },
  {
   "cell_type": "markdown",
   "metadata": {},
   "source": [
    "We can also crossmatch the object's position with objects from the catsHTM collection of catalogs (https://github.com/maayane/catsHTM). The catalogs included in catsHTM are:\n",
    "\n",
    "* 2MASS (input name: TMASS)\n",
    "* 2MASSxsc (input name: TMASSxsc) - 2MASS extended source catalog\n",
    "* AKARI (input name: AKARI)\n",
    "* APASS (input name: APASS) - AAVSO All Sky Photometric Sky Survey (~5.5x10^7 sources)\n",
    "* Cosmos (input name: Cosmos) - Sources in the Cosmos field\n",
    "* DECaLS (input name: DECaLS) - DECaLS DR5 release\n",
    "* FIRST (input name: FIRST) - (~9.5x10^5 sources)\n",
    "* GAIA/DR1 (input name: GAIADR1) - (~1.1x10^9 sources).\n",
    "* GAIA/DR2 (input name: GAIADR2) - NEW! (~1.6x10^9 sources)\n",
    "* GAIA/EDR3 (input name: GAIAEDR3) - NEW! (~1.8x10^9 sources)\n",
    "* GALEX (input name: GALEX) - GALAEX/GR6Plus7 (~1.7x10^8 sources).\n",
    "* HSC/v2 (input name: HSCv2)- Hubble source catalog\n",
    "* IPHAS/DR2 (input name: IPHAS)\n",
    "* NED redshifts (input name: NEDz)\n",
    "* NVSS (input name: NVSS) - (~1.8x10^6 sources)\n",
    "* HYPERLEDA (input name: PGC)\n",
    "* PS1 (input name: PS1) - Pan-STARRS (~2.6x10^9 sources; A cleaned version of the PS1 stack catalog; some missing tiles below declination of zero [being corrected])\n",
    "* The PTF photometric catalog (input name: PTFpc)\n",
    "* ROSATfsc (input name: ROSATfsc) - ROSAT faint source catalog\n",
    "* SDSS/DR10 (input name: SDSSDR10)- Primary sources from SDSS/DR10 (last photometric release)\n",
    "* Skymapper DR1 (input name: Skymapper)\n",
    "* SpecSDSS/DR14 (input name: SpecSDSS) - SDSS spectroscopic catalog\n",
    "* Spitzer/SAGE (input name SAGE)\n",
    "* Spitzer/IRAC (input name IRACgc) - Spitzer IRAC galactic center survey\n",
    "* UCAC4 (input name: UCAC4) - (~1.1x10^8 sources)\n",
    "* UKIDSS/DR10 (input name: UKIDSS)\n",
    "* USNOB1 (not yet available)\n",
    "* VISTA/Viking/DR3 (not yet available)\n",
    "* VST/ATLAS/DR3 (input name: VSTatlas)\n",
    "* VST/KiDS/DR3 (input name: VSTkids)\n",
    "* WISE (input name: WISE) - ~5.6x10^8 sources\n",
    "* XMM (input name: XMM)- 7.3x10^5 sources 3XMM-DR7 (Rosen et al. 2016; A&A 26, 590)\n",
    "* ZTF-DR1 stellar variability catalog (input name: ztfSrcLCDR1)\n",
    "* ZTF-DR1 variable star candidates (input name: ztfSrcLCDR1)"
   ]
  },
  {
   "cell_type": "code",
   "execution_count": null,
   "metadata": {
    "ExecuteTime": {
     "end_time": "2022-11-04T13:12:15.926352Z",
     "start_time": "2022-11-04T13:12:13.571382Z"
    }
   },
   "outputs": [],
   "source": [
    "ra = properties.meanra\n",
    "dec = properties.meandec\n",
    "radius = 30 # arcsec\n",
    "#catalog_name = \"GAIA/DR1\"\n",
    "cone_objects = client.catshtm_conesearch(ra, dec, radius, format=\"pandas\")\n",
    "cone_objects"
   ]
  },
  {
   "cell_type": "markdown",
   "metadata": {},
   "source": [
    "We obtained many crossmatches from the [catsHTM](https://arxiv.org/abs/1805.02666_) catalog. Let's look at the catalogs where matches were found:"
   ]
  },
  {
   "cell_type": "markdown",
   "metadata": {},
   "source": [
    "Let's plot the location of all crossmatches  at the SDSS/DR10 xmatches, highlighting objects with redshift if there are any from the table SpecSDSS."
   ]
  },
  {
   "cell_type": "code",
   "execution_count": null,
   "metadata": {
    "ExecuteTime": {
     "end_time": "2022-11-04T13:12:18.682316Z",
     "start_time": "2022-11-04T13:12:18.452154Z"
    }
   },
   "outputs": [],
   "source": [
    "fig, ax = plt.subplots(figsize=(10, 10))\n",
    "cmap = plt.cm.tab20\n",
    "norm = matplotlib.colors.Normalize(vmin=0, vmax=len(cone_objects.keys()))\n",
    "for idx, i in enumerate(cone_objects.keys()):\n",
    "    try:\n",
    "        aux = cone_objects[i].rename({\"RA\": \"ra\", \"Dec\": \"dec\"}, axis=1)\n",
    "        ax.scatter(aux.ra, aux.dec, color=cmap(norm(idx)), label=i, s=50)\n",
    "        if i == \"SpecSDSS\": # the table with spectroscopic redshifts\n",
    "            s = 500\n",
    "            for idxrow, row in aux.iterrows():\n",
    "                ax.text(row.ra, row.dec, \"z=%.5f\" % row.z, fontsize=20)\n",
    "    except:\n",
    "        print(i)\n",
    "        \n",
    "ax.scatter(ra, dec, c='k', marker='o', s=100, label=oid)\n",
    "ax.set_xlim(ax.get_xlim()[::-1])\n",
    "plt.legend()"
   ]
  },
  {
   "cell_type": "markdown",
   "metadata": {},
   "source": [
    "# Query features for an individual object"
   ]
  },
  {
   "cell_type": "markdown",
   "metadata": {},
   "source": [
    "Now we will query the features used by our light curve classifier. These are hand made statistics or contextual information based on the object's light curve."
   ]
  },
  {
   "cell_type": "code",
   "execution_count": null,
   "metadata": {
    "ExecuteTime": {
     "end_time": "2022-11-04T13:12:25.428025Z",
     "start_time": "2022-11-04T13:12:25.247770Z"
    }
   },
   "outputs": [],
   "source": [
    "query_results = client.query_features(\n",
    "        oid=oid,\n",
    "        format='pandas')\n",
    "query_results"
   ]
  },
  {
   "cell_type": "markdown",
   "metadata": {},
   "source": [
    "You can see that there are 178 rows, where each row has a feature name (`name`), a value (`value`), a band id (`fid`), and a feature version (`version`).\n",
    "\n",
    "A detailed explanation of all the features can be found in http://alerce.science/features/."
   ]
  },
  {
   "cell_type": "markdown",
   "metadata": {},
   "source": [
    "We can pivot these dataframe to make the features appear as columns. To do this we will add an auxiliary columns that contains the feature name and filter id all in one string, as well as adding the object identifier as a column."
   ]
  },
  {
   "cell_type": "code",
   "execution_count": null,
   "metadata": {
    "ExecuteTime": {
     "end_time": "2022-11-04T13:12:28.566976Z",
     "start_time": "2022-11-04T13:12:28.560100Z"
    }
   },
   "outputs": [],
   "source": [
    "query_results[\"oid\"] = oid\n",
    "query_results['feature'] = [f\"{name}_{fid}\" for name, fid in zip(query_results.name, query_results.fid)]"
   ]
  },
  {
   "cell_type": "code",
   "execution_count": null,
   "metadata": {
    "ExecuteTime": {
     "end_time": "2022-11-04T13:12:29.984690Z",
     "start_time": "2022-11-04T13:12:29.968683Z"
    }
   },
   "outputs": [],
   "source": [
    "query_results.pivot(index='oid', columns='feature', values='value')"
   ]
  },
  {
   "cell_type": "markdown",
   "metadata": {},
   "source": [
    "# Query probabilities for an individual object"
   ]
  },
  {
   "cell_type": "markdown",
   "metadata": {},
   "source": [
    "Similarly, we can query the classification probabilities for a given object. \n",
    "\n",
    "Note that an object can be classified by different classifiers with different versions, which is shown in the columns `classifier_name` and `classifier_version`, respectively."
   ]
  },
  {
   "cell_type": "code",
   "execution_count": null,
   "metadata": {
    "ExecuteTime": {
     "end_time": "2022-11-04T13:12:31.695157Z",
     "start_time": "2022-11-04T13:12:31.506545Z"
    }
   },
   "outputs": [],
   "source": [
    "query_results = client.query_probabilities(\n",
    "        oid=oid,\n",
    "        format='pandas')\n",
    "query_results"
   ]
  },
  {
   "cell_type": "markdown",
   "metadata": {},
   "source": [
    "We see that we get many rows for a single object. This shows all the probabilities associated to all the ALeRCE classifiers and the classes in their associated taxonomies. The columns indicate the name of the classifier (`classifier_name`), its version (`classifier_version`), the class (`class_name`), the probability (`probability`) and the ranking (`ranking`) growing from most to least likely. "
   ]
  },
  {
   "cell_type": "markdown",
   "metadata": {},
   "source": [
    "Let's check the unique classifier versions associated to each classifier:"
   ]
  },
  {
   "cell_type": "code",
   "execution_count": null,
   "metadata": {
    "ExecuteTime": {
     "end_time": "2022-11-04T13:12:34.203388Z",
     "start_time": "2022-11-04T13:12:34.192025Z"
    }
   },
   "outputs": [],
   "source": [
    "for clf in query_results.classifier_name.unique():\n",
    "    mask = query_results.classifier_name == clf\n",
    "    print(clf, query_results.loc[mask].classifier_version.unique())"
   ]
  },
  {
   "cell_type": "markdown",
   "metadata": {},
   "source": [
    "And now the unique classes associated to each classifier:"
   ]
  },
  {
   "cell_type": "code",
   "execution_count": null,
   "metadata": {
    "ExecuteTime": {
     "end_time": "2022-11-04T13:12:44.582599Z",
     "start_time": "2022-11-04T13:12:44.575461Z"
    }
   },
   "outputs": [],
   "source": [
    "for clf in query_results.classifier_name.unique():\n",
    "    mask = query_results.classifier_name == clf\n",
    "    print(clf, query_results.loc[mask].class_name.unique())"
   ]
  },
  {
   "cell_type": "markdown",
   "metadata": {
    "ExecuteTime": {
     "end_time": "2022-01-18T16:16:49.599582Z",
     "start_time": "2022-01-18T16:16:49.583059Z"
    }
   },
   "source": [
    "The classifiers are two classifiers, the `lc_classifier` and the `stamp_classifier`, where `lc_classifier` is a hierarchical classifier composed of four independent classifiers: `lc_classifier_top`, `lc_classifier_periodic`, `lc_classifier_stochastic`, and `lc_classifier_transient`. You can see more details about these classifiers in [Sánchez-Sáez+2021](https://ui.adsabs.harvard.edu/abs/2021AJ....161..141S/abstract) and [Carrasco-Davis+2021](https://ui.adsabs.harvard.edu/abs/2020arXiv200803309C/abstract). \n",
    "\n",
    "`lc_classifier`:\n",
    "* AGN\n",
    "* Blazar\n",
    "* CEP\n",
    "* CV/Nova\n",
    "* DSCT\n",
    "* E\n",
    "* LPV\n",
    "* Periodic-Other\n",
    "* QSO\n",
    "* RRL\n",
    "* SLSN\n",
    "* SNIa\n",
    "* SNIbc\n",
    "* SNII\n",
    "* YSO\n",
    "\n",
    "`stamp_classifier`:\n",
    "* AGN\n",
    "* asteroid\n",
    "* bogus\n",
    "* SN\n",
    "* VS\n",
    "\n",
    "\n",
    "`lc_classifier_top`:\n",
    "* Periodic\n",
    "* Stochastic\n",
    "* Transient\n",
    "\n",
    "`lc_classifier_periodic`:\n",
    "* CEP\n",
    "* DSCT\n",
    "* E\n",
    "* LPV\n",
    "* Periodic-Other\n",
    "* RRL\n",
    "\n",
    "`lc_classifier_stochastic`:\n",
    "* AGN\n",
    "* Blazar\n",
    "* CV/Nova\n",
    "* QSO\n",
    "* YSO\n",
    "\n",
    "`lc_classifier_transient`:\n",
    "* SLSN\n",
    "* SNIa\n",
    "* SNIbc\n",
    "* SNII"
   ]
  },
  {
   "cell_type": "markdown",
   "metadata": {},
   "source": [
    "# Query global properties of a set of objects"
   ]
  },
  {
   "cell_type": "markdown",
   "metadata": {},
   "source": [
    "## Query objects based on the most likely class"
   ]
  },
  {
   "cell_type": "markdown",
   "metadata": {},
   "source": [
    "We will query the top 200 objects classified SNIa according to the light curve classifier. In here we ask for the top 200 objects in pandas format. By default this query asks for objects with classification `ranking=1`. We will ask for the results to be ordered by probability in descending order (`DESC`)."
   ]
  },
  {
   "cell_type": "code",
   "execution_count": null,
   "metadata": {
    "ExecuteTime": {
     "end_time": "2022-11-04T13:12:49.826696Z",
     "start_time": "2022-11-04T13:12:49.251789Z"
    }
   },
   "outputs": [],
   "source": [
    "query_results = client.query_objects(\n",
    "        classifier=\"lc_classifier\",\n",
    "        class_name=\"SNIa\",\n",
    "        page_size=200,\n",
    "        order_by='probability',\n",
    "        order_mode='DESC',\n",
    "        format='pandas')"
   ]
  },
  {
   "cell_type": "code",
   "execution_count": null,
   "metadata": {
    "ExecuteTime": {
     "end_time": "2022-11-04T13:12:49.987411Z",
     "start_time": "2022-11-04T13:12:49.969467Z"
    }
   },
   "outputs": [],
   "source": [
    "query_results"
   ]
  },
  {
   "cell_type": "markdown",
   "metadata": {},
   "source": [
    "Note that now the columns `class`, `classifier`, and `probability` are included."
   ]
  },
  {
   "cell_type": "markdown",
   "metadata": {},
   "source": [
    "## Query objects by classified ranking"
   ]
  },
  {
   "cell_type": "markdown",
   "metadata": {},
   "source": [
    "When an object is classified by our classifiers, a `ranking` column is available to quickly extract the most likely class (`ranking=1`). We can also extract objects that were classified as SNIa as the 2nd or 3rd most likely classes. Note that not asking for a ranking is equivalent to asking for `ranking=1` (the most likely class). "
   ]
  },
  {
   "cell_type": "code",
   "execution_count": null,
   "metadata": {
    "ExecuteTime": {
     "end_time": "2022-11-04T13:12:57.042045Z",
     "start_time": "2022-11-04T13:12:54.017189Z"
    }
   },
   "outputs": [],
   "source": [
    "fig, ax = plt.subplots()\n",
    "\n",
    "for ranking in [1, 2, 3]:\n",
    "    query_results = client.query_objects(\n",
    "        classifier=\"lc_classifier\",\n",
    "        class_name=\"SNIa\",\n",
    "        ranking=ranking,\n",
    "        page_size=200,\n",
    "        order_by='probability',\n",
    "        order_mode='DESC',        format='pandas')\n",
    "    query_results.probability.plot.hist(bins=20, ax=ax, lw=2, log=True,\n",
    "                                        alpha=0.5, histtype='step', label=\"ranking=%i\" % ranking)\n",
    "query_results = client.query_objects(\n",
    "        classifier=\"lc_classifier\",\n",
    "        class_name=\"SNIa\",\n",
    "        page_size=200,\n",
    "        order_by='probability',\n",
    "        order_mode='DESC',\n",
    "        format='pandas')\n",
    "query_results.probability.plot.hist(bins=20, ax=ax, lw=2, log=True, histtype='step', label=\"no ranking\")\n",
    "\n",
    "ax.set_xlabel(\"probability\")\n",
    "plt.legend()"
   ]
  },
  {
   "cell_type": "markdown",
   "metadata": {},
   "source": [
    "You can see that the probabilities when no ranking is specified and `ranking=1` overlap because `ranking=1` is the default value. Also, the typical probabilities of `ranking=1` > `ranking=2` > `ranking=3`. "
   ]
  },
  {
   "cell_type": "markdown",
   "metadata": {},
   "source": [
    "# Let's now generate a link to look at all the previous objects"
   ]
  },
  {
   "cell_type": "markdown",
   "metadata": {},
   "source": [
    "Here we restrict the number of objects to 200, which is the maximum number that the ALeRCE explorer can accept. "
   ]
  },
  {
   "cell_type": "code",
   "execution_count": null,
   "metadata": {
    "ExecuteTime": {
     "end_time": "2022-11-04T13:13:03.214629Z",
     "start_time": "2022-11-04T13:13:03.211892Z"
    }
   },
   "outputs": [],
   "source": [
    "suffix = \"&count=true&page=1&perPage=1000&sortDesc=true&selectedClassifier=lc_classifier\"\n",
    "url = \"https://alerce.online/?\" + \"&\".join(\"oid=%s\" % i for i in query_results.oid.iloc[:200]) + suffix\n",
    "print(url)"
   ]
  },
  {
   "cell_type": "markdown",
   "metadata": {},
   "source": [
    "Open the link in your browser to see the explore the objects."
   ]
  },
  {
   "cell_type": "code",
   "execution_count": null,
   "metadata": {},
   "outputs": [],
   "source": []
  }
 ],
 "metadata": {
  "kernelspec": {
   "display_name": "Python 3",
   "language": "python",
   "name": "python3"
  },
  "language_info": {
   "codemirror_mode": {
    "name": "ipython",
    "version": 3
   },
   "file_extension": ".py",
   "mimetype": "text/x-python",
   "name": "python",
   "nbconvert_exporter": "python",
   "pygments_lexer": "ipython3",
   "version": "3.8.8"
  },
  "toc": {
   "base_numbering": 1,
   "nav_menu": {},
   "number_sections": true,
   "sideBar": true,
   "skip_h1_title": false,
   "title_cell": "Table of Contents",
   "title_sidebar": "Contents",
   "toc_cell": false,
   "toc_position": {
    "height": "calc(100% - 180px)",
    "left": "10px",
    "top": "150px",
    "width": "388.991px"
   },
   "toc_section_display": true,
   "toc_window_display": true
  },
  "varInspector": {
   "cols": {
    "lenName": 16,
    "lenType": 16,
    "lenVar": 40
   },
   "kernels_config": {
    "python": {
     "delete_cmd_postfix": "",
     "delete_cmd_prefix": "del ",
     "library": "var_list.py",
     "varRefreshCmd": "print(var_dic_list())"
    },
    "r": {
     "delete_cmd_postfix": ") ",
     "delete_cmd_prefix": "rm(",
     "library": "var_list.r",
     "varRefreshCmd": "cat(var_dic_list()) "
    }
   },
   "types_to_exclude": [
    "module",
    "function",
    "builtin_function_or_method",
    "instance",
    "_Feature"
   ],
   "window_display": false
  }
 },
 "nbformat": 4,
 "nbformat_minor": 2
}
