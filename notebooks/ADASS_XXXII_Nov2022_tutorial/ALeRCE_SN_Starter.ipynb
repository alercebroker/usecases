{
 "cells": [
  {
   "cell_type": "markdown",
   "metadata": {},
   "source": [
    "# ALeRCE supernova starter notebook\n",
    "\n",
    "```Author: Francisco Förster, Last updated: 20221102```\n",
    "\n",
    "ALeRCE starter notebook for supernova science using the new alerce client, API, and a direct database connection. You will also use the ALeRCE DELIGHT tool to automatically identify host galaxies in SNe.\n",
    "\n",
    "For more information about the ALeRCE broker, please visit http://alerce.science/, or read our publications:\n",
    "* The Automatic Learning for the Rapid Classification of Events (ALeRCE) Alert Broker, [Förster et al. 2021, AJ, 161, 242](https://arxiv.org/abs/2008.03303)\n",
    "* Alert Classification for the ALeRCE Broker System: The Real-time Stamp Classifier, [Carrasco-Davis et al. 2021, AJ, 162, 231](https://arxiv.org/abs/2008.03309)\n",
    "* Alert Classification for the ALeRCE Broker System: The Light Curve Classifier, [Sánchez-Sáez et al. 2021, AJ, 161, 141](https://arxiv.org/abs/2008.03311)\n",
    "\n",
    "Note that this notebook uses the latest ALeRCE client and API, which can be installed with `pip install alerce`\n",
    "\n",
    "*It is highly recommended that you try this notebook in Google Colab using the following [link](https://colab.research.google.com/github/alercebroker/usecases/blob/master/notebooks/ALeRCE_SN_Starter.ipynb).*\n",
    "This will avoid you from having to sort out library installation problems and focus on the contents of the tutorial. You can try installing the dependencies later in your own system. However, note that in this notebook we use ipyaladin, which does not currently work in Google Colab."
   ]
  },
  {
   "cell_type": "markdown",
   "metadata": {},
   "source": [
    "# Introduction"
   ]
  },
  {
   "cell_type": "markdown",
   "metadata": {},
   "source": [
    "In this notebook we will query data from a single supernova in order to plot its apparent and absolute magnitude light curve, applying Milky Way dust attenuation corrections as well. We will also see its image stamp, and visualize the host galaxy to make sure the redshift used is correct. We will identify the host galaxy using the ALeRCE DELIGHT tool (https://pypi.org/project/astro-delight/) and then use NED to get the spectroscopic redshift if available.\n",
    "\n",
    "Then, we will query many supernova using the ALeRCE client, showing the distribution of peak magnitudes and dust attenuations.\n",
    "\n",
    "Finally, we will repeat this calculation for a much larger sample size connecting directly to the ALeRCE database, doing more advanced queries like extracting features, probabilities, and light curves for a large set of objects."
   ]
  },
  {
   "cell_type": "markdown",
   "metadata": {},
   "source": [
    "# Requirements"
   ]
  },
  {
   "cell_type": "markdown",
   "metadata": {},
   "source": [
    "Basic requirements"
   ]
  },
  {
   "cell_type": "code",
   "execution_count": null,
   "metadata": {
    "ExecuteTime": {
     "end_time": "2022-11-02T18:56:26.311152Z",
     "start_time": "2022-11-02T18:56:25.723211Z"
    }
   },
   "outputs": [],
   "source": [
    "import sys\n",
    "import pandas as pd\n",
    "import numpy as np\n",
    "import matplotlib.pyplot as plt"
   ]
  },
  {
   "cell_type": "markdown",
   "metadata": {},
   "source": [
    "Astropy"
   ]
  },
  {
   "cell_type": "code",
   "execution_count": null,
   "metadata": {
    "ExecuteTime": {
     "end_time": "2022-11-02T18:56:26.748478Z",
     "start_time": "2022-11-02T18:56:26.312729Z"
    }
   },
   "outputs": [],
   "source": [
    "import astropy.units as u\n",
    "from astropy import coordinates\n",
    "from astropy.time import Time\n",
    "from astropy.table import Table, Column\n",
    "from astropy.coordinates import Distance\n",
    "from astropy.cosmology import WMAP7"
   ]
  },
  {
   "cell_type": "markdown",
   "metadata": {},
   "source": [
    "Install and import pyaladin https://github.com/cds-astro/ipyaladin"
   ]
  },
  {
   "cell_type": "code",
   "execution_count": null,
   "metadata": {
    "ExecuteTime": {
     "end_time": "2022-11-02T18:56:26.751051Z",
     "start_time": "2022-11-02T18:56:26.749642Z"
    }
   },
   "outputs": [],
   "source": [
    "# This won't work in Colab\n",
    "# you may need to restart the notebook after running the following lines\n",
    "#!pip install ipyaladin\n",
    "#!jupyter nbextension enable --py widgetsnbextension\n",
    "#!jupyter nbextension enable --py --sys-prefix ipyaladin"
   ]
  },
  {
   "cell_type": "code",
   "execution_count": null,
   "metadata": {
    "ExecuteTime": {
     "end_time": "2022-11-02T18:56:26.776255Z",
     "start_time": "2022-11-02T18:56:26.751904Z"
    }
   },
   "outputs": [],
   "source": [
    "import ipyaladin as ipyal # see installation instructions here: https://github.com/cds-astro/ipyaladin"
   ]
  },
  {
   "cell_type": "markdown",
   "metadata": {},
   "source": [
    "Astroquery https://astroquery.readthedocs.io/en/latest/"
   ]
  },
  {
   "cell_type": "code",
   "execution_count": null,
   "metadata": {
    "ExecuteTime": {
     "end_time": "2022-11-02T18:56:26.825204Z",
     "start_time": "2022-11-02T18:56:26.777271Z"
    }
   },
   "outputs": [],
   "source": [
    "#!pip install astroquery\n",
    "from astroquery.ned import Ned\n",
    "from astroquery.irsa_dust import IrsaDust"
   ]
  },
  {
   "cell_type": "markdown",
   "metadata": {},
   "source": [
    "Visualization"
   ]
  },
  {
   "cell_type": "code",
   "execution_count": null,
   "metadata": {
    "ExecuteTime": {
     "end_time": "2022-11-02T18:56:26.827663Z",
     "start_time": "2022-11-02T18:56:26.826112Z"
    }
   },
   "outputs": [],
   "source": [
    "from IPython.display import HTML\n",
    "from ipywidgets import Layout, Box, widgets"
   ]
  },
  {
   "cell_type": "markdown",
   "metadata": {},
   "source": [
    "SQL queries using pyscopg2"
   ]
  },
  {
   "cell_type": "code",
   "execution_count": null,
   "metadata": {
    "ExecuteTime": {
     "end_time": "2022-11-02T18:56:26.839244Z",
     "start_time": "2022-11-02T18:56:26.828962Z"
    }
   },
   "outputs": [],
   "source": [
    "#!pip install psycopg2-binary\n",
    "import psycopg2"
   ]
  },
  {
   "cell_type": "markdown",
   "metadata": {},
   "source": [
    "The requests library"
   ]
  },
  {
   "cell_type": "code",
   "execution_count": null,
   "metadata": {
    "ExecuteTime": {
     "end_time": "2022-11-02T18:56:26.842457Z",
     "start_time": "2022-11-02T18:56:26.840879Z"
    }
   },
   "outputs": [],
   "source": [
    "import requests"
   ]
  },
  {
   "cell_type": "markdown",
   "metadata": {},
   "source": [
    "The ALeRCE client <a class=\"anchor\" id=\"client\"></a>"
   ]
  },
  {
   "cell_type": "code",
   "execution_count": null,
   "metadata": {
    "ExecuteTime": {
     "end_time": "2022-11-02T18:56:26.845893Z",
     "start_time": "2022-11-02T18:56:26.843202Z"
    }
   },
   "outputs": [],
   "source": [
    "#!pip install alerce"
   ]
  },
  {
   "cell_type": "code",
   "execution_count": null,
   "metadata": {
    "ExecuteTime": {
     "end_time": "2022-11-02T18:56:26.852641Z",
     "start_time": "2022-11-02T18:56:26.846797Z"
    }
   },
   "outputs": [],
   "source": [
    "from alerce.core import Alerce\n",
    "client = Alerce()"
   ]
  },
  {
   "cell_type": "markdown",
   "metadata": {},
   "source": [
    "The ALeRCE DELIGHT client (https://pypi.org/project/astro-delight/)"
   ]
  },
  {
   "cell_type": "markdown",
   "metadata": {},
   "source": [
    "WARNING: this will try to install tensorflow if you haven't installed it (`pip install tensorflow`). Some people report that their python distribution has problems after trying to install tensorflow."
   ]
  },
  {
   "cell_type": "code",
   "execution_count": null,
   "metadata": {
    "ExecuteTime": {
     "end_time": "2022-11-02T18:56:26.855178Z",
     "start_time": "2022-11-02T18:56:26.853699Z"
    }
   },
   "outputs": [],
   "source": [
    "#!pip install astro-delight"
   ]
  },
  {
   "cell_type": "code",
   "execution_count": null,
   "metadata": {
    "ExecuteTime": {
     "end_time": "2022-11-02T18:56:28.680937Z",
     "start_time": "2022-11-02T18:56:26.856397Z"
    }
   },
   "outputs": [],
   "source": [
    "from delight.delight import *"
   ]
  },
  {
   "cell_type": "markdown",
   "metadata": {},
   "source": [
    "Color blind friendly colors"
   ]
  },
  {
   "cell_type": "code",
   "execution_count": null,
   "metadata": {
    "ExecuteTime": {
     "end_time": "2022-11-02T18:56:28.683554Z",
     "start_time": "2022-11-02T18:56:28.681927Z"
    }
   },
   "outputs": [],
   "source": [
    "# color blind friendly green and red \n",
    "colors = {1: '#56E03A', 2: '#D42F4B'} "
   ]
  },
  {
   "cell_type": "markdown",
   "metadata": {},
   "source": [
    "# Querying and plotting individual objects using the ALeRCE client and DELIGHT"
   ]
  },
  {
   "cell_type": "markdown",
   "metadata": {},
   "source": [
    "In this section we will focus on a single supernova and will extract its basic properties, its light curve and the host."
   ]
  },
  {
   "cell_type": "markdown",
   "metadata": {},
   "source": [
    "## Simple functions to plot light curves"
   ]
  },
  {
   "cell_type": "markdown",
   "metadata": {},
   "source": [
    "We will create a simple function that plots the light curve given an object id (`oid`), a dataframe with detections and a dataframe with non detections. We will first define manually the `oid` that we want to explore (we will select a SN Ia with a known host redshift in NED for test purposes, we will later do queries for a collection of SNe)."
   ]
  },
  {
   "cell_type": "code",
   "execution_count": null,
   "metadata": {
    "ExecuteTime": {
     "end_time": "2022-11-02T18:56:28.689823Z",
     "start_time": "2022-11-02T18:56:28.684789Z"
    }
   },
   "outputs": [],
   "source": [
    "def plotLC(oid, SN_det, SN_nondet):\n",
    "    \n",
    "    fig, ax = plt.subplots(figsize = (14, 7))\n",
    "    labels = {1: 'g', 2: 'r'}\n",
    "    markers = {1: 'o', 2: 's'}\n",
    "    sizes = {1: 30, 2: 60}\n",
    "    \n",
    "    # loop the passbands\n",
    "    for fid in [1, 2]:\n",
    "        \n",
    "        # plot detections if available\n",
    "        mask = SN_det.fid == fid\n",
    "        if np.sum(mask) > 0:\n",
    "            # note that the detections index is candid and that we are plotting the psf corrected magnitudes\n",
    "            ax.errorbar(SN_det[mask].mjd, SN_det[mask].magpsf, \n",
    "                yerr = SN_det[mask].sigmapsf, c=colors[fid], label=labels[fid], marker=markers[fid])\n",
    "        \n",
    "        # plot non detections if available\n",
    "        mask = (SN_nondet.fid == fid) & (SN_nondet.diffmaglim > -900)\n",
    "        if np.sum(mask) > 0:     \n",
    "            # non detections index is mjd\n",
    "            ax.scatter(SN_nondet[mask].mjd, SN_nondet[mask].diffmaglim, c=colors[fid], alpha = 0.5,\n",
    "                marker='v', label=\"lim.mag. %s\" % labels[fid], s=sizes[fid])\n",
    "            \n",
    "    ax.set_title(oid, fontsize=20)\n",
    "    ax.set_xlabel(\"MJD\", fontsize=20)\n",
    "    ax.set_ylabel(\"Apparent magnitude\", fontsize=20)\n",
    "    ax.legend()\n",
    "    ax.set_ylim(ax.get_ylim()[::-1])"
   ]
  },
  {
   "cell_type": "markdown",
   "metadata": {},
   "source": [
    "Then, we will create a function that only gets the light curve (LC) data and plots it if required, the results are then returned to the user as a dictionary. Note that we use the client to query the detections and non detections and that we return the results in pandas format (default is votable)."
   ]
  },
  {
   "cell_type": "code",
   "execution_count": null,
   "metadata": {
    "ExecuteTime": {
     "end_time": "2022-11-02T18:56:28.694625Z",
     "start_time": "2022-11-02T18:56:28.690686Z"
    }
   },
   "outputs": [],
   "source": [
    "def getSNdata(oid, doLC=False):\n",
    "\n",
    "    results = {\"oid\": oid}\n",
    "        \n",
    "    # query detections\n",
    "    SN_det = client.query_detections(oid, format='pandas')\n",
    "    SN_det = SN_det.sort_values(\"mjd\")\n",
    "    results[\"lc_det\"] = SN_det\n",
    "        \n",
    "    # query non detections\n",
    "    SN_nondet = client.query_non_detections(oid, format='pandas')\n",
    "    SN_nondet = SN_nondet.sort_values(\"mjd\")\n",
    "    results[\"lc_nondet\"] = SN_nondet\n",
    "    \n",
    "    # plot the LC\n",
    "    if doLC:\n",
    "        plotLC(oid, SN_det, SN_nondet)\n",
    "        \n",
    "    # return data\n",
    "    return results"
   ]
  },
  {
   "cell_type": "markdown",
   "metadata": {
    "ExecuteTime": {
     "end_time": "2019-05-28T03:02:47.774585Z",
     "start_time": "2019-05-28T03:02:47.769536Z"
    }
   },
   "source": [
    "And now we can show the object's light curve given the unique object identifier"
   ]
  },
  {
   "cell_type": "code",
   "execution_count": null,
   "metadata": {
    "ExecuteTime": {
     "end_time": "2022-11-02T18:56:28.698589Z",
     "start_time": "2022-11-02T18:56:28.695545Z"
    }
   },
   "outputs": [],
   "source": [
    "seloid = \"ZTF20acbovrt\" "
   ]
  },
  {
   "cell_type": "code",
   "execution_count": null,
   "metadata": {
    "ExecuteTime": {
     "end_time": "2022-11-02T18:56:29.727716Z",
     "start_time": "2022-11-02T18:56:28.699300Z"
    }
   },
   "outputs": [],
   "source": [
    "results = getSNdata(seloid, doLC=True)"
   ]
  },
  {
   "cell_type": "markdown",
   "metadata": {},
   "source": [
    "You can see the detections and non detections in g and r bands. The SN shows a secondary r band bump, which is characteristic of normal SNe Ia."
   ]
  },
  {
   "cell_type": "markdown",
   "metadata": {},
   "source": [
    "## Using DELIGHT to predict the host position"
   ]
  },
  {
   "cell_type": "markdown",
   "metadata": {},
   "source": [
    "Now we will use the [DELIGHT](https://ui.adsabs.harvard.edu/abs/2022AJ....164..195F/abstract) library to estimate the position of the host. This is important to query the correct position of the sky to extract sources near the center of the host and with this information estimate its redshift and then the distance to the supernova."
   ]
  },
  {
   "cell_type": "code",
   "execution_count": null,
   "metadata": {
    "ExecuteTime": {
     "end_time": "2022-11-02T18:56:29.884589Z",
     "start_time": "2022-11-02T18:56:29.728493Z"
    }
   },
   "outputs": [],
   "source": [
    "obj = client.query_object(seloid)"
   ]
  },
  {
   "cell_type": "code",
   "execution_count": null,
   "metadata": {
    "ExecuteTime": {
     "end_time": "2022-11-02T18:56:29.888636Z",
     "start_time": "2022-11-02T18:56:29.885602Z"
    }
   },
   "outputs": [],
   "source": [
    "def gethost(name, ra, dec, doplot=False):\n",
    "    dclient = Delight(\"./\", [name], [ra], [dec])\n",
    "    dclient.download()\n",
    "    dclient.get_pix_coords()\n",
    "    dclient.compute_multiresolution(nlevels=5, domask=False, doobject=True, doplot=False)\n",
    "    dclient.load_model()\n",
    "    dclient.preprocess()\n",
    "    dclient.predict()\n",
    "    if doplot:\n",
    "        dclient.plot_host(name)\n",
    "    display(dclient.df)\n",
    "    return dclient.df.loc[name].ra_delight, dclient.df.loc[name].dec_delight"
   ]
  },
  {
   "cell_type": "code",
   "execution_count": null,
   "metadata": {
    "ExecuteTime": {
     "end_time": "2022-11-02T18:56:35.889273Z",
     "start_time": "2022-11-02T18:56:29.889861Z"
    }
   },
   "outputs": [],
   "source": [
    "ra_host, dec_host = gethost(seloid, obj[\"meanra\"], obj[\"meandec\"], doplot=True)"
   ]
  },
  {
   "cell_type": "markdown",
   "metadata": {},
   "source": [
    "You can see that DELIGHT was able to correctly predict the position of the host (white circle). The library uses a multi resolution representation of the host image and then a convolutional neural network to predict eight position vectors after doing rotations and flips. The average of these eight vectors is used as the prediction. "
   ]
  },
  {
   "cell_type": "markdown",
   "metadata": {},
   "source": [
    "## Advanced plotting functions including dust and distance attenuation corrections  <a class=\"anchor\" id=\"advancedfunctions\"></a>"
   ]
  },
  {
   "cell_type": "markdown",
   "metadata": {},
   "source": [
    "Now we will modify our previous function to receive a dictionary with attenuations due to Galactic extinction, as well as the redshift. This will allow us to get absolute magnitudes (assuming no K-corrections) in restframe days. Note that we use astroquery Distance and WMAP7 objects, as well as mag units."
   ]
  },
  {
   "cell_type": "code",
   "execution_count": null,
   "metadata": {
    "ExecuteTime": {
     "end_time": "2022-11-02T18:56:35.900748Z",
     "start_time": "2022-11-02T18:56:35.890254Z"
    }
   },
   "outputs": [],
   "source": [
    "def plotLC(oid, SN_det, SN_nondet, A=None, redshift=None):\n",
    "    \n",
    "    fig, ax = plt.subplots(figsize = (14, 7))\n",
    "    labels = {1: 'g', 2: 'r'}\n",
    "    markers = {1: 'o', 2: 's'}\n",
    "    sizes = {1: 30, 2: 60}\n",
    "    \n",
    "    # distmod: distance modulus, reftime: reference time\n",
    "    if redshift is not None:\n",
    "        distmod = float(Distance(z=redshift, cosmology=WMAP7).distmod / u.mag)\n",
    "        print(f\"Redshift: {redshift}, Distance modulus: {distmod}\")\n",
    "        reftime = SN_det.mjd.min() # use the maximum as reference\n",
    "    else:\n",
    "        distmod = 0\n",
    "        reftime = 0\n",
    "        redshift = 0\n",
    "        \n",
    "    # loop the passbands\n",
    "    for fid in [1, 2]:\n",
    "        \n",
    "        # galactic extinction in the given band\n",
    "        if A is not None:\n",
    "            A_fid = A[labels[fid]]\n",
    "        else:\n",
    "            A_fid = 0\n",
    "\n",
    "        # plot detections if available\n",
    "        mask = SN_det.fid == fid\n",
    "        if np.sum(mask) > 0:\n",
    "            \n",
    "            # change time to restframe days if redshift is not zero\n",
    "            times = (SN_det[mask].mjd - reftime) / (1. + redshift)\n",
    "            \n",
    "            # note that the detections index is candid and that we are plotting the psf corrected magnitudes\n",
    "            if A_fid != 0:\n",
    "                # plot attenuated light curve with small alpha\n",
    "                ax.errorbar(times, SN_det[mask].magpsf - distmod, \n",
    "                    yerr=SN_det[mask].sigmapsf, c=colors[fid], marker=markers[fid], label=labels[fid], alpha=0.1)\n",
    "                # show dust and distance attenuation corrected light curve\n",
    "                ax.errorbar(times, SN_det[mask].magpsf - A_fid - distmod, \n",
    "                    yerr=SN_det[mask].sigmapsf, c=colors[fid], marker=markers[fid], label=\"%s (ext. corr.)\" % labels[fid])\n",
    "            else:\n",
    "                # correct only for redshift\n",
    "                ax.errorbar(times, SN_det[mask].magpsf - distmod, \n",
    "                    yerr=SN_det[mask].sigmapsf, c=colors[fid], marker=markers[fid], label=labels[fid])\n",
    "        \n",
    "        # plot non detections if available (and correct for dust and distance attenuation)\n",
    "        mask = (SN_nondet.fid == fid) & (SN_nondet.diffmaglim > -900)\n",
    "        if np.sum(mask) > 0:     \n",
    "            times = (SN_nondet[mask].mjd - reftime) / (1. + redshift)\n",
    "            # non detections index is mjd\n",
    "            ax.scatter(times, SN_nondet[mask].diffmaglim - A_fid - distmod, c = colors[fid], alpha = 0.5,\n",
    "                marker='v', label=\"lim.mag. %s\" % labels[fid], s=sizes[fid])\n",
    "            \n",
    "    # labels\n",
    "    if A is not None and redshift != 0:\n",
    "        ax.set_title(\"%s ($A_g=%.3f, A_r=%.3f$, z=%.4f)\" % (oid, A[\"g\"], A[\"r\"], redshift), fontsize=20)\n",
    "    elif redshift != 0:\n",
    "        ax.set_title(\"%s (z=%.4f)\" % (oid, redshift), fontsize=20)\n",
    "    elif A is not None:\n",
    "        ax.set_title(\"%s ($A_g=%.3f, A_r=%.3f$)\" % (oid, A[\"g\"], A[\"r\"]), fontsize=20)\n",
    "    else:\n",
    "        ax.set_title(oid, fontsize=20)\n",
    "        \n",
    "    if redshift == 0:\n",
    "        ax.set_xlabel(\"MJD\", fontsize=20)\n",
    "        ax.set_ylabel(\"Apparent magnitude\", fontsize=20)\n",
    "    else:\n",
    "        ax.set_xlabel(\"Restframe time [days]\", fontsize=20)\n",
    "        ax.set_ylabel(\"Absolute magnitude (no K-corr.)\", fontsize=20)\n",
    "    ax.legend()\n",
    "    ax.set_ylim(ax.get_ylim()[::-1])"
   ]
  },
  {
   "cell_type": "markdown",
   "metadata": {},
   "source": [
    "We will also modify the getSNdata function to get all the necessary information given the object id (`oid`). It now does the following:\n",
    " - display a link to the ALeRCE explorer page for this SN\n",
    " - get the basic SN statistics, this includes the position in the sky (using the ALeRCE client)\n",
    " - get the detections and non detections (using the ALeRCE client)\n",
    " - get the Milky Way dust attenuation at the given position in the sky (using astroquery IrsaDust)\n",
    " - plot the apparent magnitude LC corrected for dust attenuation (using the previously defined function)\n",
    " - use DELIGHT to guess the position of the host galaxy\n",
    " - query NED for galaxies with known redshifts (using astroquery Ned), using the position predicted by DELIGHT\n",
    " - plot the absolute magnitude LC correction for Milky Way dust and distance attenuation, in restframe time and ignoring k-corrections (using the previously defined plotLC function)\n",
    " - plot the first image stamps associated to this SN (using the ALeRCE client)"
   ]
  },
  {
   "cell_type": "code",
   "execution_count": null,
   "metadata": {
    "ExecuteTime": {
     "end_time": "2022-11-02T18:56:35.916376Z",
     "start_time": "2022-11-02T18:56:35.904152Z"
    }
   },
   "outputs": [],
   "source": [
    "def getSNdata(oid, doLC=False, doext=False, dostamp=False, doDELIGHT=False, doNED=False, doredshift=False):\n",
    "\n",
    "    results = {\"oid\": oid}\n",
    "    \n",
    "    # show link\n",
    "    display(HTML(\"<a href='http://alerce.online/object/%s' target=\\\"_blank\\\"> %s <a>\" % (oid, oid)))\n",
    "\n",
    "    # query basic stats\n",
    "    print(\"Querying basic stats...\")\n",
    "    SN_stats = client.query_object(oid, format='pandas')\n",
    "    results[\"stats\"] = SN_stats\n",
    "    \n",
    "    # query detections\n",
    "    print(\"Querying detections...\")\n",
    "    SN_det = client.query_detections(oid, format='pandas')\n",
    "    SN_det = SN_det.sort_values(\"mjd\")\n",
    "    results[\"lc_det\"] = SN_det\n",
    "        \n",
    "    # query non detections\n",
    "    print(\"Querying non detections...\")\n",
    "    SN_nondet = client.query_non_detections(oid, format='pandas')\n",
    "    SN_nondet = SN_nondet.sort_values(\"mjd\")\n",
    "    results[\"lc_nondet\"] = SN_nondet\n",
    "    \n",
    "    # object coordinates\n",
    "    co = coordinates.SkyCoord(ra=float(SN_stats.meanra), dec=float(SN_stats.meandec), unit=(u.deg, u.deg), frame='fk5')\n",
    "    \n",
    "    # get galactic extinction\n",
    "    if doext:\n",
    "        print(\"Querying Galactic extinction...\")\n",
    "        # Galactic extinction (use SFD = D.J. Schlegel, D.P. Finkbeiner, & M. Davis (1998, ApJ, 500, 525))\n",
    "        table = IrsaDust.get_extinction_table(co)\n",
    "        A = {\"g\": float(table[table[\"Filter_name\"] == \"SDSS g\"][\"A_SFD\"]), \"r\": float(table[table[\"Filter_name\"] == \"SDSS r\"][\"A_SFD\"])}\n",
    "        results[\"attenuation\"] = A\n",
    "    else:\n",
    "        A = {\"g\": 0, \"r\": 0}\n",
    "\n",
    "    # plot the LC\n",
    "    if doLC:\n",
    "        print(\"Plot the apparent magnitude light curve...\")\n",
    "        if doext:\n",
    "            plotLC(oid, SN_det, SN_nondet, A)\n",
    "        else:\n",
    "            plotLC(oid, SN_det, SN_nondet)\n",
    "            \n",
    "    # use DELIGHT to predict the host position\n",
    "    if doDELIGHT:\n",
    "        print(\"Using DELIGHT to estimate the host position...\")\n",
    "        delight_host_ra, delight_host_dec = gethost(oid, float(SN_stats.meanra), float(SN_stats.meandec), doplot=True)\n",
    "        co = coordinates.SkyCoord(ra=delight_host_ra, dec=delight_host_dec, unit=(u.deg, u.deg), frame='fk5')\n",
    "\n",
    "    # find NED galaxies\n",
    "    if doNED:\n",
    "        print(\"Using Ned to query the host position...\")\n",
    "        Ned_table = Ned.query_region(co, radius=0.005 * u.deg, equinox='J2000.0')\n",
    "        display(Ned_table)\n",
    "        results[\"ned_table\"] = Ned_table\n",
    "        \n",
    "        # save closest redshift if any\n",
    "        df_ned = Ned_table.to_pandas()\n",
    "        mask=df_ned.Redshift.notna()\n",
    "        if mask.sum() > 0:\n",
    "            results[\"redshift\"] = df_ned.loc[df_ned.loc[mask].Separation.idxmin()].Redshift\n",
    "            print(\"Redshift found! %s\" % results[\"redshift\"])\n",
    "        else:\n",
    "            print(\"No redshift could be found, cannot plot the absolute magnitudes.\")\n",
    "            \n",
    "    # plot absolute value (without K-corrections)\n",
    "    if doredshift:\n",
    "\n",
    "        if type(doredshift) == float and doredshift > 0:\n",
    "            results[\"redshift\"] = doredshift\n",
    "        if \"redshift\" in results.keys():\n",
    "            print(\"Plotting the absolute magnitude light curve...\")\n",
    "            if doext:\n",
    "                plotLC(oid, SN_det, SN_nondet, A, results[\"redshift\"])\n",
    "            else:\n",
    "                plotLC(oid, SN_det, SN_nondet, results[\"redshift\"])            \n",
    "    \n",
    "        \n",
    "    # show the first image stamp\n",
    "    if dostamp:\n",
    "        candid = results[\"lc_det\"].loc[results[\"lc_det\"].has_stamp].candid.min()\n",
    "        stamps = client.get_stamps(oid, candid)\n",
    "        science, ref, difference = stamps[0].data, stamps[1].data, stamps[2].data\n",
    "        fig, ax = plt.subplots(ncols=3, figsize=(12, 6))\n",
    "        for idx, im in enumerate([np.log(science), np.log(ref), difference]):\n",
    "            ax[idx].imshow(im, cmap='viridis') # Log scale for visualization\n",
    "            ax[idx].axes.get_xaxis().set_visible(False)\n",
    "            ax[idx].axes.get_yaxis().set_visible(False)\n",
    "        ax[0].set_title(\"oid: %s, candid: %s (science, reference and difference)\" % (oid, candid), loc='left', fontsize=20)\n",
    "        fig.subplots_adjust(wspace = 0, hspace = 0)\n",
    "        \n",
    "    # return data\n",
    "    return results"
   ]
  },
  {
   "cell_type": "markdown",
   "metadata": {},
   "source": [
    "Now we test these functions with the same SN as before. We selected a SN with a known spectrocopic redshift, but this is usually not the case."
   ]
  },
  {
   "cell_type": "code",
   "execution_count": null,
   "metadata": {
    "ExecuteTime": {
     "end_time": "2022-11-02T18:56:42.931449Z",
     "start_time": "2022-11-02T18:56:35.918607Z"
    },
    "scrolled": false
   },
   "outputs": [],
   "source": [
    "results = getSNdata(seloid, doLC=True, doext=True, dostamp=True, doDELIGHT=True, doNED=True, doredshift=True);"
   ]
  },
  {
   "cell_type": "markdown",
   "metadata": {
    "ExecuteTime": {
     "end_time": "2020-07-15T15:24:43.896265Z",
     "start_time": "2020-07-15T15:24:43.892977Z"
    }
   },
   "source": [
    "The supernova peaks around -19 magnitudes, which is typical for SNe Ia."
   ]
  },
  {
   "cell_type": "markdown",
   "metadata": {},
   "source": [
    "## Using Aladin to select the host galaxy from NED  <a class=\"anchor\" id=\"host\"></a>"
   ]
  },
  {
   "cell_type": "markdown",
   "metadata": {},
   "source": [
    "With these two functions you should be able to hover over the NED sources near the SNe and see whether NED has a registered redshift. This can be used as a sanity check."
   ]
  },
  {
   "cell_type": "code",
   "execution_count": null,
   "metadata": {
    "ExecuteTime": {
     "end_time": "2022-11-02T18:56:42.938111Z",
     "start_time": "2022-11-02T18:56:42.932399Z"
    }
   },
   "outputs": [],
   "source": [
    "info = widgets.HTML()\n",
    "\n",
    "def process_objectHovered(data):\n",
    "    \n",
    "    output = '<font color=\"red\">'\n",
    "    # NED\n",
    "    if data[\"data\"][\"cat_name\"] == \"Ned\":\n",
    "        output = \"<h2>NED</h2>\"\n",
    "        sel_keys = [\"Object Name\", \"Separation\", \"RA\", \"DEC\", \"Type\", \"Redshift\", \"Redshift Flag\", \"Magnitude and Filter\"]\n",
    "    for key in sel_keys:\n",
    "        if key in data[\"data\"].keys():\n",
    "            output += \"<p><font size='1'>%s: %s</p>\" % (key, data[\"data\"][key])\n",
    "    info.value =  '%s' % output"
   ]
  },
  {
   "cell_type": "code",
   "execution_count": null,
   "metadata": {
    "ExecuteTime": {
     "end_time": "2022-11-02T18:56:42.943207Z",
     "start_time": "2022-11-02T18:56:42.939354Z"
    }
   },
   "outputs": [],
   "source": [
    "def show_host(results):\n",
    "    aladin= ipyal.Aladin(target='%s %s' % (float(results[\"stats\"].meanra), float(results[\"stats\"].meandec)), \n",
    "                fov=0.04, survey='P/PanSTARRS/DR1/color-z-zg-g',\n",
    "                reticle_size= 64,\n",
    "                layout=Layout(width='70%'))\n",
    "    box_layout = Layout(display='flex', flex_flow='row', align_items='stretch', width='100%')\n",
    "    box = Box(children=[aladin, info], layout=box_layout)\n",
    "    display(box)\n",
    "    if \"ned_table\" in results:\n",
    "        results[\"ned_table\"][\"cat_name\"] = Column([\"Ned\"], name=\"cat_name\")\n",
    "        aladin.add_table(results[\"ned_table\"])\n",
    "    aladin.add_listener('objectHovered', process_objectHovered)\n",
    "    print(\"Hover mouse to see information about catalog objects\")"
   ]
  },
  {
   "cell_type": "code",
   "execution_count": null,
   "metadata": {
    "ExecuteTime": {
     "end_time": "2022-11-02T18:56:42.961801Z",
     "start_time": "2022-11-02T18:56:42.944250Z"
    }
   },
   "outputs": [],
   "source": [
    "show_host(results)"
   ]
  },
  {
   "cell_type": "markdown",
   "metadata": {},
   "source": [
    "If you hover over the galaxy's NED reported position, you can confirm the redshift. "
   ]
  },
  {
   "cell_type": "markdown",
   "metadata": {},
   "source": [
    "Can you expand this notebook to get photometric redshifts from SDSS?"
   ]
  },
  {
   "cell_type": "markdown",
   "metadata": {},
   "source": [
    "# Query many SN Ia candidates using the client <a class=\"anchor\" id=\"sneiaclient\"></a>"
   ]
  },
  {
   "cell_type": "markdown",
   "metadata": {},
   "source": [
    "The ALeRCE client allows users to access the ALeRCE API and do simple queries to our database. You can get information about each command using the help command. Before doing this let's discuss the taxonomies used by the ALeRCE classifiers. "
   ]
  },
  {
   "cell_type": "markdown",
   "metadata": {},
   "source": [
    "## Classifiers, taxonomies and numeric mappings"
   ]
  },
  {
   "cell_type": "markdown",
   "metadata": {},
   "source": [
    "There are two classifiers used in ALeRCE:\n",
    "\n",
    "1. A stamp based classifier (Carrasco-Davis et al. 2020), which classifies objects based on their first image stamps. The purpose of this classifier is to trigger alerts for young SN candidates and other objects.\n",
    "2. A light curve based classifier (Sánchez-Sáez et al. 2020), which classifies objects based on their light curve. The purpose of this classifier is to provide a more refined classification starting with at least 6 detections in a given band."
   ]
  },
  {
   "cell_type": "markdown",
   "metadata": {},
   "source": [
    "Each classifier has its own taxonomy, which is more refined for the light curve classifier. \n",
    "\n",
    "The stamp classifier contains the following classes:\n",
    "* `agn`\n",
    "* `sn`\n",
    "* `vs`\n",
    "* `asteroid`\n",
    "* `bogus`\n",
    "    \n",
    "The late classifier uses the light curve information and contains the following classes:\n",
    "\n",
    "* `SNIa`\n",
    "* `SNIbc`\n",
    "* `SNII`\n",
    "* `SLSN`\n",
    "* `QSO`\n",
    "* `AGN`\n",
    "* `Blazar`\n",
    "* `CV/Nova`\n",
    "* `YSO`\n",
    "* `DSCT`\n",
    "* `CEP`\n",
    "* `LPV`\n",
    "* `RRL`\n",
    "* `E`\n",
    "* `Periodic-Other`"
   ]
  },
  {
   "cell_type": "markdown",
   "metadata": {},
   "source": [
    "The taxonomy from the light curve classifier is shown below:\n",
    "![Taxonomy](figures/taxonomy_tree.png)\n"
   ]
  },
  {
   "cell_type": "markdown",
   "metadata": {},
   "source": [
    "The light curve classifier classification is explained in detail in Sánchez-Saéz et al. 2021. Its confusion matrix is shown below:\n",
    "\n",
    "![SanchezSaez+2020](figures/SanchezSaez+2020_confusion.png)"
   ]
  },
  {
   "cell_type": "markdown",
   "metadata": {},
   "source": [
    "The recall as a function of magnitude is shown below (note the SN are grouped in this figure)\n",
    "![SanchezSaez+2020](figures/SanchezSaez+2020_recall.png)"
   ]
  },
  {
   "cell_type": "markdown",
   "metadata": {},
   "source": [
    "## Query many objects using the client"
   ]
  },
  {
   "cell_type": "markdown",
   "metadata": {},
   "source": [
    "We will now query the top 1000 SN Ia candidates which exploded at least 70 days after ZTF's 1st light (on Nov 2017), that have a probability > 0.4 of being a SNe Ia according to the light curve classifier, and that have between 10 and 50 detections. We will output the result of the query directly as a pandas dataframe."
   ]
  },
  {
   "cell_type": "code",
   "execution_count": null,
   "metadata": {
    "ExecuteTime": {
     "end_time": "2022-11-02T18:56:44.401741Z",
     "start_time": "2022-11-02T18:56:42.963243Z"
    }
   },
   "outputs": [],
   "source": [
    "min_firstmjd = Time(\"2017-11-01T00:00:00\", format=\"isot\", scale=\"utc\").mjd + 70\n",
    "\n",
    "SNe = client.query_objects(classifier=\"lc_classifier\",\n",
    "                           class_name=\"SNIa\", \n",
    "                           probability=0.4,\n",
    "                           ndet=[10, 50],\n",
    "                           order_by=\"probability\",\n",
    "                           order_mode=\"DESC\",\n",
    "                           first_mjd=[min_firstmjd, None],\n",
    "                           page_size=1000, format='pandas')\n",
    "print(SNe.shape)\n",
    "SNe.set_index(\"oid\", inplace=True)\n",
    "SNe.head()"
   ]
  },
  {
   "cell_type": "markdown",
   "metadata": {},
   "source": [
    "Here you can see the fields available in the dataframe"
   ]
  },
  {
   "cell_type": "code",
   "execution_count": null,
   "metadata": {
    "ExecuteTime": {
     "end_time": "2022-11-02T18:56:44.405006Z",
     "start_time": "2022-11-02T18:56:44.402643Z"
    }
   },
   "outputs": [],
   "source": [
    "\", \".join(list(SNe))"
   ]
  },
  {
   "cell_type": "markdown",
   "metadata": {},
   "source": [
    "This table contains the unique object identifier `oid` as index, the classification class `class`, whether its light curve was corrected `corrected` (see discussion in https://alerce.science/alerce-pipeline/), the light curve length `deltjd`, the time of first detection `firstmjd`, the g-r color at maximum `g_r_max`, the corrected g-r color at maximum `g_r_max_corr`, the mean g-r color `g_r_mean`, the corrected mean g-r color `g_r_mean_corr`, the time of last detection `lastmjd`, the mean declination `meandec`, the mean right ascension `meanra`, the latest time of a raw SNR>3 detection `mjdendhist`, the earliest time of a raw SNR>3 detection `mjdstarthist`, the number of times the candidate fell inside on a ZTF observation `ncovhist`, the number of detections `ndet`, the number of raw SNR>3 detections `ndethist`, the classification probability `probability`, the declination standard deviation `sigmadec`, the right ascension standard deviation `sigmara`, whether the object is likely stellar `stellar`, and the version of the preprocessing step `step_id_corr`."
   ]
  },
  {
   "cell_type": "markdown",
   "metadata": {},
   "source": [
    "Let us look at the distribution of peak g-r colors"
   ]
  },
  {
   "cell_type": "code",
   "execution_count": null,
   "metadata": {
    "ExecuteTime": {
     "end_time": "2022-11-02T18:56:44.514801Z",
     "start_time": "2022-11-02T18:56:44.406024Z"
    }
   },
   "outputs": [],
   "source": [
    "fig, ax = plt.subplots()\n",
    "ax.hist(SNe.g_r_max, bins=50)\n",
    "ax.set_xlabel(\"g-r @ max\", fontsize=20)"
   ]
  },
  {
   "cell_type": "markdown",
   "metadata": {},
   "source": [
    "Let us also look at distribution of image difference number of detections."
   ]
  },
  {
   "cell_type": "code",
   "execution_count": null,
   "metadata": {
    "ExecuteTime": {
     "end_time": "2022-11-02T18:56:44.602604Z",
     "start_time": "2022-11-02T18:56:44.515894Z"
    }
   },
   "outputs": [],
   "source": [
    "fig, ax = plt.subplots()\n",
    "SNe.ndet.plot.hist(ax=ax, label=\"ndet\", bins=20)\n",
    "ax.set_xlabel(\"Number of detections\", fontsize=20)"
   ]
  },
  {
   "cell_type": "markdown",
   "metadata": {},
   "source": [
    "## Visualize two more examples"
   ]
  },
  {
   "cell_type": "markdown",
   "metadata": {
    "ExecuteTime": {
     "end_time": "2019-06-28T04:57:13.825249Z",
     "start_time": "2019-06-28T04:57:13.819317Z"
    }
   },
   "source": [
    "Finally, we will use the function from the previous section to plot two more examples: one where the redshift can be found and another where it is not found."
   ]
  },
  {
   "cell_type": "code",
   "execution_count": null,
   "metadata": {
    "ExecuteTime": {
     "end_time": "2022-11-02T18:56:51.442487Z",
     "start_time": "2022-11-02T18:56:44.603658Z"
    },
    "scrolled": false
   },
   "outputs": [],
   "source": [
    "getSNdata('ZTF21aapjcqb', doLC = True, doext=True, dostamp=True, doDELIGHT=True, doNED=True, doredshift=True);"
   ]
  },
  {
   "cell_type": "code",
   "execution_count": null,
   "metadata": {
    "ExecuteTime": {
     "end_time": "2022-11-02T18:56:58.381151Z",
     "start_time": "2022-11-02T18:56:51.443507Z"
    },
    "scrolled": false
   },
   "outputs": [],
   "source": [
    "getSNdata('ZTF20abxjefm', doLC = True, doext=True, dostamp=True, doDELIGHT=True, doNED=True, doredshift=True);"
   ]
  },
  {
   "cell_type": "markdown",
   "metadata": {},
   "source": [
    "# Query SN candidates using a direct DB connection <a class=\"anchor\" id=\"sneiadb\"></a>"
   ]
  },
  {
   "cell_type": "markdown",
   "metadata": {},
   "source": [
    "The previous way of querying candidates is good for relatively simple queries. However, if we want to do more complex queries the best solution may be to connect directly to the DB. We show how to do this here with different SN related use cases.\n",
    "\n",
    "In this section you will query the tables:\n",
    "* `object`: filter and bandpass aggregated properties per object\n",
    "* `probability`: classification probabilities\n",
    "* `magstat`: time aggregated bandpass dependent properties per object\n",
    "* `ps1_ztf`: closest PanSTARRS xmatch properties (within 2\")\n",
    "* `detection`: individual detections, time and bandpass disaggregated\n",
    "* `feature`: advanced object features, used for machine learning classification\n",
    "* `non_detection`: limiting magnitudes in previous observations, the largest table of all"
   ]
  },
  {
   "cell_type": "markdown",
   "metadata": {},
   "source": [
    "You will need to use the read-only credentials available in the repository. Please be kind with the queries 😅"
   ]
  },
  {
   "cell_type": "code",
   "execution_count": null,
   "metadata": {
    "ExecuteTime": {
     "end_time": "2022-11-02T18:56:58.409965Z",
     "start_time": "2022-11-02T18:56:58.382249Z"
    }
   },
   "outputs": [],
   "source": [
    "url = \"https://raw.githubusercontent.com/alercebroker/usecases/master/alercereaduser_v4.json\"\n",
    "params = requests.get(url).json()['params']"
   ]
  },
  {
   "cell_type": "markdown",
   "metadata": {},
   "source": [
    "Now we open a connection to the DB"
   ]
  },
  {
   "cell_type": "code",
   "execution_count": null,
   "metadata": {
    "ExecuteTime": {
     "end_time": "2022-11-02T18:56:59.268760Z",
     "start_time": "2022-11-02T18:56:58.411930Z"
    }
   },
   "outputs": [],
   "source": [
    "conn = psycopg2.connect(dbname=params['dbname'], user=params['user'], host=params['host'], password=params['password'])"
   ]
  },
  {
   "cell_type": "markdown",
   "metadata": {},
   "source": [
    "We will first show all the available tables for you to explore."
   ]
  },
  {
   "cell_type": "code",
   "execution_count": null,
   "metadata": {
    "ExecuteTime": {
     "end_time": "2022-11-02T18:56:59.610209Z",
     "start_time": "2022-11-02T18:56:59.271574Z"
    }
   },
   "outputs": [],
   "source": [
    "query = \"\"\"\n",
    "SELECT table_name  FROM information_schema.tables\n",
    "WHERE table_schema='alerce'\n",
    "ORDER BY table_name;\n",
    "\"\"\"\n",
    "tables = pd.read_sql_query(query, conn)\n",
    "tables.sort_values(by=\"table_name\")"
   ]
  },
  {
   "cell_type": "markdown",
   "metadata": {},
   "source": [
    "You can see all the tables used in the new version of our database. The most relevant tables are, moving from less to more aggregation:\n",
    "\n",
    "* `non_detection`: one row per non-detection per object, the limiting magnitudes\n",
    "* `detection`: one row per detection, light curves and other relevant time dependent information\n",
    "* `data_quality`: one row per detection, data quality related time dependent information\n",
    "* `magstat`: one row per object per filter, statistics per bandpass per object\n",
    "* `object`: one row per object, basic object statistics\n",
    "* `probability`: one row per object per classifier and class, the probabilities of every object\n",
    "* `reference`: one row per object per reference image, object statistics for every reference image used\n",
    "* `feature`: one row per object per feature, object computed features\n",
    "* `xmatch`: one row per object per external catalog, the table that points to the detailed xmatch tables\n",
    "* `allwise, ps1_ztf, gaia_ztf, ss_stf`: one row per object, xmatch tables\n"
   ]
  },
  {
   "cell_type": "markdown",
   "metadata": {},
   "source": [
    "For completeness, we now show all columns available in all tables!"
   ]
  },
  {
   "cell_type": "code",
   "execution_count": null,
   "metadata": {
    "ExecuteTime": {
     "end_time": "2022-11-02T18:57:03.137240Z",
     "start_time": "2022-11-02T18:56:59.611261Z"
    },
    "scrolled": true
   },
   "outputs": [],
   "source": [
    "alltabs = []\n",
    "for tab in sorted(tables.table_name):\n",
    "    cols = pd.DataFrame()\n",
    "    query = \"select column_name, data_type from information_schema.columns where table_name = '%s';\" % tab\n",
    "    results = pd.read_sql_query(query, conn)\n",
    "    results[\"table\"] = tab\n",
    "    alltabs.append(results)\n",
    "dftab = pd.concat(alltabs)\n",
    "pd.options.display.max_rows = 999\n",
    "display(dftab[[\"table\", \"column_name\", \"data_type\"]])\n",
    "pd.options.display.max_rows = 101"
   ]
  },
  {
   "cell_type": "markdown",
   "metadata": {},
   "source": [
    "## Object and probability tables\n",
    "\n",
    "Now we can do a query asking for SN candidates. For this it is important to understand the probability table. This table contains all the classifications probabilities, for every object, every classifier, and every available class. An object will be in many rows of this table, with the idea of being flexible to future changes in the taxonomy. \n",
    "\n",
    "For example, an object classified by the light curve classifier (classifier_name=lc_classifier) will appear in all the available classes, e.g., class_name='SNIa' or class_name='AGN', independently of whether this is the most likely class. The most likely class can be quickly obtained with the ranking column (ranking=1). For example, if we want to find the probabilities of the objects most likely to be RR Lyrae, we would look for objects with classifier_name='lc_classifier', class_name='RRL' and ranking=1. The probabilities will be given by the probability column. \n",
    "\n",
    "Now, we will query objects that are most likely to be SNe (ranking=1 among classes SNIa, SNII, SNIbc, SLSN) with a probability larger than 0.2. For this we will do a complex query, including an inner join between object and probability and selecting those oids to be considered from probability.\n",
    "\n",
    "WARNING: the number of objects may increase with time. Please be careful when decreasing the minimum probability.\n",
    "\n",
    "~12 s"
   ]
  },
  {
   "cell_type": "code",
   "execution_count": null,
   "metadata": {
    "ExecuteTime": {
     "end_time": "2022-11-02T18:57:06.355755Z",
     "start_time": "2022-11-02T18:57:03.138209Z"
    }
   },
   "outputs": [],
   "source": [
    "query='''\n",
    "SELECT\n",
    "    object.oid, object.meanra, object.meandec, object.ndet,\n",
    "    object.firstMJD, object.deltajd, object.g_r_max,\n",
    "    probability.classifier_name, probability.class_name,\n",
    "    probability.ranking, probability.probability\n",
    "FROM\n",
    "    object INNER JOIN probability\n",
    "    ON object.oid=probability.oid\n",
    "WHERE\n",
    "    probability.classifier_name='lc_classifier' \n",
    "    AND object.oid IN \n",
    "(\n",
    "SELECT\n",
    "    oid\n",
    "FROM\n",
    "    probability\n",
    "WHERE\n",
    "    classifier_name='lc_classifier'\n",
    "    AND class_name IN ('SNIa', 'SNIbc', 'SNII', 'SLSN')\n",
    "    AND ranking=1\n",
    "    AND probability > 0.5\n",
    ")\n",
    "'''\n",
    "\n",
    "SNe = pd.read_sql_query(query, conn)\n",
    "print(SNe.shape)\n",
    "SNe.set_index('oid', inplace=True)\n",
    "SNe.head()"
   ]
  },
  {
   "cell_type": "markdown",
   "metadata": {},
   "source": [
    "Let's look at all the appearances of the first SN above"
   ]
  },
  {
   "cell_type": "code",
   "execution_count": null,
   "metadata": {
    "ExecuteTime": {
     "end_time": "2022-11-02T18:57:06.370809Z",
     "start_time": "2022-11-02T18:57:06.356619Z"
    },
    "scrolled": false
   },
   "outputs": [],
   "source": [
    "SNe.loc[SNe.iloc[[0]].index]"
   ]
  },
  {
   "cell_type": "markdown",
   "metadata": {},
   "source": [
    "You can see that each object appears in many rows of the table, one row per class in the taxonomy of the classifier.\n",
    "\n",
    "We will create a view of the table above by converting class names into columns, using multi indexing for probabilities and rankings. Note that this is not a copy, but only a different view of the same table."
   ]
  },
  {
   "cell_type": "code",
   "execution_count": null,
   "metadata": {
    "ExecuteTime": {
     "end_time": "2022-11-02T18:57:06.415769Z",
     "start_time": "2022-11-02T18:57:06.372094Z"
    }
   },
   "outputs": [],
   "source": [
    "SNe_p = SNe.pivot(columns=\"class_name\")#, values=['probability', 'ranking'])\n",
    "SNe_p.head()"
   ]
  },
  {
   "cell_type": "markdown",
   "metadata": {},
   "source": [
    "You can access the probability, ranking, or any other column using multiindices:"
   ]
  },
  {
   "cell_type": "code",
   "execution_count": null,
   "metadata": {
    "ExecuteTime": {
     "end_time": "2022-11-02T18:57:06.423936Z",
     "start_time": "2022-11-02T18:57:06.416898Z"
    }
   },
   "outputs": [],
   "source": [
    "SNe_p.loc[SNe_p.iloc[[0]].index].probability.SNIbc, SNe_p.loc[SNe_p.iloc[[0]].index].ranking.SNIbc"
   ]
  },
  {
   "cell_type": "markdown",
   "metadata": {},
   "source": [
    "Let's look at the distribution of SNII probabilities for the objects most likely to be SNII."
   ]
  },
  {
   "cell_type": "code",
   "execution_count": null,
   "metadata": {
    "ExecuteTime": {
     "end_time": "2022-11-02T18:57:06.510586Z",
     "start_time": "2022-11-02T18:57:06.425233Z"
    }
   },
   "outputs": [],
   "source": [
    "fig, ax = plt.subplots()\n",
    "mask = (SNe_p.ranking.SNII == 1)\n",
    "ax.hist(SNe_p.loc[mask].probability.SNII, bins=30)\n",
    "ax.set_xlabel(\"SNII prob\", fontsize=20)"
   ]
  },
  {
   "cell_type": "markdown",
   "metadata": {},
   "source": [
    "Now we will focus on objects whose SN II probability is the 1st or 2nd most likely value. Let's compare their probabilities with SN Ia probabilities."
   ]
  },
  {
   "cell_type": "code",
   "execution_count": null,
   "metadata": {
    "ExecuteTime": {
     "end_time": "2022-11-02T18:57:06.599106Z",
     "start_time": "2022-11-02T18:57:06.511524Z"
    }
   },
   "outputs": [],
   "source": [
    "fig, ax = plt.subplots(figsize=(12, 8))\n",
    "# objects whose first or second most likely class is SNe II\n",
    "mask = SNe_p.ranking.SNII.isin([1, 2])\n",
    "\n",
    "ax.scatter(SNe_p.loc[mask].probability.SNII, SNe_p.loc[mask].probability.SNIa, marker='.', alpha=0.3)\n",
    "ax.plot([0, 0.5], [0, 0.5], c='r', alpha=0.1)\n",
    "ax.set_xlabel(\"SNII prob\")\n",
    "ax.set_ylabel(\"SNIa prob\")"
   ]
  },
  {
   "cell_type": "markdown",
   "metadata": {},
   "source": [
    "You can see the objects whose most likely class is SN II at the probability values larger than 0.5. Then, you can see the objects whose second largest probability is SN II at lower values in the x-axis. A fraction of those are actually SNe Ia, seen at the y-axis values greater than 0.5."
   ]
  },
  {
   "cell_type": "markdown",
   "metadata": {},
   "source": [
    "Let's do the same with SNe Ibc and SNe II."
   ]
  },
  {
   "cell_type": "code",
   "execution_count": null,
   "metadata": {
    "ExecuteTime": {
     "end_time": "2022-11-02T18:57:06.687701Z",
     "start_time": "2022-11-02T18:57:06.600285Z"
    }
   },
   "outputs": [],
   "source": [
    "fig, ax = plt.subplots(figsize=(12, 8))\n",
    "# objects whose first or second most likely class is SNe II\n",
    "mask = SNe_p.ranking.SNII.isin([1, 2])\n",
    "\n",
    "ax.scatter(SNe_p.loc[mask].probability.SNII, SNe_p.loc[mask].probability.SNIbc, marker='.', alpha=0.3)\n",
    "ax.plot([0.2, 0.5], [0.2, 0.5], c='r', alpha=0.1)\n",
    "ax.set_xlabel(\"SNII prob\", fontsize=20)\n",
    "ax.set_ylabel(\"SNIbc prob\", fontsize=20)"
   ]
  },
  {
   "cell_type": "markdown",
   "metadata": {},
   "source": [
    "You can see a similar distribution, but now you can also see some cases where the two probabilities are similar, when 0.5 > P(SN Ibc) > P(SN II)."
   ]
  },
  {
   "cell_type": "markdown",
   "metadata": {},
   "source": [
    "Now let's compare the light curve lengths of SN II and SN Ia, which should the most obvious difference between SNe II and SNe Ia"
   ]
  },
  {
   "cell_type": "code",
   "execution_count": null,
   "metadata": {
    "ExecuteTime": {
     "end_time": "2022-11-02T18:57:06.878417Z",
     "start_time": "2022-11-02T18:57:06.688620Z"
    }
   },
   "outputs": [],
   "source": [
    "fig, ax = plt.subplots(figsize=(12, 8))\n",
    "for idx, sn in enumerate([\"SNIa\", \"SNII\"]):\n",
    "    mask = SNe_p.ranking[sn] == 1# & (SNe.class_name == sn)\n",
    "    ax.hist(SNe_p.loc[mask].deltajd[sn], bins=50, label=sn, alpha=0.5, density=True)\n",
    "ax.set_xlabel(\"Lightcurve length [days]\", fontsize=20)\n",
    "ax.set_ylabel(\"pdf\", fontsize=20)\n",
    "ax.legend()"
   ]
  },
  {
   "cell_type": "markdown",
   "metadata": {},
   "source": [
    "We confirm that SNe II are longer lived than SNe Ia, but there are a few very long light curves that could be missclassifications. We will remove objects with lengths larger than 500 days."
   ]
  },
  {
   "cell_type": "code",
   "execution_count": null,
   "metadata": {
    "ExecuteTime": {
     "end_time": "2022-11-02T18:57:06.886469Z",
     "start_time": "2022-11-02T18:57:06.879272Z"
    }
   },
   "outputs": [],
   "source": [
    "SNe = SNe.loc[SNe.deltajd < 500]"
   ]
  },
  {
   "cell_type": "markdown",
   "metadata": {},
   "source": [
    "## Magstat table\n",
    "\n",
    "Let's now compare the peak magnitudes from SNe Ia and SNe II. Since these are statistics per band we need to access the table magstat:\n",
    "\n",
    "~5 s"
   ]
  },
  {
   "cell_type": "code",
   "execution_count": null,
   "metadata": {
    "ExecuteTime": {
     "end_time": "2022-11-02T18:57:08.083281Z",
     "start_time": "2022-11-02T18:57:06.887983Z"
    }
   },
   "outputs": [],
   "source": [
    "query = '''\n",
    "SELECT\n",
    "    *\n",
    "FROM\n",
    "    magstat\n",
    "WHERE\n",
    "    oid in (%s)\n",
    "''' % \",\".join([\"'%s'\" % oid for oid in SNe.loc[(SNe.ranking == 1)].index.unique()])\n",
    "magstats = pd.read_sql_query(query, conn)\n",
    "magstats.set_index(\"oid\", inplace=True)\n",
    "magstats.head()"
   ]
  },
  {
   "cell_type": "markdown",
   "metadata": {},
   "source": [
    "Let's show all the available columns:"
   ]
  },
  {
   "cell_type": "code",
   "execution_count": null,
   "metadata": {
    "ExecuteTime": {
     "end_time": "2022-11-02T18:57:08.087222Z",
     "start_time": "2022-11-02T18:57:08.084438Z"
    }
   },
   "outputs": [],
   "source": [
    "\", \".join(list(magstats))"
   ]
  },
  {
   "cell_type": "markdown",
   "metadata": {},
   "source": [
    "The available columns are the unique band identifier `fid`, whether the object is likely stellar `stellar`, whether the light curve has been corrected `corrected`, the number of detections per band `ndet`, how many of them have a likely problematic correction `ndubious`, the rate of change w.r.t. the last non-detection at the first detection `dmdt_first`, the magnitude change w.r.t. the last non-detection at the first detection `dm_first`, its error `sigmadm_first` and the time difference `dt_first`, the mean magnitude in the given band `magmean`, the median magnitude in the given band `magmedian`, the maximum magnitude `magmax`, the minimum magnitude `magmin`, the dispersion `magsigma`, the last magnitude `maglast`, the first magnitude `magfirst`, the corrected mean value `magmean_corr`, the corrected median value `magmedian_corr`, the corrected maximum value `magmax_corr`, the corrected minimum value `magmin_corr`, the corrected magnitude dispersion `magsigma_corr`, the last corrected magnitude `maglast_corr`, the first corrected magnitude `magfirst_corr`, the time of first detection in the given band `firstmjd`, the time of last detection in the given band `lastmjd`, the processing step identifier `step_id_corr`, and the fraction of saturated values `saturation_rate`"
   ]
  },
  {
   "cell_type": "markdown",
   "metadata": {},
   "source": [
    "We will investigate magmin per band:"
   ]
  },
  {
   "cell_type": "code",
   "execution_count": null,
   "metadata": {
    "ExecuteTime": {
     "end_time": "2022-11-02T18:57:08.183182Z",
     "start_time": "2022-11-02T18:57:08.088418Z"
    }
   },
   "outputs": [],
   "source": [
    "fig, ax = plt.subplots()   \n",
    "# first, we select the object ids of objects with g band information\n",
    "oidg = magstats.loc[(magstats.fid == 1)].index\n",
    "# then, we select objects which are among the previous objects and which have r band information as well\n",
    "oidgr = magstats.loc[(magstats.fid == 2) & magstats.index.isin(oidg)].index\n",
    "# now we plot them selecting the g and r bands\n",
    "ax.scatter(magstats.loc[magstats.fid == 1].loc[oidgr].magmin, magstats.loc[magstats.fid == 2].loc[oidgr].magmin, marker='.', alpha=0.3)\n",
    "ax.set_xlabel(\"mag min g\", fontsize=20)\n",
    "ax.set_ylabel(\"mag min r\", fontsize=20)\n",
    "ax.set_xlim(ax.get_xlim()[::-1])\n",
    "ax.set_ylim(ax.get_ylim()[::-1])"
   ]
  },
  {
   "cell_type": "markdown",
   "metadata": {},
   "source": [
    "Another interesting property stored in magstat is the initial rise from the previous detection. This can be used to detect fast rising SNe. Let's plot those objects with large dmdt_first and whose dt_first is not too small (this can lead to divergences)."
   ]
  },
  {
   "cell_type": "code",
   "execution_count": null,
   "metadata": {
    "ExecuteTime": {
     "end_time": "2022-11-02T18:58:10.029889Z",
     "start_time": "2022-11-02T18:58:09.809709Z"
    }
   },
   "outputs": [],
   "source": [
    "fig, ax = plt.subplots()\n",
    "ax.hist(magstats.loc[(magstats.dt_first > 0.5) & (magstats.dmdt_first < 0)].dmdt_first, bins=50, log=True);\n",
    "ax.set_xlabel(\"dm/dt @ first detection\", fontsize=20)"
   ]
  },
  {
   "cell_type": "markdown",
   "metadata": {},
   "source": [
    "You can see that there are a few objects which rise very fast, let's look at the fastest objects which are very likely SNII, known to rise very fast after due to the prevalence of wind shock breakouts (see e.g. [Förster et al. 2018](https://ui.adsabs.harvard.edu/abs/2018NatAs...2..808F/abstract)):"
   ]
  },
  {
   "cell_type": "code",
   "execution_count": null,
   "metadata": {
    "ExecuteTime": {
     "end_time": "2022-11-02T18:57:08.425861Z",
     "start_time": "2022-11-02T18:57:08.392447Z"
    }
   },
   "outputs": [],
   "source": [
    "seloids = magstats.loc[(magstats.dt_first > 0.5) & (magstats.dmdt_first < 0)].index # first get indices sorted by oid\n",
    "seloids = SNe.loc[SNe.index.isin(seloids) & (SNe.class_name == \"SNII\") & (SNe.probability > 0.4)].index\n",
    "seloids = magstats.loc[seloids].sort_values(\"dmdt_first\").index.unique()[:6]\n",
    "for oid in seloids:\n",
    "    display(magstats.loc[oid][[\"dmdt_first\", \"fid\"]])\n",
    "    alerceonline = \"http://alerce.online/object\"\n",
    "    display(HTML(\"<a href='%s/%s' target=\\\"_blank\\\"> %s <a>\" % (alerceonline, oid, oid)))"
   ]
  },
  {
   "cell_type": "markdown",
   "metadata": {},
   "source": [
    "Let's generate a link to explore the light curves in the ALeRCE explorer."
   ]
  },
  {
   "cell_type": "code",
   "execution_count": null,
   "metadata": {
    "ExecuteTime": {
     "end_time": "2022-11-02T18:57:08.430126Z",
     "start_time": "2022-11-02T18:57:08.427020Z"
    }
   },
   "outputs": [],
   "source": [
    "suffix = \"&count=true&page=1&perPage=1000&sortDesc=true&selectedClassifier=lc_classifier\"\n",
    "url = \"https://alerce.online/?\" + \"&\".join(\"oid=%s\" % i for i in magstats.loc[seloids].sort_values(\"dmdt_first\").index) + suffix\n",
    "print(url)"
   ]
  },
  {
   "cell_type": "markdown",
   "metadata": {},
   "source": [
    "You can explore each object and check whether these are very fast rising SNe II. "
   ]
  },
  {
   "cell_type": "markdown",
   "metadata": {},
   "source": [
    "## Detection table\n",
    "\n",
    "Let's query the light curves of objects most likely to be SNe II by accessing the detection table.\n",
    "\n",
    "~7 s"
   ]
  },
  {
   "cell_type": "code",
   "execution_count": null,
   "metadata": {
    "ExecuteTime": {
     "end_time": "2022-11-02T18:57:09.970135Z",
     "start_time": "2022-11-02T18:57:08.431420Z"
    }
   },
   "outputs": [],
   "source": [
    "mask = (SNe_p.ranking.SNII == 1)\n",
    "\n",
    "query='''\n",
    "SELECT\n",
    "    oid, candid, mjd, fid, magpsf, sigmapsf\n",
    "FROM\n",
    "    detection\n",
    "WHERE\n",
    "    oid in (%s)\n",
    "''' % \",\".join([\"'%s'\" % oid for oid in SNe_p.loc[mask].index])\n",
    "all_detections = pd.read_sql_query(query, conn)\n",
    "all_detections.set_index(['candid'], inplace=True)\n",
    "print(all_detections.shape)\n",
    "all_detections.head()"
   ]
  },
  {
   "cell_type": "markdown",
   "metadata": {},
   "source": [
    "Note that we use groupby to plot the light curves of each SN separated by filter id"
   ]
  },
  {
   "cell_type": "code",
   "execution_count": null,
   "metadata": {
    "ExecuteTime": {
     "end_time": "2022-11-02T18:57:10.792677Z",
     "start_time": "2022-11-02T18:57:09.971206Z"
    }
   },
   "outputs": [],
   "source": [
    "mask = all_detections.oid.isin(SNe_p.loc[(SNe_p.probability.SNII > 0.4)].index)\n",
    "def plotobject(df):\n",
    "    df.groupby([\"fid\"]).apply(\n",
    "        lambda df: \n",
    "        ax.plot(df.mjd, df.magpsf, alpha=0.3, c='g' if df.fid.unique()==1 else 'r'))\n",
    "fig, ax = plt.subplots(figsize=(24, 6))\n",
    "all_detections.loc[mask].groupby([\"oid\"]).apply(plotobject)\n",
    "ax.set_ylim(ax.get_ylim()[::-1])\n",
    "ax.set_xlabel(\"MJD\", fontsize=20)\n",
    "ax.set_ylabel(\"mag\", fontsize=20)"
   ]
  },
  {
   "cell_type": "markdown",
   "metadata": {},
   "source": [
    "These light curves seem to be OK, with a faster decline in g band followed by a more prominent plateau in r band"
   ]
  },
  {
   "cell_type": "markdown",
   "metadata": {},
   "source": [
    "We will now compare SNe Ia and SNe Ibc, the two most difficult classes to separate."
   ]
  },
  {
   "cell_type": "code",
   "execution_count": null,
   "metadata": {
    "ExecuteTime": {
     "end_time": "2022-11-02T18:57:10.880076Z",
     "start_time": "2022-11-02T18:57:10.793628Z"
    }
   },
   "outputs": [],
   "source": [
    "fig, ax = plt.subplots(figsize=(12, 8))\n",
    "mask = SNe_p.ranking.SNIa.isin([1, 2]) # objects whose first or second most likely class is SNe II\n",
    "\n",
    "ax.scatter(SNe_p.loc[mask].probability.SNIa, SNe_p.loc[mask].probability.SNIbc, marker='.', alpha=0.3)\n",
    "ax.plot([0.2, 0.5], [0.2, 0.5], c='r', alpha=0.1)\n",
    "ax.set_xlabel(\"SNII prob\", fontsize=20)\n",
    "ax.set_ylabel(\"SNIbc prob\", fontsize=20)"
   ]
  },
  {
   "cell_type": "markdown",
   "metadata": {},
   "source": [
    "Now we will show the histograms of light curve durations of those SNe more likely to be SNe Ia or SNe Ibc. Since SNe Ibc progenitors tend to be more massive at explosion they should have slightly longer light curves."
   ]
  },
  {
   "cell_type": "code",
   "execution_count": null,
   "metadata": {
    "ExecuteTime": {
     "end_time": "2022-11-02T18:57:11.170380Z",
     "start_time": "2022-11-02T18:57:10.881149Z"
    }
   },
   "outputs": [],
   "source": [
    "fig, ax = plt.subplots(figsize=(12, 8))\n",
    "for idx, sn in enumerate([\"SNIa\", \"SNIbc\"]):\n",
    "    mask = (SNe_p.ranking[sn] == 1)\n",
    "    ax.hist(SNe.loc[mask].deltajd, bins=100, label=sn, alpha=0.5, density=True)\n",
    "ax.set_xlabel(\"deltajd\", fontsize=20)\n",
    "ax.set_ylabel(\"pdf\", fontsize=20)\n",
    "ax.legend()        "
   ]
  },
  {
   "cell_type": "markdown",
   "metadata": {},
   "source": [
    "We confirm that SNe Ibc light curves are slightly longer, although there are some very long SNe Ibc and some very short SNe Ibc, probably misclassifications.\n",
    "Another expected difference is that SNe Ibc are slightly redder. Let's compare their colors."
   ]
  },
  {
   "cell_type": "code",
   "execution_count": null,
   "metadata": {
    "ExecuteTime": {
     "end_time": "2022-11-02T18:57:11.458431Z",
     "start_time": "2022-11-02T18:57:11.171362Z"
    }
   },
   "outputs": [],
   "source": [
    "fig, ax = plt.subplots(figsize=(12, 8))\n",
    "for idx, sn in enumerate([\"SNIa\", \"SNIbc\"]):\n",
    "    mask = (SNe_p.ranking[sn] == 1)\n",
    "    ax.hist(SNe_p.loc[mask].g_r_max[sn].dropna(), bins=100, label=sn, alpha=0.5, density=True)\n",
    "ax.set_xlabel(\"g-r\", fontsize=20)\n",
    "ax.set_ylabel(\"pdf\", fontsize=20)\n",
    "ax.legend()        "
   ]
  },
  {
   "cell_type": "markdown",
   "metadata": {},
   "source": [
    "We confirm that SNe Ibc g-r colors are redder at maximum."
   ]
  },
  {
   "cell_type": "markdown",
   "metadata": {},
   "source": [
    "## PS1 table\n",
    "Let's get some proxy for host galaxy information based on the closest PanSTARRS source. There are more advanced, but slower methods methods to get the host, e.g. https://pypi.org/project/astro-delight/.\n",
    "\n",
    "~5 s"
   ]
  },
  {
   "cell_type": "code",
   "execution_count": null,
   "metadata": {
    "ExecuteTime": {
     "end_time": "2022-11-02T18:57:12.192226Z",
     "start_time": "2022-11-02T18:57:11.459581Z"
    }
   },
   "outputs": [],
   "source": [
    "query='''\n",
    "SELECT\n",
    "    oid, sgmag1, srmag1, simag1, szmag1, sgscore1\n",
    "FROM\n",
    "    ps1_ztf\n",
    "WHERE\n",
    "    oid in (%s)\n",
    "''' % \",\".join([\"'%s'\" % oid for oid in SNe_p.index.unique()])\n",
    "ps1 = pd.read_sql_query(query, conn)\n",
    "ps1.set_index(\"oid\", inplace=True)\n",
    "ps1.head()"
   ]
  },
  {
   "cell_type": "code",
   "execution_count": null,
   "metadata": {
    "ExecuteTime": {
     "end_time": "2022-11-02T18:57:12.196106Z",
     "start_time": "2022-11-02T18:57:12.193053Z"
    }
   },
   "outputs": [],
   "source": [
    "ps1[\"g_r_host\"] = ps1.sgmag1 - ps1.srmag1\n",
    "ps1[\"r_i_host\"] = ps1.srmag1 - ps1.simag1\n",
    "ps1[\"sgscore1\"] = ps1.sgscore1"
   ]
  },
  {
   "cell_type": "markdown",
   "metadata": {},
   "source": [
    "We make a cut on galaxy classified sources, non zero colors, and relatively small absolute values. We plot their cumulative distributions and do KS tests."
   ]
  },
  {
   "cell_type": "code",
   "execution_count": null,
   "metadata": {
    "ExecuteTime": {
     "end_time": "2022-11-02T18:57:12.386204Z",
     "start_time": "2022-11-02T18:57:12.197253Z"
    }
   },
   "outputs": [],
   "source": [
    "from scipy import stats\n",
    "fig, ax = plt.subplots(nrows=2, figsize=(12, 10))\n",
    "mask_host = (ps1.sgscore1 < 0.5) & (ps1.g_r_host.abs() > 0) & (ps1.g_r_host.abs() < 2) & (ps1.r_i_host.abs() > 0) & (ps1.r_i_host.abs() < 2)\n",
    "for sn in [\"SNII\", \"SNIa\"]:\n",
    "    oid_sn = SNe_p.loc[SNe_p.ranking[sn] == 1].index\n",
    "    mask = mask_host & ps1.index.isin(oid_sn)\n",
    "    oid = ps1.loc[mask].index\n",
    "    ax[0].hist(ps1.loc[mask].g_r_host, label=sn, bins=1000, alpha=0.5, cumulative=True, density=True, histtype='step')\n",
    "    ax[1].hist(ps1.loc[mask].r_i_host, label=sn, bins=1000, alpha=0.5, cumulative=True, density=True, histtype='step')\n",
    "ax[0].legend()\n",
    "ax[0].set_xlabel(\"Host g-r\", fontsize=20)\n",
    "ax[1].set_xlabel(\"Host r-i\", fontsize=20)"
   ]
  },
  {
   "cell_type": "markdown",
   "metadata": {
    "ExecuteTime": {
     "end_time": "2020-07-30T21:49:15.616858Z",
     "start_time": "2020-07-30T21:49:15.608497Z"
    }
   },
   "source": [
    "We can see that SNe Ia tend to live in redder galaxies than SNe II, which is consistent with them being associated to older progenitors."
   ]
  },
  {
   "cell_type": "markdown",
   "metadata": {},
   "source": [
    "We will now query and plot the light cuves of 2000 SNe taken randomly from the previous samples.\n",
    "\n",
    "~5 s"
   ]
  },
  {
   "cell_type": "code",
   "execution_count": null,
   "metadata": {
    "ExecuteTime": {
     "end_time": "2022-11-02T18:57:17.341404Z",
     "start_time": "2022-11-02T18:57:12.387135Z"
    }
   },
   "outputs": [],
   "source": [
    "mask = SNe.class_name.isin([\"SNIa\", \"SNIbc\", \"SNII\", \"SLSN\"]) & (SNe.ranking == 1)\n",
    "# using SNe_p would be mask = (SNe_p.ranking.SNIa == 1) | (SNe_p.ranking.SNIbc == 1) | (SNe_p.ranking.SNII == 1) | (SNe_p.ranking.SLSN == 1)\n",
    "query='''\n",
    "SELECT\n",
    "    oid, candid, mjd, fid, magpsf, sigmapsf\n",
    "FROM\n",
    "    detection\n",
    "WHERE\n",
    "    oid in (%s)\n",
    "''' % \",\".join([\"'%s'\" % oid for oid in SNe.loc[mask].iloc[:2000].index])\n",
    "all_detections = pd.read_sql_query(query, conn)\n",
    "all_detections.set_index(['candid'], inplace=True)\n",
    "all_detections.head()"
   ]
  },
  {
   "cell_type": "markdown",
   "metadata": {},
   "source": [
    "We will plot objects with a probability of being SNe Ia larger than 0.4"
   ]
  },
  {
   "cell_type": "code",
   "execution_count": null,
   "metadata": {
    "ExecuteTime": {
     "end_time": "2022-11-02T18:57:20.993678Z",
     "start_time": "2022-11-02T18:57:17.342451Z"
    }
   },
   "outputs": [],
   "source": [
    "mask = (SNe_p.ranking.SNIa == 1) & (SNe_p.probability.SNIa > 0.4)\n",
    "mask = all_detections.oid.isin(SNe_p.loc[mask].index)\n",
    "def plotobject(df):\n",
    "    df.groupby([\"fid\"]).apply(\n",
    "        lambda df: \n",
    "        ax.plot(df.mjd, df.magpsf, alpha=0.2, c=colors[1] if df.fid.unique()==1 else colors[2]))\n",
    "fig, ax = plt.subplots(figsize=(24, 6))\n",
    "all_detections.loc[mask].groupby([\"oid\"]).apply(plotobject)\n",
    "ax.set_ylim(ax.get_ylim()[::-1])\n",
    "ax.set_xlabel(\"MJD\", fontsize=20)\n",
    "ax.set_ylabel(\"mag\", fontsize=20)"
   ]
  },
  {
   "cell_type": "markdown",
   "metadata": {},
   "source": [
    "Here we can see that most SN light curves look OK, although there a few which seem to be too long."
   ]
  },
  {
   "cell_type": "markdown",
   "metadata": {},
   "source": [
    "## Feature table\n",
    "\n",
    "A family of features we compute for all objects is provided by a simple analytic SN light curve, a reparametrization of the model of [Villar et al. 2019](https://ui.adsabs.harvard.edu/abs/2019ApJ...884...83V/abstract et al. 2019) (see Sánchez-Sáez et al. 2020).\n",
    "\n",
    "This model is the following:"
   ]
  },
  {
   "cell_type": "markdown",
   "metadata": {},
   "source": [
    "$$\n",
    "\\Large\n",
    "F = \\begin{cases}\n",
    "        \\cfrac{A \\left(1 - \\beta' \\frac{t - t_0}{t_1 - t_0}\\right)}{1 + \\exp{\\left(-\\frac{t - t_0}{\\tau_{\\rm rise}}\\right)}} & \\mbox{if} \\; t < t_1  \\\\ \n",
    "        \\\\\n",
    "        \\cfrac{A (1 - \\beta') \\exp{\\left(-\\frac{t - t_1}{\\tau_{\\rm fall}}\\right)}}{1 + \\exp{\\left(-\\frac{t - t_0}{\\tau_{\\rm rise}}\\right)}} & \\mbox{if} \\; t \\ge t_1,\n",
    "  \\end{cases}\n",
    "$$"
   ]
  },
  {
   "cell_type": "markdown",
   "metadata": {},
   "source": [
    "where we measure $t_0$ w.r.t. the first dectection. We will overplot the best fitting models to get an idea of how good these fits are."
   ]
  },
  {
   "cell_type": "markdown",
   "metadata": {},
   "source": [
    "Let's query the feature names from the `feature` table to see what is available. Note that this table is similar to probabilities, where there is a `name` column which refers to a given feature and where its value and associated fid are stored in different columns.\n",
    "\n",
    "These features start with SPM (supernova parametric models), so we will look for features starting with these three characters. For this query we will again use the SNe dataframe."
   ]
  },
  {
   "cell_type": "code",
   "execution_count": null,
   "metadata": {
    "ExecuteTime": {
     "end_time": "2022-11-02T18:57:23.184934Z",
     "start_time": "2022-11-02T18:57:20.994818Z"
    }
   },
   "outputs": [],
   "source": [
    "mask = SNe.class_name.isin([\"SNIa\", \"SNIbc\", \"SNII\", \"SLSN\"]) & (SNe.ranking == 1)\n",
    "query='''\n",
    "SELECT\n",
    "    *\n",
    "FROM\n",
    "    feature\n",
    "WHERE\n",
    "    LEFT(name, 3)='SPM'\n",
    "    AND oid in (%s)\n",
    "''' % \",\".join([\"'%s'\" % oid for oid in SNe.loc[mask].iloc[:2000].index])\n",
    "features = pd.read_sql_query(query, conn)\n",
    "features.head()"
   ]
  },
  {
   "cell_type": "markdown",
   "metadata": {},
   "source": [
    "Let's display the unique feature names"
   ]
  },
  {
   "cell_type": "code",
   "execution_count": null,
   "metadata": {
    "ExecuteTime": {
     "end_time": "2022-11-02T18:57:23.189587Z",
     "start_time": "2022-11-02T18:57:23.185843Z"
    }
   },
   "outputs": [],
   "source": [
    "features.name.unique()"
   ]
  },
  {
   "cell_type": "markdown",
   "metadata": {
    "ExecuteTime": {
     "end_time": "2020-07-31T16:03:58.147099Z",
     "start_time": "2020-07-31T16:03:58.099356Z"
    }
   },
   "source": [
    "You can see that each object has one row per feature per band. Let's create a pivoted view similar to what we did with the probabilitiues dataframe. We will first create an auxiliary column to use as pivot to make the pivot unique per object."
   ]
  },
  {
   "cell_type": "code",
   "execution_count": null,
   "metadata": {
    "ExecuteTime": {
     "end_time": "2022-11-02T18:57:23.206143Z",
     "start_time": "2022-11-02T18:57:23.190561Z"
    }
   },
   "outputs": [],
   "source": [
    "features[\"name_fid\"] = features[\"name\"] + \"_\" + features.fid.astype(str)"
   ]
  },
  {
   "cell_type": "markdown",
   "metadata": {},
   "source": [
    "And now we can use this column as pivot:"
   ]
  },
  {
   "cell_type": "code",
   "execution_count": null,
   "metadata": {
    "ExecuteTime": {
     "end_time": "2022-11-02T18:57:23.241182Z",
     "start_time": "2022-11-02T18:57:23.207897Z"
    },
    "scrolled": true
   },
   "outputs": [],
   "source": [
    "features_p = features.pivot_table(columns=\"name_fid\", values=\"value\", index=\"oid\")\n",
    "features_p.head()"
   ]
  },
  {
   "cell_type": "markdown",
   "metadata": {},
   "source": [
    "Let's define a function and test it with one SN"
   ]
  },
  {
   "cell_type": "code",
   "execution_count": null,
   "metadata": {
    "ExecuteTime": {
     "end_time": "2022-11-02T18:57:23.247365Z",
     "start_time": "2022-11-02T18:57:23.242670Z"
    }
   },
   "outputs": [],
   "source": [
    "def Villar_m(mjd, firstmjd, pars):\n",
    "    A = pars[\"SPM_A\"] # * 1e-26 # erg/s/Hz, note that we save 1e26 * A in cgs in the database\n",
    "    t0 = pars[\"SPM_t0\"]\n",
    "    beta_m = pars[\"SPM_beta\"]\n",
    "    gamma = pars[\"SPM_gamma\"]\n",
    "    trise = pars[\"SPM_tau_rise\"]\n",
    "    tfall = pars[\"SPM_tau_fall\"]\n",
    "    \n",
    "    # correct t0 and t1\n",
    "    mjd0 = t0 + firstmjd\n",
    "    mjd1 = mjd0 + gamma\n",
    "    \n",
    "    # mask\n",
    "    mask = mjd < mjd1\n",
    "\n",
    "    F = np.zeros_like(mjd)\n",
    "    if mask.sum() > 0:\n",
    "        den = (1. + np.exp(-(mjd[mask] - mjd0) / trise))\n",
    "        F[mask] = A * (1 - beta_m * (mjd[mask] - mjd0) / (mjd1 - mjd0)) / den\n",
    "    if np.invert(mask).sum() > 0:\n",
    "        den = (1. + np.exp(-(mjd[~mask] - mjd0) / trise))\n",
    "        F[~mask] = A * ((1 - beta_m) * np.exp(-(mjd[~mask] - mjd1) / tfall)) / den\n",
    "    \n",
    "    return F"
   ]
  },
  {
   "cell_type": "markdown",
   "metadata": {},
   "source": [
    "Let's define a function to transform fluxes into magnitudes"
   ]
  },
  {
   "cell_type": "code",
   "execution_count": null,
   "metadata": {
    "ExecuteTime": {
     "end_time": "2022-11-02T18:57:23.259117Z",
     "start_time": "2022-11-02T18:57:23.256685Z"
    }
   },
   "outputs": [],
   "source": [
    "def flux2mag(flux):\n",
    "    return -2.5 * np.log10(flux) + 2.5 * 26 - 48.6 # note that the factor 2.5 * 26 comes from the fact that the normalization is stored multiplied by 1e26, to take less space in our database"
   ]
  },
  {
   "cell_type": "markdown",
   "metadata": {},
   "source": [
    "Now we will plot the model light curves for all the objects with probability of being SN Ia greater than 0.4\n",
    "\n",
    "~19 s"
   ]
  },
  {
   "cell_type": "code",
   "execution_count": null,
   "metadata": {
    "ExecuteTime": {
     "end_time": "2022-11-02T18:57:44.961222Z",
     "start_time": "2022-11-02T18:57:23.262000Z"
    },
    "scrolled": false
   },
   "outputs": [],
   "source": [
    "fig, ax = plt.subplots(figsize=(24, 6))\n",
    "oids = SNe_p.loc[(SNe_p.probability.SNIa > 0.4) & (SNe_p.ranking.SNIa == 1)].index\n",
    "for oid in oids:\n",
    "    mask_det = all_detections.oid == oid\n",
    "    for fid in all_detections.loc[mask_det].fid.unique():\n",
    "        if fid == 3:\n",
    "            continue\n",
    "        mask_fid = all_detections.loc[mask_det].fid == fid\n",
    "        times = all_detections.loc[mask_det].loc[mask_fid].mjd.values\n",
    "        magpsf = all_detections.loc[mask_det].loc[mask_fid].magpsf.values\n",
    "        vals = {}\n",
    "        for val in features.name.unique(): # loop among the unique feature names\n",
    "            vals[val] = features_p.loc[oid][\"%s_%s\" % (val, fid)]\n",
    "        model = Villar_m(times, SNe.loc[oid].firstmjd.iloc[0], vals)\n",
    "        mask = model > 0\n",
    "        ax.plot(times[mask], flux2mag(model[mask]), c=colors[fid], alpha=0.3)\n",
    "    #break\n",
    "\n",
    "ax.set_ylabel(\"Mag\", fontsize=20)\n",
    "ax.set_xlabel(\"MJD\", fontsize=20)\n",
    "ax.set_ylim(22, 15)"
   ]
  },
  {
   "cell_type": "markdown",
   "metadata": {},
   "source": [
    "The modeled light curves look OK (compare to our previous plot of observed light curves)"
   ]
  },
  {
   "cell_type": "markdown",
   "metadata": {},
   "source": [
    "And now the SNe II candidates with probabilities greater than 0.3"
   ]
  },
  {
   "cell_type": "code",
   "execution_count": null,
   "metadata": {
    "ExecuteTime": {
     "end_time": "2022-11-02T18:57:48.758451Z",
     "start_time": "2022-11-02T18:57:44.962440Z"
    },
    "scrolled": false
   },
   "outputs": [],
   "source": [
    "fig, ax = plt.subplots(figsize=(24, 6))\n",
    "oids = SNe_p.loc[(SNe_p.probability.SNII > 0.3) & (SNe_p.ranking.SNII == 1)].index\n",
    "for oid in oids:\n",
    "    mask_det = all_detections.oid == oid\n",
    "    for fid in all_detections.loc[mask_det].fid.unique():\n",
    "        if fid == 3:\n",
    "            continue\n",
    "        mask_fid = all_detections.loc[mask_det].fid == fid\n",
    "        times = all_detections.loc[mask_det].loc[mask_fid].mjd.values\n",
    "        magpsf = all_detections.loc[mask_det].loc[mask_fid].magpsf.values\n",
    "        vals = {}\n",
    "        for val in features.name.unique(): # loop among the unique features\n",
    "            vals[val] = features_p.loc[oid][\"%s_%s\" % (val, fid)]\n",
    "        model = Villar_m(times, SNe.loc[oid].firstmjd.iloc[0], vals)\n",
    "        mask = model > 0\n",
    "        ax.plot(times[mask], flux2mag(model[mask]), c=colors[fid], alpha=0.3)\n",
    "    #break\n",
    "\n",
    "ax.set_ylabel(\"Mag\", fontsize=20)\n",
    "ax.set_xlabel(\"MJD\", fontsize=20)\n",
    "ax.set_ylim(22, 15)"
   ]
  },
  {
   "cell_type": "markdown",
   "metadata": {},
   "source": [
    "The light curves look longer lived, although it's difficult to see the plateau. Let's compare their beta and gamma parameters."
   ]
  },
  {
   "cell_type": "code",
   "execution_count": null,
   "metadata": {
    "ExecuteTime": {
     "end_time": "2022-11-02T18:57:49.048922Z",
     "start_time": "2022-11-02T18:57:48.759617Z"
    }
   },
   "outputs": [],
   "source": [
    "fig, ax = plt.subplots(nrows = 2)\n",
    "labels = {1: 'g', 2: 'r'}\n",
    "for idx, fid in enumerate([1, 2]):\n",
    "    mask_feat = (features.fid == fid) & (features.name==\"SPM_beta\") & features.oid.isin(SNe_p.loc[SNe_p.probability.SNII > 0.3].index)\n",
    "    ax[idx].hist(features.loc[mask_feat].dropna().value, label=\"SNII %s\" % labels[fid], alpha=0.5, bins=30, density=True);\n",
    "    mask_feat = (features.fid == fid) & (features.name==\"SPM_beta\") & features.oid.isin(SNe_p.loc[SNe_p.probability.SNIa > 0.4].index)\n",
    "    ax[idx].hist(features.loc[mask_feat].dropna().value, label=\"SNIa %s\" % labels[fid], alpha=0.5, bins=30, density=True);\n",
    "    ax[idx].legend()\n",
    "    ax[idx].set_xlabel(\"SPM_beta\", fontsize=20)"
   ]
  },
  {
   "cell_type": "markdown",
   "metadata": {},
   "source": [
    "Beta values are dimensionless and move between 0 and 1. SNe II tend to have smaller beta values in the g band, while SNe Ia don't have small beta values in either band."
   ]
  },
  {
   "cell_type": "code",
   "execution_count": null,
   "metadata": {
    "ExecuteTime": {
     "end_time": "2022-11-02T18:57:49.338185Z",
     "start_time": "2022-11-02T18:57:49.050227Z"
    }
   },
   "outputs": [],
   "source": [
    "fig, ax = plt.subplots(nrows = 2)\n",
    "labels = {1: 'g', 2: 'r'}\n",
    "for idx, fid in enumerate([1, 2]):\n",
    "    mask_feat = (features.fid == fid) & (features.name==\"SPM_gamma\") & features.oid.isin(SNe_p.loc[SNe_p.probability.SNII > 0.3].index)\n",
    "    ax[idx].hist(features.loc[mask_feat].dropna().value, label=\"SNII %s\" % labels[fid], alpha=0.5, bins=30, density=True);\n",
    "    mask_feat = (features.fid == fid) & (features.name==\"SPM_gamma\") & features.oid.isin(SNe_p.loc[SNe_p.probability.SNIa > 0.4].index)\n",
    "    ax[idx].hist(features.loc[mask_feat].dropna().value, label=\"SNIa %s\" % labels[fid], alpha=0.5, bins=30, density=True);\n",
    "    ax[idx].legend()\n",
    "    ax[idx].set_xlabel(\"SPM_gamma [days]\", fontsize=20) "
   ]
  },
  {
   "cell_type": "markdown",
   "metadata": {},
   "source": [
    "We can see that gamma values are in general larger for SNe II for the g and r bands, as expected."
   ]
  },
  {
   "cell_type": "markdown",
   "metadata": {},
   "source": [
    "## Non_detection table\n",
    "\n",
    "Finally, here we show how to get all the non detections associated to the previous sample, selecting only limiting magnitude above 17 magnitudes (~22 s)."
   ]
  },
  {
   "cell_type": "code",
   "execution_count": null,
   "metadata": {
    "ExecuteTime": {
     "end_time": "2022-11-02T18:57:51.450819Z",
     "start_time": "2022-11-02T18:57:49.339237Z"
    }
   },
   "outputs": [],
   "source": [
    "query = '''\n",
    "SELECT\n",
    "    oid, fid, diffmaglim, mjd\n",
    "FROM\n",
    "    non_detection\n",
    "WHERE\n",
    "    diffmaglim > 17\n",
    "    AND oid in (%s)\n",
    "''' % \",\".join([\"'%s'\" % oid for oid in SNe.loc[(SNe.class_name == \"SNIa\") & (SNe.ranking == 1)].sample(1000).index.unique()])\n",
    "all_non_detections = pd.read_sql_query(query, conn)\n",
    "all_non_detections.head()"
   ]
  },
  {
   "cell_type": "markdown",
   "metadata": {},
   "source": [
    "And we show the distribution of limiting magnitudes"
   ]
  },
  {
   "cell_type": "code",
   "execution_count": null,
   "metadata": {
    "ExecuteTime": {
     "end_time": "2022-11-02T19:02:20.563536Z",
     "start_time": "2022-11-02T19:02:20.449252Z"
    }
   },
   "outputs": [],
   "source": [
    "fig, ax = plt.subplots()\n",
    "all_non_detections.diffmaglim.hist(bins=50, ax=ax)\n",
    "ax.set_xlabel(\"Limiting magnitude\", fontsize=20)"
   ]
  },
  {
   "cell_type": "markdown",
   "metadata": {},
   "source": [
    "Let's compute the moon phase at all time for the non detections"
   ]
  },
  {
   "cell_type": "code",
   "execution_count": null,
   "metadata": {
    "ExecuteTime": {
     "end_time": "2022-11-02T18:57:51.571566Z",
     "start_time": "2022-11-02T18:57:51.569857Z"
    }
   },
   "outputs": [],
   "source": [
    "from astropy.time import Time"
   ]
  },
  {
   "cell_type": "markdown",
   "metadata": {},
   "source": [
    "A reference time for a new moon"
   ]
  },
  {
   "cell_type": "code",
   "execution_count": null,
   "metadata": {
    "ExecuteTime": {
     "end_time": "2022-11-02T18:57:51.575486Z",
     "start_time": "2022-11-02T18:57:51.572552Z"
    }
   },
   "outputs": [],
   "source": [
    "new_moon = Time(\"2020-07-20T13:32:00\", format='isot', scale='utc')"
   ]
  },
  {
   "cell_type": "markdown",
   "metadata": {
    "ExecuteTime": {
     "end_time": "2020-07-15T22:08:51.839427Z",
     "start_time": "2020-07-15T22:08:51.836377Z"
    }
   },
   "source": [
    "The synodic moon period"
   ]
  },
  {
   "cell_type": "code",
   "execution_count": null,
   "metadata": {
    "ExecuteTime": {
     "end_time": "2022-11-02T18:57:51.578848Z",
     "start_time": "2022-11-02T18:57:51.576443Z"
    }
   },
   "outputs": [],
   "source": [
    "moon_synodic_period = 29.53049"
   ]
  },
  {
   "cell_type": "markdown",
   "metadata": {},
   "source": [
    "Apply a function which returns the moon phase ("
   ]
  },
  {
   "cell_type": "code",
   "execution_count": null,
   "metadata": {
    "ExecuteTime": {
     "end_time": "2022-11-02T18:57:57.460994Z",
     "start_time": "2022-11-02T18:57:51.579921Z"
    }
   },
   "outputs": [],
   "source": [
    "all_non_detections[\"moon_phase\"] = all_non_detections.apply(lambda row: np.mod((Time(row.mjd, format='mjd') - new_moon).value, moon_synodic_period) / moon_synodic_period, axis=1)"
   ]
  },
  {
   "cell_type": "code",
   "execution_count": null,
   "metadata": {
    "ExecuteTime": {
     "end_time": "2022-11-02T18:59:35.083238Z",
     "start_time": "2022-11-02T18:59:34.910678Z"
    }
   },
   "outputs": [],
   "source": [
    "fig, ax = plt.subplots(nrows = 2, figsize = (10, 10), sharex = True)\n",
    "for idx, fid in enumerate(all_non_detections.fid.unique()):\n",
    "    if fid == 3:\n",
    "        continue\n",
    "    mask = all_non_detections.fid == fid\n",
    "    ax[idx].scatter(all_non_detections.moon_phase.loc[mask], all_non_detections.diffmaglim.loc[mask],\n",
    "                    c=colors[fid], marker='.', alpha=0.1)\n",
    "    ax[idx].set_ylim(21.5, 15)\n",
    "    ax[idx].set_xlabel(\"Moon phase\", fontsize=20)\n",
    "    c = 'g' if fid == 1 else 'r'\n",
    "    ax[idx].set_ylabel(\"%s limiting magnitude\" % c, fontsize=20)"
   ]
  },
  {
   "cell_type": "markdown",
   "metadata": {},
   "source": [
    "We can see that, as expected, limiting magnitudes are smaller close to full moon. There is a about 1.5 and 1.0 magnitudes of difference in depth between the new and full moon in the g and r bands, respectively."
   ]
  },
  {
   "cell_type": "markdown",
   "metadata": {},
   "source": [
    "Finally, let's close the connection to the database"
   ]
  },
  {
   "cell_type": "code",
   "execution_count": null,
   "metadata": {
    "ExecuteTime": {
     "end_time": "2022-11-02T18:57:57.668353Z",
     "start_time": "2022-11-02T18:57:57.666678Z"
    }
   },
   "outputs": [],
   "source": [
    "conn.close()"
   ]
  },
  {
   "cell_type": "markdown",
   "metadata": {},
   "source": [
    "**Congratulations, you made it to the end of this notebook!**\n",
    "\n",
    "**If you would like to contribute with your own notebook, please let us know!**"
   ]
  },
  {
   "cell_type": "code",
   "execution_count": null,
   "metadata": {},
   "outputs": [],
   "source": []
  },
  {
   "cell_type": "code",
   "execution_count": null,
   "metadata": {},
   "outputs": [],
   "source": []
  },
  {
   "cell_type": "code",
   "execution_count": null,
   "metadata": {},
   "outputs": [],
   "source": []
  }
 ],
 "metadata": {
  "kernelspec": {
   "display_name": "Python 3",
   "language": "python",
   "name": "python3"
  },
  "language_info": {
   "codemirror_mode": {
    "name": "ipython",
    "version": 3
   },
   "file_extension": ".py",
   "mimetype": "text/x-python",
   "name": "python",
   "nbconvert_exporter": "python",
   "pygments_lexer": "ipython3",
   "version": "3.8.8"
  },
  "toc": {
   "base_numbering": 1,
   "nav_menu": {},
   "number_sections": true,
   "sideBar": true,
   "skip_h1_title": false,
   "title_cell": "Table of Contents",
   "title_sidebar": "Contents",
   "toc_cell": false,
   "toc_position": {
    "height": "calc(100% - 180px)",
    "left": "10px",
    "top": "150px",
    "width": "384px"
   },
   "toc_section_display": true,
   "toc_window_display": true
  },
  "varInspector": {
   "cols": {
    "lenName": 16,
    "lenType": 16,
    "lenVar": 40
   },
   "kernels_config": {
    "python": {
     "delete_cmd_postfix": "",
     "delete_cmd_prefix": "del ",
     "library": "var_list.py",
     "varRefreshCmd": "print(var_dic_list())"
    },
    "r": {
     "delete_cmd_postfix": ") ",
     "delete_cmd_prefix": "rm(",
     "library": "var_list.r",
     "varRefreshCmd": "cat(var_dic_list()) "
    }
   },
   "types_to_exclude": [
    "module",
    "function",
    "builtin_function_or_method",
    "instance",
    "_Feature"
   ],
   "window_display": false
  }
 },
 "nbformat": 4,
 "nbformat_minor": 2
}
