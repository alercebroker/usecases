{
 "cells": [
  {
   "cell_type": "markdown",
   "id": "b5a4f6af",
   "metadata": {},
   "source": [
    "# Notebook to crossmatch an external catalog with the ALeRCE database"
   ]
  },
  {
   "cell_type": "markdown",
   "id": "036397c3",
   "metadata": {},
   "source": [
    "Francisco Förster\n",
    "2024/01/30"
   ]
  },
  {
   "cell_type": "code",
   "execution_count": 7,
   "id": "1a84e0ce",
   "metadata": {
    "ExecuteTime": {
     "end_time": "2024-01-29T23:12:54.600741Z",
     "start_time": "2024-01-29T23:12:54.595509Z"
    }
   },
   "outputs": [],
   "source": [
    "import pandas as pd\n",
    "import psycopg2\n",
    "import requests"
   ]
  },
  {
   "cell_type": "markdown",
   "id": "914936d1",
   "metadata": {},
   "source": [
    "## Open a connection using the public credentials"
   ]
  },
  {
   "cell_type": "code",
   "execution_count": 8,
   "id": "53ea7c2b",
   "metadata": {
    "ExecuteTime": {
     "end_time": "2024-01-29T23:13:01.145814Z",
     "start_time": "2024-01-29T23:12:55.879238Z"
    }
   },
   "outputs": [],
   "source": [
    "credentials_file = \"https://raw.githubusercontent.com/alercebroker/usecases/master/alercereaduser_v4.json\"\n",
    "params = requests.get(credentials_file).json()[\"params\"]"
   ]
  },
  {
   "cell_type": "code",
   "execution_count": 9,
   "id": "be80b049",
   "metadata": {
    "ExecuteTime": {
     "end_time": "2024-01-29T23:13:05.249012Z",
     "start_time": "2024-01-29T23:13:03.923657Z"
    }
   },
   "outputs": [],
   "source": [
    "conn = psycopg2.connect(dbname=params[\"dbname\"], user=params[\"user\"], host=params[\"host\"], password=params[\"password\"])"
   ]
  },
  {
   "cell_type": "markdown",
   "id": "3cc774c8",
   "metadata": {
    "ExecuteTime": {
     "end_time": "2024-01-29T21:29:44.360464Z",
     "start_time": "2024-01-29T21:29:44.356089Z"
    }
   },
   "source": [
    "## Example external catalog"
   ]
  },
  {
   "cell_type": "code",
   "execution_count": 10,
   "id": "eada2072",
   "metadata": {
    "ExecuteTime": {
     "end_time": "2024-01-29T23:13:07.565517Z",
     "start_time": "2024-01-29T23:13:06.542571Z"
    }
   },
   "outputs": [
    {
     "data": {
      "text/html": [
       "<div>\n",
       "<style scoped>\n",
       "    .dataframe tbody tr th:only-of-type {\n",
       "        vertical-align: middle;\n",
       "    }\n",
       "\n",
       "    .dataframe tbody tr th {\n",
       "        vertical-align: top;\n",
       "    }\n",
       "\n",
       "    .dataframe thead th {\n",
       "        text-align: right;\n",
       "    }\n",
       "</style>\n",
       "<table border=\"1\" class=\"dataframe\">\n",
       "  <thead>\n",
       "    <tr style=\"text-align: right;\">\n",
       "      <th></th>\n",
       "      <th>id_source</th>\n",
       "      <th>ra</th>\n",
       "      <th>dec</th>\n",
       "    </tr>\n",
       "  </thead>\n",
       "  <tbody>\n",
       "    <tr>\n",
       "      <th>0</th>\n",
       "      <td>source_1</td>\n",
       "      <td>160.183014</td>\n",
       "      <td>33.016467</td>\n",
       "    </tr>\n",
       "    <tr>\n",
       "      <th>1</th>\n",
       "      <td>source_2</td>\n",
       "      <td>174.215249</td>\n",
       "      <td>44.837895</td>\n",
       "    </tr>\n",
       "  </tbody>\n",
       "</table>\n",
       "</div>"
      ],
      "text/plain": [
       "  id_source          ra        dec\n",
       "0  source_1  160.183014  33.016467\n",
       "1  source_2  174.215249  44.837895"
      ]
     },
     "execution_count": 10,
     "metadata": {},
     "output_type": "execute_result"
    }
   ],
   "source": [
    "# The catalog should have id_source, ra, and dec columns\n",
    "df = pd.read_csv(\"https://github.com/alercebroker/usecases/blob/master/example_data/watchlist.csv?raw=True\")\n",
    "df.head()"
   ]
  },
  {
   "cell_type": "code",
   "execution_count": 11,
   "id": "fc8d6388",
   "metadata": {
    "ExecuteTime": {
     "end_time": "2024-01-29T23:13:07.628629Z",
     "start_time": "2024-01-29T23:13:07.622757Z"
    }
   },
   "outputs": [],
   "source": [
    "def ztf_crossmatch(conn, df, search_radius=1):\n",
    "    \n",
    "    '''\n",
    "    conn: connection to database\n",
    "    df: external catalog dataframe (with columns id_source, ra, dec)\n",
    "    search_radius: external radius in arcsec (default=1)\n",
    "    \n",
    "    The output is a dataframe with the source id, ra, and dec, \n",
    "    as well as the ALeRCE database meanra, meandec, the crossmatch distance \n",
    "    in degrees and the time of first detection according to the ALeRCE database\n",
    "    '''\n",
    "    \n",
    "    # fix the dataframe\n",
    "    objects = []\n",
    "    for _,row in df.iterrows():\n",
    "        objects.append(f\"(\\'{row.id_source}\\', {row.ra}, {row.dec})\")\n",
    "    objects_str = \",\\n\".join(objects)\n",
    "    print(objects_str)\n",
    "    \n",
    "    # convert the radius into degrees\n",
    "    search_radius = search_radius / 3600\n",
    "    \n",
    "    # prepare the query\n",
    "\n",
    "    query = \"\"\"\n",
    "    WITH catalog ( source_id, ra, dec) AS (\n",
    "        VALUES\n",
    "            {values}\n",
    "    )\n",
    "    SELECT \n",
    "        c.source_id, c.ra, c.dec, o.oid, o.meanra, o.meandec, q3c_dist(c.ra,c.dec,o.meanra,o.meandec), \n",
    "        o.firstmjd\n",
    "    \n",
    "    FROM object o, catalog c\n",
    "        /*\n",
    "         * It is REALLY important to first use the catalog then the object ra,dec for speed. The radius is in degrees.\n",
    "         */\n",
    "    WHERE\n",
    "        q3c_join(c.ra, c.dec,o.meanra, o.meandec, {radius})\n",
    "    \"\"\"\n",
    "    \n",
    "    # final query string\n",
    "    query_str = query.format(values=objects_str, radius=search_radius) # radius in degrees\n",
    "    \n",
    "    # do the query\n",
    "    try:\n",
    "        matches = pd.read_sql(query_str,conn)\n",
    "        matches[\"q3c_dist\"] = matches.q3c_dist * 3600\n",
    "        matches.rename({\"q3c_dist\": \"dist_arcsec\"}, axis=1, inplace=True)\n",
    "        return matches\n",
    "    except:\n",
    "        print(\"Error accessing the database. Most common causes are timeout errors or wrongly formatted input query.\")"
   ]
  },
  {
   "cell_type": "markdown",
   "id": "5c0a9804",
   "metadata": {},
   "source": [
    "## Do the crossmatch\n",
    "\n",
    "Note that the default timeout is 2 min, if your catalog is too large you should split in smaller catalogs and do many queries."
   ]
  },
  {
   "cell_type": "code",
   "execution_count": 12,
   "id": "8050b22f",
   "metadata": {
    "ExecuteTime": {
     "end_time": "2024-01-29T23:13:09.398443Z",
     "start_time": "2024-01-29T23:13:08.522553Z"
    }
   },
   "outputs": [
    {
     "name": "stdout",
     "output_type": "stream",
     "text": [
      "('source_1', 160.18301441363647, 33.0164673528409),\n",
      "('source_2', 174.21524897555545, 44.83789535222221)\n"
     ]
    },
    {
     "name": "stderr",
     "output_type": "stream",
     "text": [
      "/home/fforster/anaconda3/lib/python3.8/site-packages/pandas/io/sql.py:761: UserWarning: pandas only support SQLAlchemy connectable(engine/connection) ordatabase string URI or sqlite3 DBAPI2 connectionother DBAPI2 objects are not tested, please consider using SQLAlchemy\n",
      "  warnings.warn(\n"
     ]
    },
    {
     "data": {
      "text/html": [
       "<div>\n",
       "<style scoped>\n",
       "    .dataframe tbody tr th:only-of-type {\n",
       "        vertical-align: middle;\n",
       "    }\n",
       "\n",
       "    .dataframe tbody tr th {\n",
       "        vertical-align: top;\n",
       "    }\n",
       "\n",
       "    .dataframe thead th {\n",
       "        text-align: right;\n",
       "    }\n",
       "</style>\n",
       "<table border=\"1\" class=\"dataframe\">\n",
       "  <thead>\n",
       "    <tr style=\"text-align: right;\">\n",
       "      <th></th>\n",
       "      <th>source_id</th>\n",
       "      <th>ra</th>\n",
       "      <th>dec</th>\n",
       "      <th>oid</th>\n",
       "      <th>meanra</th>\n",
       "      <th>meandec</th>\n",
       "      <th>dist_arcsec</th>\n",
       "      <th>firstmjd</th>\n",
       "    </tr>\n",
       "  </thead>\n",
       "  <tbody>\n",
       "    <tr>\n",
       "      <th>0</th>\n",
       "      <td>source_1</td>\n",
       "      <td>160.183014</td>\n",
       "      <td>33.016467</td>\n",
       "      <td>ZTF18aaacsup</td>\n",
       "      <td>160.182977</td>\n",
       "      <td>33.016294</td>\n",
       "      <td>0.633585</td>\n",
       "      <td>58423.484560</td>\n",
       "    </tr>\n",
       "    <tr>\n",
       "      <th>1</th>\n",
       "      <td>source_2</td>\n",
       "      <td>174.215249</td>\n",
       "      <td>44.837895</td>\n",
       "      <td>ZTF18aaapcut</td>\n",
       "      <td>174.215361</td>\n",
       "      <td>44.837997</td>\n",
       "      <td>0.463767</td>\n",
       "      <td>58440.470775</td>\n",
       "    </tr>\n",
       "  </tbody>\n",
       "</table>\n",
       "</div>"
      ],
      "text/plain": [
       "  source_id          ra        dec           oid      meanra    meandec  \\\n",
       "0  source_1  160.183014  33.016467  ZTF18aaacsup  160.182977  33.016294   \n",
       "1  source_2  174.215249  44.837895  ZTF18aaapcut  174.215361  44.837997   \n",
       "\n",
       "   dist_arcsec      firstmjd  \n",
       "0     0.633585  58423.484560  \n",
       "1     0.463767  58440.470775  "
      ]
     },
     "execution_count": 12,
     "metadata": {},
     "output_type": "execute_result"
    }
   ],
   "source": [
    "ztf_crossmatch(conn, df)"
   ]
  },
  {
   "cell_type": "markdown",
   "id": "13a01960",
   "metadata": {},
   "source": [
    "## Close the connection"
   ]
  },
  {
   "cell_type": "code",
   "execution_count": 13,
   "id": "c6a8bbbd",
   "metadata": {
    "ExecuteTime": {
     "end_time": "2024-01-29T23:13:09.451582Z",
     "start_time": "2024-01-29T23:13:09.449900Z"
    }
   },
   "outputs": [],
   "source": [
    "conn.close()"
   ]
  },
  {
   "cell_type": "code",
   "execution_count": null,
   "id": "a1a5ca05",
   "metadata": {},
   "outputs": [],
   "source": []
  }
 ],
 "metadata": {
  "kernelspec": {
   "display_name": "Python 3",
   "language": "python",
   "name": "python3"
  },
  "toc": {
   "base_numbering": 1,
   "nav_menu": {},
   "number_sections": true,
   "sideBar": true,
   "skip_h1_title": false,
   "title_cell": "Table of Contents",
   "title_sidebar": "Contents",
   "toc_cell": false,
   "toc_position": {},
   "toc_section_display": true,
   "toc_window_display": false
  },
  "varInspector": {
   "cols": {
    "lenName": 16,
    "lenType": 16,
    "lenVar": 40
   },
   "kernels_config": {
    "python": {
     "delete_cmd_postfix": "",
     "delete_cmd_prefix": "del ",
     "library": "var_list.py",
     "varRefreshCmd": "print(var_dic_list())"
    },
    "r": {
     "delete_cmd_postfix": ") ",
     "delete_cmd_prefix": "rm(",
     "library": "var_list.r",
     "varRefreshCmd": "cat(var_dic_list()) "
    }
   },
   "types_to_exclude": [
    "module",
    "function",
    "builtin_function_or_method",
    "instance",
    "_Feature"
   ],
   "window_display": false
  }
 },
 "nbformat": 4,
 "nbformat_minor": 5
}
