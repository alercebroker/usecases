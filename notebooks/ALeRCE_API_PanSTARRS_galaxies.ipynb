{
 "cells": [
  {
   "cell_type": "markdown",
   "metadata": {},
   "source": [
    "# Getting the three nearest PanSTARRS sources from avro packets\n",
    "\n",
    "```Authors: Francisco Förster, Last updated: 20251008```"
   ]
  },
  {
   "cell_type": "markdown",
   "metadata": {},
   "source": [
    "# Introduction\n",
    "\n",
    "ZTF objects have a unique identifier which we call `oid`, each object has many associated alerts, one per detection, and each alert as a unique identifier `candid`.\n",
    "\n",
    "ALeRCE does not store all the information contained in the alerts in our postgresql database. However, we provide access to the individual alerts and their contents through our API. Each alert contains information about the three nearest PanSTARRS sources, so if you access any alert from a given object you can get these objects.\n",
    "\n",
    "In this example you can see how we get the nearest PanSTARRS objects given an `oid`.\n",
    "\n",
    "We will use the ALeRCE client (https://alerce.readthedocs.io/en/latest/index.html, which can be installed with pip) and the requests library to interact with the API.\n",
    "\n",
    "*It is highly recommended that you try this notebook in Google Colab using the following [link](https://colab.research.google.com/github/alercebroker/usecases/blob/master/notebooks/ALeRCE_API_PanSTARRS_galaxies.ipynb).*\n",
    "This will avoid you from having to sort out library installation problems and focus on the contents of the tutorial. You can try installing the dependencies later in your own system."
   ]
  },
  {
   "cell_type": "code",
   "execution_count": 1,
   "metadata": {
    "execution": {
     "iopub.execute_input": "2025-10-09T13:14:18.437828Z",
     "iopub.status.busy": "2025-10-09T13:14:18.437720Z",
     "iopub.status.idle": "2025-10-09T13:14:18.439303Z",
     "shell.execute_reply": "2025-10-09T13:14:18.439106Z",
     "shell.execute_reply.started": "2025-10-09T13:14:18.437818Z"
    }
   },
   "outputs": [],
   "source": [
    "#!pip install alerce"
   ]
  },
  {
   "cell_type": "code",
   "execution_count": 2,
   "metadata": {
    "ExecuteTime": {
     "end_time": "2022-01-18T21:43:08.394932Z",
     "start_time": "2022-01-18T21:43:08.392127Z"
    },
    "execution": {
     "iopub.execute_input": "2025-10-09T13:14:18.439660Z",
     "iopub.status.busy": "2025-10-09T13:14:18.439587Z",
     "iopub.status.idle": "2025-10-09T13:14:18.936462Z",
     "shell.execute_reply": "2025-10-09T13:14:18.936161Z",
     "shell.execute_reply.started": "2025-10-09T13:14:18.439653Z"
    }
   },
   "outputs": [],
   "source": [
    "from alerce.core import Alerce"
   ]
  },
  {
   "cell_type": "code",
   "execution_count": 3,
   "metadata": {
    "ExecuteTime": {
     "end_time": "2022-01-18T21:43:09.105338Z",
     "start_time": "2022-01-18T21:43:09.103531Z"
    },
    "execution": {
     "iopub.execute_input": "2025-10-09T13:14:18.937037Z",
     "iopub.status.busy": "2025-10-09T13:14:18.936919Z",
     "iopub.status.idle": "2025-10-09T13:14:18.939250Z",
     "shell.execute_reply": "2025-10-09T13:14:18.939020Z",
     "shell.execute_reply.started": "2025-10-09T13:14:18.937023Z"
    }
   },
   "outputs": [],
   "source": [
    "import requests"
   ]
  },
  {
   "cell_type": "code",
   "execution_count": 4,
   "metadata": {
    "ExecuteTime": {
     "end_time": "2022-01-18T21:43:14.757627Z",
     "start_time": "2022-01-18T21:43:14.753467Z"
    },
    "execution": {
     "iopub.execute_input": "2025-10-09T13:14:18.939750Z",
     "iopub.status.busy": "2025-10-09T13:14:18.939648Z",
     "iopub.status.idle": "2025-10-09T13:14:18.953972Z",
     "shell.execute_reply": "2025-10-09T13:14:18.953485Z",
     "shell.execute_reply.started": "2025-10-09T13:14:18.939738Z"
    }
   },
   "outputs": [],
   "source": [
    "client = Alerce()"
   ]
  },
  {
   "cell_type": "markdown",
   "metadata": {},
   "source": [
    "# Get any candidate id from the object id"
   ]
  },
  {
   "cell_type": "code",
   "execution_count": 5,
   "metadata": {
    "ExecuteTime": {
     "end_time": "2022-01-18T21:43:16.186767Z",
     "start_time": "2022-01-18T21:43:16.185079Z"
    },
    "execution": {
     "iopub.execute_input": "2025-10-09T13:14:18.955256Z",
     "iopub.status.busy": "2025-10-09T13:14:18.955139Z",
     "iopub.status.idle": "2025-10-09T13:14:18.957002Z",
     "shell.execute_reply": "2025-10-09T13:14:18.956787Z",
     "shell.execute_reply.started": "2025-10-09T13:14:18.955245Z"
    }
   },
   "outputs": [],
   "source": [
    "oid = \"ZTF19acqebwl\" #\"ZTF19abguqsi\""
   ]
  },
  {
   "cell_type": "markdown",
   "metadata": {},
   "source": [
    "Extract the minimum id of those objects that have image stamps, i.e. they also have an associated avro file"
   ]
  },
  {
   "cell_type": "code",
   "execution_count": 6,
   "metadata": {
    "ExecuteTime": {
     "end_time": "2022-01-18T21:45:22.127959Z",
     "start_time": "2022-01-18T21:45:21.965053Z"
    },
    "execution": {
     "iopub.execute_input": "2025-10-09T13:14:18.957508Z",
     "iopub.status.busy": "2025-10-09T13:14:18.957426Z",
     "iopub.status.idle": "2025-10-09T13:14:19.564843Z",
     "shell.execute_reply": "2025-10-09T13:14:19.564283Z",
     "shell.execute_reply.started": "2025-10-09T13:14:18.957500Z"
    },
    "scrolled": true
   },
   "outputs": [],
   "source": [
    "candids = client.query_detections(oid=oid, format='pandas')\n",
    "candid = candids.loc[candids.has_stamp].candid.min()"
   ]
  },
  {
   "cell_type": "markdown",
   "metadata": {},
   "source": [
    "# Get avro info from oid and candid"
   ]
  },
  {
   "cell_type": "code",
   "execution_count": 7,
   "metadata": {
    "ExecuteTime": {
     "end_time": "2022-01-18T21:45:25.278655Z",
     "start_time": "2022-01-18T21:45:24.790192Z"
    },
    "execution": {
     "iopub.execute_input": "2025-10-09T13:14:19.565524Z",
     "iopub.status.busy": "2025-10-09T13:14:19.565384Z",
     "iopub.status.idle": "2025-10-09T13:14:20.377554Z",
     "shell.execute_reply": "2025-10-09T13:14:20.376990Z",
     "shell.execute_reply.started": "2025-10-09T13:14:19.565510Z"
    }
   },
   "outputs": [],
   "source": [
    "url = \"https://avro.alerce.online/get_avro_info?oid=\" \\\n",
    "      + str(oid) + \"&candid=\" + str(candid)\n",
    "r = requests.request(url=url, method=\"GET\")\n",
    "response = r.json() if r.status_code == 200 else {}"
   ]
  },
  {
   "cell_type": "code",
   "execution_count": 8,
   "metadata": {
    "ExecuteTime": {
     "end_time": "2022-01-18T21:45:29.094971Z",
     "start_time": "2022-01-18T21:45:29.092682Z"
    },
    "execution": {
     "iopub.execute_input": "2025-10-09T13:14:20.378595Z",
     "iopub.status.busy": "2025-10-09T13:14:20.378415Z",
     "iopub.status.idle": "2025-10-09T13:14:20.385130Z",
     "shell.execute_reply": "2025-10-09T13:14:20.384593Z",
     "shell.execute_reply.started": "2025-10-09T13:14:20.378577Z"
    }
   },
   "outputs": [
    {
     "data": {
      "text/plain": [
       "'aimage, aimagerat, bimage, bimagerat, candid, chinr, chipsf, classtar, clrcoeff, clrcounc, clrmed, clrrms, dec, decnr, diffmaglim, distnr, distpsnr1, distpsnr2, distpsnr3, drb, drbversion, dsdiff, dsnrms, elong, exptime, fid, field, fwhm, isdiffpos, jd, jdendhist, jdendref, jdstarthist, jdstartref, magap, magapbig, magdiff, magfromlim, maggaia, maggaiabright, magnr, magpsf, magzpsci, magzpscirms, magzpsciunc, mindtoedge, nbad, ncovhist, ndethist, neargaia, neargaiabright, nframesref, nid, nmatches, nmtchps, nneg, objectidps1, objectidps2, objectidps3, pdiffimfilename, pid, programid, programpi, ra, ranr, rb, rbversion, rcid, rfid, scorr, seeratio, sgmag1, sgmag2, sgmag3, sgscore1, sgscore2, sgscore3, sharpnr, sigmagap, sigmagapbig, sigmagnr, sigmapsf, simag1, simag2, simag3, sky, srmag1, srmag2, srmag3, ssdistnr, ssmagnr, ssnamenr, ssnrms, sumrat, szmag1, szmag2, szmag3, tblid, tooflag, xpos, ypos, zpclrcov, zpmed'"
      ]
     },
     "execution_count": 8,
     "metadata": {},
     "output_type": "execute_result"
    }
   ],
   "source": [
    "# Show dictionary keys\n",
    "\", \".join(list(response['candidate']))"
   ]
  },
  {
   "cell_type": "markdown",
   "metadata": {},
   "source": [
    "# Get distance, star galaxy score and object id of the the three nearest PS1 objects"
   ]
  },
  {
   "cell_type": "code",
   "execution_count": 9,
   "metadata": {
    "ExecuteTime": {
     "end_time": "2022-01-18T21:48:05.003285Z",
     "start_time": "2022-01-18T21:48:05.000678Z"
    },
    "execution": {
     "iopub.execute_input": "2025-10-09T13:14:20.386272Z",
     "iopub.status.busy": "2025-10-09T13:14:20.386069Z",
     "iopub.status.idle": "2025-10-09T13:14:20.398052Z",
     "shell.execute_reply": "2025-10-09T13:14:20.397715Z",
     "shell.execute_reply.started": "2025-10-09T13:14:20.386254Z"
    }
   },
   "outputs": [
    {
     "name": "stdout",
     "output_type": "stream",
     "text": [
      "objectidps1 118801391366765195\n",
      "sgscore1 0.026624999940395355\n",
      "distpsnr1 0.44015640020370483\n",
      "objectidps2 118801391381720313\n",
      "sgscore2 0.9841669797897339\n",
      "distpsnr2 15.294926643371582\n",
      "objectidps3 118801391410508642\n",
      "sgscore3 0.5\n",
      "distpsnr3 19.648544311523438\n"
     ]
    }
   ],
   "source": [
    "for i in range(3):\n",
    "    for key in ['objectidps%i' % (i+1), 'sgscore%i' % (i+1), 'distpsnr%i' % (i+1)]:\n",
    "        print(key, response['candidate'][key])"
   ]
  },
  {
   "cell_type": "code",
   "execution_count": null,
   "metadata": {},
   "outputs": [],
   "source": []
  }
 ],
 "metadata": {
  "kernelspec": {
   "display_name": "Python 3.11 (ipykernel)",
   "language": "python",
   "name": "python3"
  },
  "language_info": {
   "codemirror_mode": {
    "name": "ipython",
    "version": 3
   },
   "file_extension": ".py",
   "mimetype": "text/x-python",
   "name": "python",
   "nbconvert_exporter": "python",
   "pygments_lexer": "ipython3",
   "version": "3.11.12"
  },
  "toc": {
   "base_numbering": 1,
   "nav_menu": {},
   "number_sections": true,
   "sideBar": true,
   "skip_h1_title": false,
   "title_cell": "Table of Contents",
   "title_sidebar": "Contents",
   "toc_cell": false,
   "toc_position": {},
   "toc_section_display": true,
   "toc_window_display": false
  },
  "varInspector": {
   "cols": {
    "lenName": 16,
    "lenType": 16,
    "lenVar": 40
   },
   "kernels_config": {
    "python": {
     "delete_cmd_postfix": "",
     "delete_cmd_prefix": "del ",
     "library": "var_list.py",
     "varRefreshCmd": "print(var_dic_list())"
    },
    "r": {
     "delete_cmd_postfix": ") ",
     "delete_cmd_prefix": "rm(",
     "library": "var_list.r",
     "varRefreshCmd": "cat(var_dic_list()) "
    }
   },
   "types_to_exclude": [
    "module",
    "function",
    "builtin_function_or_method",
    "instance",
    "_Feature"
   ],
   "window_display": false
  }
 },
 "nbformat": 4,
 "nbformat_minor": 4
}
