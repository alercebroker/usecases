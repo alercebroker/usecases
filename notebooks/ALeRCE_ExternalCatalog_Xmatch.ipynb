{
 "cells": [
  {
   "cell_type": "markdown",
   "id": "b5a4f6af",
   "metadata": {},
   "source": [
    "# Notebook to crossmatch an external catalog with the ALeRCE database\n",
    "\n",
    "```Author: Francisco Förster, Last updated: 20251009```"
   ]
  },
  {
   "cell_type": "code",
   "execution_count": 1,
   "id": "1a84e0ce",
   "metadata": {
    "ExecuteTime": {
     "end_time": "2024-01-29T23:59:24.803253Z",
     "start_time": "2024-01-29T23:59:24.797754Z"
    },
    "execution": {
     "iopub.execute_input": "2025-10-09T13:55:35.722499Z",
     "iopub.status.busy": "2025-10-09T13:55:35.722290Z",
     "iopub.status.idle": "2025-10-09T13:55:36.047434Z",
     "shell.execute_reply": "2025-10-09T13:55:36.047084Z",
     "shell.execute_reply.started": "2025-10-09T13:55:35.722484Z"
    }
   },
   "outputs": [],
   "source": [
    "import pandas as pd\n",
    "import sqlalchemy as sa\n",
    "import requests"
   ]
  },
  {
   "cell_type": "markdown",
   "id": "914936d1",
   "metadata": {},
   "source": [
    "## Open a connection using the public credentials"
   ]
  },
  {
   "cell_type": "code",
   "execution_count": 2,
   "id": "53ea7c2b",
   "metadata": {
    "ExecuteTime": {
     "end_time": "2024-01-29T23:59:25.241439Z",
     "start_time": "2024-01-29T23:59:25.190976Z"
    },
    "execution": {
     "iopub.execute_input": "2025-10-09T13:55:36.048086Z",
     "iopub.status.busy": "2025-10-09T13:55:36.047902Z",
     "iopub.status.idle": "2025-10-09T13:55:36.254501Z",
     "shell.execute_reply": "2025-10-09T13:55:36.254103Z",
     "shell.execute_reply.started": "2025-10-09T13:55:36.048074Z"
    }
   },
   "outputs": [],
   "source": [
    "credentials_file = \"https://raw.githubusercontent.com/alercebroker/usecases/master/alercereaduser_v4.json\"\n",
    "params = requests.get(credentials_file).json()[\"params\"]"
   ]
  },
  {
   "cell_type": "code",
   "execution_count": 3,
   "id": "e6884f31-5a2d-45b9-89b5-f964af054f09",
   "metadata": {
    "execution": {
     "iopub.execute_input": "2025-10-09T13:55:36.255039Z",
     "iopub.status.busy": "2025-10-09T13:55:36.254933Z",
     "iopub.status.idle": "2025-10-09T13:55:38.130148Z",
     "shell.execute_reply": "2025-10-09T13:55:38.129630Z",
     "shell.execute_reply.started": "2025-10-09T13:55:36.255018Z"
    }
   },
   "outputs": [],
   "source": [
    "engine = sa.create_engine(\"postgresql+psycopg2://\" + params[\"user\"] \\\n",
    "                          + \":\" + params[\"password\"] + \"@\" + params[\"host\"] \\\n",
    "                          + \"/\" + params[\"dbname\"])\n",
    "conn = engine.connect()"
   ]
  },
  {
   "cell_type": "markdown",
   "id": "3cc774c8",
   "metadata": {
    "ExecuteTime": {
     "end_time": "2024-01-29T21:29:44.360464Z",
     "start_time": "2024-01-29T21:29:44.356089Z"
    }
   },
   "source": [
    "## Example external catalog"
   ]
  },
  {
   "cell_type": "code",
   "execution_count": 4,
   "id": "eada2072",
   "metadata": {
    "ExecuteTime": {
     "end_time": "2024-01-29T23:59:28.675379Z",
     "start_time": "2024-01-29T23:59:27.956525Z"
    },
    "execution": {
     "iopub.execute_input": "2025-10-09T13:55:38.130840Z",
     "iopub.status.busy": "2025-10-09T13:55:38.130712Z",
     "iopub.status.idle": "2025-10-09T13:55:39.282230Z",
     "shell.execute_reply": "2025-10-09T13:55:39.281346Z",
     "shell.execute_reply.started": "2025-10-09T13:55:38.130828Z"
    }
   },
   "outputs": [
    {
     "data": {
      "text/html": [
       "<div>\n",
       "<style scoped>\n",
       "    .dataframe tbody tr th:only-of-type {\n",
       "        vertical-align: middle;\n",
       "    }\n",
       "\n",
       "    .dataframe tbody tr th {\n",
       "        vertical-align: top;\n",
       "    }\n",
       "\n",
       "    .dataframe thead th {\n",
       "        text-align: right;\n",
       "    }\n",
       "</style>\n",
       "<table border=\"1\" class=\"dataframe\">\n",
       "  <thead>\n",
       "    <tr style=\"text-align: right;\">\n",
       "      <th></th>\n",
       "      <th>id_source</th>\n",
       "      <th>ra</th>\n",
       "      <th>dec</th>\n",
       "    </tr>\n",
       "  </thead>\n",
       "  <tbody>\n",
       "    <tr>\n",
       "      <th>0</th>\n",
       "      <td>source_1</td>\n",
       "      <td>160.183014</td>\n",
       "      <td>33.016467</td>\n",
       "    </tr>\n",
       "    <tr>\n",
       "      <th>1</th>\n",
       "      <td>source_2</td>\n",
       "      <td>174.215249</td>\n",
       "      <td>44.837895</td>\n",
       "    </tr>\n",
       "  </tbody>\n",
       "</table>\n",
       "</div>"
      ],
      "text/plain": [
       "  id_source          ra        dec\n",
       "0  source_1  160.183014  33.016467\n",
       "1  source_2  174.215249  44.837895"
      ]
     },
     "execution_count": 4,
     "metadata": {},
     "output_type": "execute_result"
    }
   ],
   "source": [
    "# The catalog should have id_source, ra, and dec columns\n",
    "df = pd.read_csv(\"https://github.com/alercebroker/usecases/blob/master/example_data/watchlist.csv?raw=True\")\n",
    "df.head()"
   ]
  },
  {
   "cell_type": "code",
   "execution_count": 5,
   "id": "fc8d6388",
   "metadata": {
    "ExecuteTime": {
     "end_time": "2024-01-29T23:59:28.733613Z",
     "start_time": "2024-01-29T23:59:28.729228Z"
    },
    "execution": {
     "iopub.execute_input": "2025-10-09T13:55:39.282796Z",
     "iopub.status.busy": "2025-10-09T13:55:39.282676Z",
     "iopub.status.idle": "2025-10-09T13:55:39.286853Z",
     "shell.execute_reply": "2025-10-09T13:55:39.286281Z",
     "shell.execute_reply.started": "2025-10-09T13:55:39.282785Z"
    }
   },
   "outputs": [],
   "source": [
    "def ztf_crossmatch(conn, df, search_radius=1):\n",
    "    \n",
    "    '''\n",
    "    conn: connection to database\n",
    "    df: external catalog dataframe (with columns id_source, ra, dec)\n",
    "    search_radius: external radius in arcsec (default=1)\n",
    "    \n",
    "    The output is a dataframe with the source id, ra, and dec, \n",
    "    as well as the ALeRCE database meanra, meandec, the crossmatch distance \n",
    "    in degrees and the time of first detection according to the ALeRCE database\n",
    "    '''\n",
    "    \n",
    "    # Fix the dataframe\n",
    "    objects = []\n",
    "    for _, row in df.iterrows():\n",
    "        objects.append(f\"(\\'{row.id_source}\\', {row.ra}, {row.dec})\")\n",
    "    objects_str = \",\\n\".join(objects)\n",
    "    \n",
    "    # Convert the radius into degrees\n",
    "    search_radius = search_radius / 3600\n",
    "    \n",
    "    # Prepare the query\n",
    "    query = \"\"\"\n",
    "    WITH catalog ( source_id, ra, dec) AS (\n",
    "        VALUES\n",
    "            {values}\n",
    "    )\n",
    "    SELECT \n",
    "        c.source_id, c.ra, c.dec, o.oid, o.meanra, o.meandec,\n",
    "        q3c_dist(c.ra, c.dec, o.meanra, o.meandec), o.firstmjd\n",
    "    \n",
    "    FROM object o, catalog c\n",
    "        /*\n",
    "           It is REALLY important to first use the catalog then the object\n",
    "           ra, dec for speed. The radius is in degrees.\n",
    "        */\n",
    "    WHERE\n",
    "        q3c_join(c.ra, c.dec, o.meanra, o.meandec, {radius})\n",
    "    \"\"\"\n",
    "    \n",
    "    # Final query string, radius in degrees\n",
    "    query_str = query.format(values=objects_str, radius=search_radius)\n",
    "    \n",
    "    # Do the query\n",
    "    try:\n",
    "        matches = pd.read_sql(query_str,conn)\n",
    "        matches[\"q3c_dist\"] = matches.q3c_dist * 3600\n",
    "        matches.rename({\"q3c_dist\": \"dist_arcsec\"}, axis=1, inplace=True)\n",
    "        return matches\n",
    "    except:\n",
    "        print(\"Error accessing the database. Most common causes are timeout \" \\\n",
    "              + \"errors or wrongly formatted input query.\")"
   ]
  },
  {
   "cell_type": "markdown",
   "id": "5c0a9804",
   "metadata": {},
   "source": [
    "## Do the crossmatch\n",
    "\n",
    "Note that the default timeout is 2 min, if your catalog is too large you should split in smaller catalogs and do many queries."
   ]
  },
  {
   "cell_type": "code",
   "execution_count": 6,
   "id": "8050b22f",
   "metadata": {
    "ExecuteTime": {
     "end_time": "2024-01-29T23:59:30.090544Z",
     "start_time": "2024-01-29T23:59:29.341466Z"
    },
    "execution": {
     "iopub.execute_input": "2025-10-09T13:55:39.287948Z",
     "iopub.status.busy": "2025-10-09T13:55:39.287820Z",
     "iopub.status.idle": "2025-10-09T13:55:39.891001Z",
     "shell.execute_reply": "2025-10-09T13:55:39.890320Z",
     "shell.execute_reply.started": "2025-10-09T13:55:39.287938Z"
    }
   },
   "outputs": [
    {
     "data": {
      "text/html": [
       "<div>\n",
       "<style scoped>\n",
       "    .dataframe tbody tr th:only-of-type {\n",
       "        vertical-align: middle;\n",
       "    }\n",
       "\n",
       "    .dataframe tbody tr th {\n",
       "        vertical-align: top;\n",
       "    }\n",
       "\n",
       "    .dataframe thead th {\n",
       "        text-align: right;\n",
       "    }\n",
       "</style>\n",
       "<table border=\"1\" class=\"dataframe\">\n",
       "  <thead>\n",
       "    <tr style=\"text-align: right;\">\n",
       "      <th></th>\n",
       "      <th>source_id</th>\n",
       "      <th>ra</th>\n",
       "      <th>dec</th>\n",
       "      <th>oid</th>\n",
       "      <th>meanra</th>\n",
       "      <th>meandec</th>\n",
       "      <th>dist_arcsec</th>\n",
       "      <th>firstmjd</th>\n",
       "    </tr>\n",
       "  </thead>\n",
       "  <tbody>\n",
       "    <tr>\n",
       "      <th>0</th>\n",
       "      <td>source_1</td>\n",
       "      <td>160.183014</td>\n",
       "      <td>33.016467</td>\n",
       "      <td>ZTF18aaacsup</td>\n",
       "      <td>160.183001</td>\n",
       "      <td>33.016479</td>\n",
       "      <td>0.057650</td>\n",
       "      <td>58423.484560</td>\n",
       "    </tr>\n",
       "    <tr>\n",
       "      <th>1</th>\n",
       "      <td>source_1</td>\n",
       "      <td>160.183014</td>\n",
       "      <td>33.016467</td>\n",
       "      <td>ZTF24abrctly</td>\n",
       "      <td>160.183005</td>\n",
       "      <td>33.016208</td>\n",
       "      <td>0.935102</td>\n",
       "      <td>60621.476285</td>\n",
       "    </tr>\n",
       "    <tr>\n",
       "      <th>2</th>\n",
       "      <td>source_2</td>\n",
       "      <td>174.215249</td>\n",
       "      <td>44.837895</td>\n",
       "      <td>ZTF25aabsaek</td>\n",
       "      <td>174.215315</td>\n",
       "      <td>44.837997</td>\n",
       "      <td>0.404018</td>\n",
       "      <td>60664.434861</td>\n",
       "    </tr>\n",
       "    <tr>\n",
       "      <th>3</th>\n",
       "      <td>source_2</td>\n",
       "      <td>174.215249</td>\n",
       "      <td>44.837895</td>\n",
       "      <td>ZTF18aaapcut</td>\n",
       "      <td>174.215277</td>\n",
       "      <td>44.837916</td>\n",
       "      <td>0.103290</td>\n",
       "      <td>58440.470775</td>\n",
       "    </tr>\n",
       "  </tbody>\n",
       "</table>\n",
       "</div>"
      ],
      "text/plain": [
       "  source_id          ra        dec           oid      meanra    meandec  \\\n",
       "0  source_1  160.183014  33.016467  ZTF18aaacsup  160.183001  33.016479   \n",
       "1  source_1  160.183014  33.016467  ZTF24abrctly  160.183005  33.016208   \n",
       "2  source_2  174.215249  44.837895  ZTF25aabsaek  174.215315  44.837997   \n",
       "3  source_2  174.215249  44.837895  ZTF18aaapcut  174.215277  44.837916   \n",
       "\n",
       "   dist_arcsec      firstmjd  \n",
       "0     0.057650  58423.484560  \n",
       "1     0.935102  60621.476285  \n",
       "2     0.404018  60664.434861  \n",
       "3     0.103290  58440.470775  "
      ]
     },
     "execution_count": 6,
     "metadata": {},
     "output_type": "execute_result"
    }
   ],
   "source": [
    "results = ztf_crossmatch(conn, df)\n",
    "results"
   ]
  },
  {
   "cell_type": "markdown",
   "id": "13a01960",
   "metadata": {},
   "source": [
    "## Close the connection"
   ]
  },
  {
   "cell_type": "code",
   "execution_count": 7,
   "id": "c6a8bbbd",
   "metadata": {
    "ExecuteTime": {
     "end_time": "2024-01-29T23:59:32.790951Z",
     "start_time": "2024-01-29T23:59:32.786730Z"
    },
    "execution": {
     "iopub.execute_input": "2025-10-09T13:55:39.892157Z",
     "iopub.status.busy": "2025-10-09T13:55:39.891934Z",
     "iopub.status.idle": "2025-10-09T13:55:40.015287Z",
     "shell.execute_reply": "2025-10-09T13:55:40.014802Z",
     "shell.execute_reply.started": "2025-10-09T13:55:39.892145Z"
    }
   },
   "outputs": [],
   "source": [
    "conn.close()"
   ]
  },
  {
   "cell_type": "code",
   "execution_count": null,
   "id": "a1a5ca05",
   "metadata": {},
   "outputs": [],
   "source": []
  }
 ],
 "metadata": {
  "kernelspec": {
   "display_name": "Python 3.11 (ipykernel)",
   "language": "python",
   "name": "python3"
  },
  "language_info": {
   "codemirror_mode": {
    "name": "ipython",
    "version": 3
   },
   "file_extension": ".py",
   "mimetype": "text/x-python",
   "name": "python",
   "nbconvert_exporter": "python",
   "pygments_lexer": "ipython3",
   "version": "3.11.12"
  },
  "toc": {
   "base_numbering": 1,
   "nav_menu": {},
   "number_sections": true,
   "sideBar": true,
   "skip_h1_title": false,
   "title_cell": "Table of Contents",
   "title_sidebar": "Contents",
   "toc_cell": false,
   "toc_position": {},
   "toc_section_display": true,
   "toc_window_display": false
  },
  "varInspector": {
   "cols": {
    "lenName": 16,
    "lenType": 16,
    "lenVar": 40
   },
   "kernels_config": {
    "python": {
     "delete_cmd_postfix": "",
     "delete_cmd_prefix": "del ",
     "library": "var_list.py",
     "varRefreshCmd": "print(var_dic_list())"
    },
    "r": {
     "delete_cmd_postfix": ") ",
     "delete_cmd_prefix": "rm(",
     "library": "var_list.r",
     "varRefreshCmd": "cat(var_dic_list()) "
    }
   },
   "types_to_exclude": [
    "module",
    "function",
    "builtin_function_or_method",
    "instance",
    "_Feature"
   ],
   "window_display": false
  }
 },
 "nbformat": 4,
 "nbformat_minor": 5
}
