{
 "cells": [
  {
   "cell_type": "markdown",
   "metadata": {
    "id": "6fycJMh_g1db"
   },
   "source": [
    "# ALeRCE active galaxies starter notebook\n",
    "\n",
    "```Author: Paula Sánchez-Sáez```\n",
    "\n",
    "```Updated by Lorena Hernández-García, Last updated: 20221104```\n",
    "\n",
    "ALeRCE starter notebook for active galaxy science using the ALeRCE client, APIs, and a direct database connection.\n",
    "\n",
    "For more information about the ALeRCE broker, please visit http://alerce.science/, or read our publications:\n",
    "* The Automatic Learning for the Rapid Classification of Events (ALeRCE) Alert Broker, [Förster et al. 2021, AJ, 161, 242](https://arxiv.org/abs/2008.03303)\n",
    "* Alert Classification for the ALeRCE Broker System: The Real-time Stamp Classifier, [Carrasco-Davis et al. 2021, AJ, 162, 231](https://arxiv.org/abs/2008.03309)\n",
    "* Alert Classification for the ALeRCE Broker System: The Light Curve Classifier, [Sánchez-Sáez et al. 2021, AJ, 161, 141](https://arxiv.org/abs/2008.03311)\n",
    "\n",
    "Note that this notebook uses the ALeRCE Python client, which can be installed with pip (`pip install alerce`). For more information about this API and about the ALeRCE database visit http://alerce.science/.\n",
    "\n",
    "We recommend running this tutorial from this\n",
    "[Link](https://colab.research.google.com/github/alercebroker/usecases/blob/master/notebooks/ADASS_XXXII_Nov2022_tutorial/ALeRCE_AGN_starter.ipynb)"
   ]
  },
  {
   "cell_type": "markdown",
   "metadata": {
    "id": "1FUrOnMAg1dd"
   },
   "source": [
    "# Table of contents:\n",
    "* [ALeRCE client](#client)\n",
    "* [Requirements](#req)\n",
    "* [Introduction](#intro)\n",
    "* [Simple functions to plot light curves](#simplefunctions)\n",
    "* [Advanced plotting functions including dust and distance attenuation corrections](#advancedfunctions)\n",
    "* [Using Aladin](#aladdin)\n",
    "* [Query many AGN and QSO candidates using the client](#agniaclient)\n",
    "* [Query many AGN, QSO, and Blazar candidates using a direct DB connection](#agndb)\n",
    "* [Query AGN, QSO, and Blazar features and PS1 photometry using a direct DB connection](#agndbother)"
   ]
  },
  {
   "cell_type": "markdown",
   "metadata": {
    "id": "50KpB9Mmg1dd"
   },
   "source": [
    "# ALeRCE client <a class=\"anchor\" id=\"client\"></a>"
   ]
  },
  {
   "cell_type": "markdown",
   "metadata": {
    "id": "bLJJilcIg1de"
   },
   "source": [
    "Install and import the alerce Python client\n"
   ]
  },
  {
   "cell_type": "code",
   "execution_count": null,
   "metadata": {
    "colab": {
     "base_uri": "https://localhost:8080/"
    },
    "id": "WOuzqzVtg1de",
    "outputId": "77792658-8643-4fba-8608-92c5d8545ab2"
   },
   "outputs": [],
   "source": [
    "#!pip install alerce"
   ]
  },
  {
   "cell_type": "code",
   "execution_count": null,
   "metadata": {
    "id": "GlbGKwHJg1de"
   },
   "outputs": [],
   "source": [
    "from alerce.core import Alerce\n",
    "client = Alerce()"
   ]
  },
  {
   "cell_type": "markdown",
   "metadata": {
    "id": "OVp8GMuOg1df"
   },
   "source": [
    "# Requirements <a class=\"anchor\" id=\"req\"></a>"
   ]
  },
  {
   "cell_type": "markdown",
   "metadata": {
    "id": "sU0fZ_qOg1df"
   },
   "source": [
    "Basic requirements "
   ]
  },
  {
   "cell_type": "code",
   "execution_count": null,
   "metadata": {
    "id": "bzhBlNKZg1df"
   },
   "outputs": [],
   "source": [
    "import sys\n",
    "import pandas as pd\n",
    "import numpy as np\n",
    "import matplotlib.pyplot as plt\n",
    "import seaborn as sns\n",
    "import os\n",
    "import requests"
   ]
  },
  {
   "cell_type": "markdown",
   "metadata": {
    "id": "sLtn2EhEg1df"
   },
   "source": [
    "Astropy"
   ]
  },
  {
   "cell_type": "code",
   "execution_count": null,
   "metadata": {
    "id": "fIl6KwMPg1dg"
   },
   "outputs": [],
   "source": [
    "import astropy.units as u\n",
    "from astropy import coordinates\n",
    "from astropy.time import Time\n",
    "from astropy.table import Table, Column\n",
    "from astropy.coordinates import Distance\n",
    "from astropy.cosmology import WMAP7"
   ]
  },
  {
   "cell_type": "markdown",
   "metadata": {
    "id": "6Z_Iljvcg1dg"
   },
   "source": [
    "Astroquery https://astroquery.readthedocs.io/en/latest/"
   ]
  },
  {
   "cell_type": "code",
   "execution_count": null,
   "metadata": {
    "colab": {
     "base_uri": "https://localhost:8080/"
    },
    "id": "kXVocXBDg1dg",
    "outputId": "d80793d5-ea53-45c8-e0cf-12e7d29f5df9"
   },
   "outputs": [],
   "source": [
    "#!pip install astroquery\n",
    "\n",
    "from astroquery.irsa_dust import IrsaDust\n",
    "from astroquery.ned import Ned\n",
    "\n"
   ]
  },
  {
   "cell_type": "markdown",
   "metadata": {
    "id": "sXI5ovaqg1dg"
   },
   "source": [
    "Other external packages"
   ]
  },
  {
   "cell_type": "code",
   "execution_count": null,
   "metadata": {
    "id": "L86QL5xIg1dh"
   },
   "outputs": [],
   "source": [
    "from IPython.display import HTML\n",
    "from ipywidgets import Layout, Box, widgets"
   ]
  },
  {
   "cell_type": "markdown",
   "metadata": {
    "id": "0S9aeeVbg1dh"
   },
   "source": [
    "# Introduction <a class=\"anchor\" id=\"intro\"></a>"
   ]
  },
  {
   "cell_type": "markdown",
   "metadata": {
    "id": "0Txi0hihg1dh"
   },
   "source": [
    "### Classifiers and taxonomies"
   ]
  },
  {
   "cell_type": "markdown",
   "metadata": {
    "id": "FslrwFpZg1dh"
   },
   "source": [
    "There are two classifiers used in ALeRCE ([Förster et al. 2021](https://arxiv.org/abs/2008.03303)):\n",
    "\n",
    "1. A stamp based classifier ([Carrasco-Davis et al. 2021](https://arxiv.org/abs/2008.03309)), which classifies objects based on their first image stamps. The purpose of this classifier is to trigger alerts for young SN candidates and other objects.\n",
    "\n",
    "    The stamp classifier contains the following classes:\n",
    "    * `AGN`\n",
    "    * `SN`\n",
    "    * `VS`\n",
    "    * `Asteroid`\n",
    "    * `Bogus`\n",
    "\n",
    "\n",
    "2. A light curve based classifier ([Sánchez-Sáez et al. 2021](https://ui.adsabs.harvard.edu/abs/2021AJ....161..141S/abstract)), which classifies objects based on their light curve. The purpose of this classifier is to provide a more refined classification starting with at least 6 detections in a given band.\n",
    "\n",
    "    The light curve classifier contains the following classes:\n",
    "\n",
    "    * `SNIa`\n",
    "    * `SNIbc`\n",
    "    * `SNII`\n",
    "    * `SLSN`\n",
    "    * `QSO`\n",
    "    * `AGN`\n",
    "    * `Blazar`\n",
    "    * `CV/Nova`\n",
    "    * `YSO`\n",
    "    * `LPV`\n",
    "    * `E`\n",
    "    * `DSCT`\n",
    "    * `RRL`\n",
    "    * `CEP`\n",
    "    * `Periodic-Other`\n",
    "\n",
    "In this notebook we will focus on the results obtained by the light curve classifier, particularly for the case of active galaxies."
   ]
  },
  {
   "cell_type": "markdown",
   "metadata": {
    "id": "REeGnLhIg1di"
   },
   "source": [
    "The ALeRCE light curve classifier ([Sánchez-Sáez et al. 2021](https://ui.adsabs.harvard.edu/abs/2021AJ....161..141S/abstract)) uses variability features computed from the ZTF alert stream, and colors obtained from AllWISE and ZTF photometry. It uses a Balanced Random Forest algorithm with a two-level scheme, where the top level classifies each source as periodic, stochastic, and transient, and the bottom level further resolve each hierarchical class, yielding a total of 15 classes. This classifier corresponds to the first attempt to classify multiple classes of stochastic variables (including nucleus- and host-dominated active galaxies, blazars, young stellar objects, and cataclysmic variables) in addition to different classes of periodic and transient sources, using real data.\n",
    "\n",
    "The first version of the ALeRCE light curve classifier considers 15 subclasses of variable and transient objects, presented as a taxonomy tree defined by the ALeRCE collaboration:\n",
    "![SanchezSaez+2020](https://github.com/alercebroker/usecases/blob/master/notebooks/figures/taxonomy_tree.png?raw=1)\n",
    "\n"
   ]
  },
  {
   "cell_type": "markdown",
   "metadata": {
    "id": "F7gnVFUgg1di"
   },
   "source": [
    "In particular, the light curve classifier considers the following classes of active galaxies: \n",
    "\n",
    "* AGN: type 1 Seyfert galaxies (i.e., galaxies whose emission is dominated by the host galaxy), selected from MILLIQUAS (broad type \"A\"), and from Oh et al. 2015. \n",
    "\n",
    "* QSO: type 1 nucleus-dominated active galaxies (i.e., galaxies whose emission is dominated by their active nuclei), selected from MILLIQUAS (broad type \"Q\").\n",
    "\n",
    "* Blazar: BL Lac objects and Flat Spectrum Radio Quasars (FSRQ), selected from ROMABZCAT and MILLIQUAS."
   ]
  },
  {
   "cell_type": "markdown",
   "metadata": {
    "id": "RgdaqMhMg1dj"
   },
   "source": [
    "The confusion matrix from [Sánchez-Sáez et al. 2021](https://ui.adsabs.harvard.edu/abs/2021AJ....161..141S/abstract) shows that the light curve classifier has a very good performance separating QSOs, AGNs, and Blazars:\n",
    "\n",
    "![SanchezSaez+2020](https://github.com/alercebroker/usecases/blob/master/notebooks/figures/SanchezSaez+2020_confusion.png?raw=1)"
   ]
  },
  {
   "cell_type": "markdown",
   "metadata": {
    "id": "lmBLOGYog1dj"
   },
   "source": [
    "The recall curves as a function of magnitude and number of detections for active galaxies grouped as a single class are shown below:\n",
    "<table><tr>\n",
    "<td> <img src=\"https://github.com/alercebroker/usecases/blob/master/notebooks/figures/recall_agn_qso_blazar_for_mag.png?raw=1\" alt=\"Drawing\" style=\"width: 450px;\"/> </td>\n",
    "<td> <img src=\"https://github.com/alercebroker/usecases/blob/master/notebooks/figures/recall_agn_qso_blazar_for_ndet.png?raw=1\" alt=\"Drawing\" style=\"width: 450px;\"/> </td>\n",
    "</tr></table>"
   ]
  },
  {
   "cell_type": "markdown",
   "metadata": {
    "id": "dyhwsG8xg1dj"
   },
   "source": [
    "These recall curves are computed considering: a) the features available for the $g$ and $r$ bands (black triangles), b) the features available only for the $g$ band (green circles), and c) the features available only for the $r$ band (red squares). For details see [Sánchez-Sáez et al. 2021](https://ui.adsabs.harvard.edu/abs/2021AJ....161..141S/abstract). In general, both bands are available for the case of active galaxies. From these curves we can see that the light curve classifier has a very good performance selecting active galaxies as a single class. "
   ]
  },
  {
   "cell_type": "markdown",
   "metadata": {
    "id": "yWyt4E93g1dj"
   },
   "source": [
    "In this notebook we will show examples of how to use the different ALeRCE services for ative galaxy science. We will query data from a single AGN in order to plot its difference magnitude, corrected magnitude light curve, and data release (DR) light curve, and applying Milky Way dust attenuation corrections as well. \n",
    "\n",
    "Then, we will query many AGNs, QSOs, and Blazars using the ALeRCE client, showing some examples of light curves and stamps. Finally, we will repeat this query for a much larger sample size connecting directly to the ALeRCE database, and we will query and show some relevant features.\n"
   ]
  },
  {
   "cell_type": "markdown",
   "metadata": {
    "id": "20UL54_bg1dk"
   },
   "source": [
    "# Simple functions to plot light curves  <a class=\"anchor\" id=\"simplefunctions\"></a>\n"
   ]
  },
  {
   "cell_type": "markdown",
   "metadata": {
    "id": "dR4MDwb_g1dk"
   },
   "source": [
    "We will create three functions that plot the light curve given an object id (oid):\n",
    "\n",
    "a) The first function (plot_diffLC) plots the difference magnitude light curve, as well as the non-detection diffmaglims (limiting magnitudes in the difference images). \n",
    "\n",
    "b) The second function (plot_corrLC) plots the apparent (or corrected) magnitude light curve (an estimate of the science images light curve). These corrected magnitudes are computed by the ALeRCE pipeline by summing up the flux measured in the difference images ($f_{\\rm diff}$) and the flux measured from the template image ($f_{\\rm ref}$), taking into account whether the difference between the science and reference image in a given epoch ($\\rm sgn$) is positive or negative (for more details see the appendix of Förster et al. 2021) :\n",
    "\n",
    "$$\n",
    "    \\hat f_{\\rm sci} = f_{\\rm ref} + {\\rm sgn}~ f_{\\rm diff}\n",
    "$$\n",
    "\n",
    "c) The third function (plot_corrLC_DR) plots the apparent (or corrected) magnitude light curve using the alerts and the data release (DR). While alerts are generated for changes above 5$\\sigma$ respect to a reference image, the DR performs the photometry measurements on every single science image. This results in a complete light curve since 2018. ZTF releases the DR every two months.\n",
    "\n",
    "\n",
    "These functions use a dataframe with detections and a dataframe with non detections.\n",
    "\n",
    "We will first define manually the oid which we want to explore (we select an AGN with known redshift from NED for test purposes, we will later do queries for a collection of sources)."
   ]
  },
  {
   "cell_type": "code",
   "execution_count": null,
   "metadata": {
    "id": "sYskJlStg1dk"
   },
   "outputs": [],
   "source": [
    "seloid = \"ZTF18aajupnt\" # changing-look LINER from Frederick et al. 2019 \n",
    "                        # (https://ui.adsabs.harvard.edu/abs/2019ApJ...883...31F/abstract)"
   ]
  },
  {
   "cell_type": "markdown",
   "metadata": {
    "id": "lzqZH5fYg1dk"
   },
   "source": [
    "We start defining the function that plots the difference image magnitudes"
   ]
  },
  {
   "cell_type": "code",
   "execution_count": null,
   "metadata": {
    "id": "ETRoNTVOg1dk"
   },
   "outputs": [],
   "source": [
    "def plot_diffLC(oid, LC_det, LC_nondet): \n",
    "    \n",
    "    fig, ax = plt.subplots(figsize = (14, 8))\n",
    "    labels = {1: 'g', 2: 'r'}\n",
    "    colors = {1: '#56E03A', 2: '#D42F4B'}\n",
    "    markers = {1: 'o', 2: 's'}\n",
    "    \n",
    "    # loop the passbands\n",
    "    for fid in [1, 2]:\n",
    "        \n",
    "        # plot detections if available\n",
    "        mask = LC_det.fid == fid\n",
    "        if np.sum(mask) > 0:\n",
    "            # note that the detections index is candid and that we are plotting the psf corrected magnitudes\n",
    "            ax.errorbar(LC_det[mask].mjd, LC_det[mask].magpsf, \n",
    "                yerr = LC_det[mask].sigmapsf, c = colors[fid], fmt=markers[fid], label = labels[fid])\n",
    "        \n",
    "        # plot non detections if available and if wanted:\n",
    "        mask = (LC_nondet.fid == fid) & (LC_nondet.diffmaglim > -900)\n",
    "        if (np.sum(mask) > 0):     \n",
    "            # non detections index is mjd\n",
    "            ax.scatter(LC_nondet[mask].mjd, LC_nondet[mask].diffmaglim, c = colors[fid], alpha = 0.5,\n",
    "                marker = 'v', label = \"lim.mag. %s\" % labels[fid])\n",
    "            \n",
    "    ax.set_title(oid)\n",
    "    ax.set_xlabel(\"MJD\")\n",
    "    ax.set_ylabel(\"difference magnitude\")\n",
    "    ax.legend()\n",
    "    ax.set_ylim(ax.get_ylim()[::-1])"
   ]
  },
  {
   "cell_type": "markdown",
   "metadata": {
    "id": "qai03VPCg1dl"
   },
   "source": [
    "And now the function that plot the corrected magnitude light curve"
   ]
  },
  {
   "cell_type": "code",
   "execution_count": null,
   "metadata": {
    "id": "GOL1tRVjg1dl"
   },
   "outputs": [],
   "source": [
    "def plot_corrLC(oid, LC_det):\n",
    "    \n",
    "    fig, ax = plt.subplots(figsize = (14, 8))\n",
    "    labels = {1: 'g', 2: 'r'}\n",
    "    colors = {1: '#56E03A', 2: '#D42F4B'}\n",
    "    markers = {1: 'o', 2: 's'}\n",
    "    \n",
    "    # loop the passbands\n",
    "    for fid in [1, 2]:\n",
    "        \n",
    "        # plot detections if available\n",
    "        mask = LC_det.fid == fid\n",
    "        if np.sum(mask) > 0:\n",
    "            # note that the detections index is candid and that we are plotting the psf corrected magnitudes\n",
    "            ax.errorbar(LC_det[mask].mjd, LC_det[mask].magpsf_corr, \n",
    "                yerr = LC_det[mask].sigmapsf_corr_ext, c = colors[fid], fmt=markers[fid], label = labels[fid])\n",
    "        \n",
    "            \n",
    "    ax.set_title(oid)\n",
    "    ax.set_xlabel(\"MJD\")\n",
    "    ax.set_ylabel(\"Apparent magnitude\")\n",
    "    ax.legend()\n",
    "    ax.set_ylim(ax.get_ylim()[::-1])"
   ]
  },
  {
   "cell_type": "markdown",
   "metadata": {},
   "source": [
    "We now create a function to get data from the ZTF Data Release (DR).  As a result, we will have the data of the source from 2018, independently of the alerts. "
   ]
  },
  {
   "cell_type": "code",
   "execution_count": null,
   "metadata": {},
   "outputs": [],
   "source": [
    "def get_DR(oid, url=\"https://api.alerce.online/ztf/dr/v1/light_curve/\"):\n",
    "    stats = client.query_object(oid, format='pandas')\n",
    "    \n",
    "    ra = float(stats.meanra)\n",
    "    dec = float(stats.meandec)\n",
    "    query = {'ra':ra, 'dec':dec, 'radius':1.5}\n",
    "\n",
    "    response = requests.get(url, query)\n",
    "    output = response.json()\n",
    "\n",
    "    df = []\n",
    "    for i in output:\n",
    "        aux = pd.DataFrame({'hmjd': np.array(i[\"hmjd\"]), 'mag': np.array(i[\"mag\"]), \"magerr\": np.array(i[\"magerr\"])})\n",
    "        aux[\"ID\"] = int(i[\"_id\"])\n",
    "        aux[\"filterid\"] = int(i[\"filterid\"])\n",
    "        aux[\"oid\"] = oid\n",
    "        df.append(aux)\n",
    "\n",
    "    if df != []:  \n",
    "        return pd.concat(df) #output\n",
    "    else:\n",
    "        return None"
   ]
  },
  {
   "cell_type": "code",
   "execution_count": null,
   "metadata": {},
   "outputs": [],
   "source": [
    "# get candidate ZTF data release information\n",
    "DR = get_DR(seloid)\n",
    "#print(DR.columns)"
   ]
  },
  {
   "cell_type": "markdown",
   "metadata": {},
   "source": [
    "And then we define the function to plot the ZTF DR light curve in combination with the alerts light curve for comparison:"
   ]
  },
  {
   "cell_type": "code",
   "execution_count": null,
   "metadata": {},
   "outputs": [],
   "source": [
    "def plot_corrLC_DR(oid, LC_det, DR):\n",
    "    \n",
    "    fig, ax = plt.subplots(figsize = (14, 8))\n",
    "    labels = {1: 'g', 2: 'r'}\n",
    "    labels1 = {1: 'g DR', 2: 'r DR'}\n",
    "    colors = {1: '#56E03A', 2: '#D42F4B'}\n",
    "    colors1 = {1: '#ADA3A3', 2: '#377EB8',}\n",
    "    markers = {1: 'o', 2: 's'}\n",
    "    \n",
    "    # loop the passbands\n",
    "    for fid in [1, 2]:\n",
    "        \n",
    "        # plot detections if available\n",
    "        mask = LC_det.fid == fid\n",
    "        maskDR = DR.filterid == fid\n",
    "        if np.sum(mask) > 0:\n",
    "            # note that the detections index is candid and that we are plotting the psf corrected magnitudes\n",
    "            ax.errorbar(DR[maskDR].hmjd, DR[maskDR].mag, \n",
    "                yerr = DR[maskDR].magerr, c = colors1[fid], fmt=markers[fid], label = labels1[fid], alpha=.3)\n",
    "            ax.errorbar(LC_det[mask].mjd, LC_det[mask].magpsf_corr, \n",
    "                yerr = LC_det[mask].sigmapsf_corr_ext, c = colors[fid], fmt=markers[fid], label = labels[fid])\n",
    "            \n",
    "        \n",
    "            \n",
    "    ax.set_title(oid)\n",
    "    ax.set_xlabel(\"MJD\")\n",
    "    ax.set_ylabel(\"Apparent magnitude\")\n",
    "    ax.legend()\n",
    "    ax.set_ylim(ax.get_ylim()[::-1])"
   ]
  },
  {
   "cell_type": "markdown",
   "metadata": {
    "id": "yvu1poMMg1dl"
   },
   "source": [
    "Now, we will create a function that gets the light curve data and plots it if required, selecting whether we want the difference, the corrected magnitude, or the DR light curves. The results are then returned to the user as a dictionary. Note that we use the client to query the detections and non detections and that we return the results in pandas format (default is votable)."
   ]
  },
  {
   "cell_type": "code",
   "execution_count": null,
   "metadata": {
    "id": "nrjJChL2g1dl"
   },
   "outputs": [],
   "source": [
    "def getLCdata(oid, doLC = False,  plot_diff = False, doDR = False):\n",
    "    \n",
    "    # show link\n",
    "    display(HTML(\"<a href='http://alerce.online/object/%s' target=\\\"_blank\\\"> %s <a>\" % (oid, oid)))\n",
    "\n",
    "    results = {\"oid\": oid}\n",
    "        \n",
    "    # query detections\n",
    "    LC_det = client.query_detections(oid, format='pandas')\n",
    "    results[\"lc_det\"] = LC_det\n",
    "        \n",
    "    # query non detections\n",
    "    LC_nondet = client.query_non_detections(oid, format='pandas')\n",
    "    results[\"lc_nondet\"] = LC_nondet\n",
    "    \n",
    "    # plot the LC\n",
    "    if doLC:\n",
    "        if plot_diff:\n",
    "            plot_diffLC(oid, LC_det, LC_nondet)\n",
    "        else: \n",
    "            plot_corrLC(oid, LC_det)\n",
    "            \n",
    "    # plot the LC\n",
    "    if doDR:\n",
    "        if plot_diff:\n",
    "            plot_diffLC(oid, LC_det, LC_nondet)\n",
    "        else: \n",
    "            plot_corrLC_DR(oid, LC_det, DR)\n",
    "        \n",
    "    # return data\n",
    "    return results"
   ]
  },
  {
   "cell_type": "markdown",
   "metadata": {
    "id": "_FA02XwBg1dl"
   },
   "source": [
    "And now we can plot the object's difference light curve, including detections and non-detections"
   ]
  },
  {
   "cell_type": "code",
   "execution_count": null,
   "metadata": {
    "colab": {
     "base_uri": "https://localhost:8080/",
     "height": 513
    },
    "id": "z7dBrju-g1dm",
    "outputId": "f35b904c-abf8-45cf-87df-78d1f5758c8f"
   },
   "outputs": [],
   "source": [
    "results = getLCdata(seloid, doLC=True, plot_diff = True)"
   ]
  },
  {
   "cell_type": "markdown",
   "metadata": {
    "id": "Bwbv8eEog1dm"
   },
   "source": [
    "And the object's corrected light curve, showing only the detections"
   ]
  },
  {
   "cell_type": "code",
   "execution_count": null,
   "metadata": {
    "colab": {
     "base_uri": "https://localhost:8080/",
     "height": 513
    },
    "id": "f9ipFkJNg1do",
    "outputId": "62e91427-f0d0-49ad-c36c-179e543f4061"
   },
   "outputs": [],
   "source": [
    "results = getLCdata(seloid, doLC=True)"
   ]
  },
  {
   "cell_type": "markdown",
   "metadata": {},
   "source": [
    "As well as the ZTF DR light curve, along with the alerts light curve:"
   ]
  },
  {
   "cell_type": "code",
   "execution_count": null,
   "metadata": {},
   "outputs": [],
   "source": [
    "results = getLCdata(seloid, doDR = True)"
   ]
  },
  {
   "cell_type": "markdown",
   "metadata": {
    "id": "mqfUqdEPg1do"
   },
   "source": [
    "ZTF18aajupnt (AT2018dyk) was classified as a changing-look LINER by [Frederick et al. 2019](https://ui.adsabs.harvard.edu/abs/2019ApJ...883...31F/abstract). This source was first [classified as TDE](https://wis-tns.weizmann.ac.il/object/2018dyk/classification-cert), however its light curve does not show the power-law decline characteristic of an optical TDE. Frederick et al. 2019 performed a detailed multi-wavelength photometric and spectroscopic analysis of this target (see Section 3.6), and demonstrated that ZTF18aajupnt is an \"extreme\" changing-look LINER, which transitioned into a narrow-line Seyfert 1 (NLS1).\n",
    "\n",
    "ZTF18aajupnt is classified as AGN by the light curve classifier, with a probability of 0.65.\n",
    "\n",
    "If we compare the alerts light curve with the DR light curve, we can see the difference in dates, with alerts up to 58700 MJD, and the DR up to 59500 MJD.\n",
    "\n",
    "Note the difference between the difference and corrected light curves. The corrected light curve of ZTF18aajupnt is much redder. \n",
    "\n",
    "\n"
   ]
  },
  {
   "cell_type": "markdown",
   "metadata": {
    "id": "eLh6cVBBg1dp"
   },
   "source": [
    "It is important to use the corrected light curve for variability analyses, in particular for sources with changes in the sign of the difference between the reference and the science image. This can be seen in the light curve of Mrk 817 (ZTF18aamgjku):"
   ]
  },
  {
   "cell_type": "code",
   "execution_count": null,
   "metadata": {
    "colab": {
     "base_uri": "https://localhost:8080/",
     "height": 513
    },
    "id": "GQtl0tscg1dp",
    "outputId": "bca35cff-4a53-47c7-ea2c-88299b50c8a4"
   },
   "outputs": [],
   "source": [
    "seloid = \"ZTF18aamgjku\"\n",
    "results = getLCdata(seloid, doLC=True, plot_diff = True)"
   ]
  },
  {
   "cell_type": "code",
   "execution_count": null,
   "metadata": {
    "colab": {
     "base_uri": "https://localhost:8080/",
     "height": 513
    },
    "id": "8cO58_YKg1dp",
    "outputId": "a657d84f-f993-4315-8429-3a90107fd9ba"
   },
   "outputs": [],
   "source": [
    "results = getLCdata(seloid, doLC=True)"
   ]
  },
  {
   "cell_type": "code",
   "execution_count": null,
   "metadata": {},
   "outputs": [],
   "source": [
    "DR = get_DR(seloid)\n",
    "results = getLCdata(seloid, doDR=True)"
   ]
  },
  {
   "cell_type": "markdown",
   "metadata": {
    "id": "S2dsSKhtg1dq"
   },
   "source": [
    "This target (Mrk 817) is particularly interesting, since it presents a change in the sign of the difference between the reference and the science image, therefore the real shape of the light curve cannot been clearly distinguished using from the difference magnitude light curve. That is why is very important for the study of active galaxies to always use the apparent or corrected magnitude light curve. Hereafter we will use the corrected light curves. \n",
    "\n",
    " "
   ]
  },
  {
   "cell_type": "markdown",
   "metadata": {
    "id": "MPbpr_ejg1dq"
   },
   "source": [
    "# Advanced plotting functions including dust and distance attenuation corrections  <a class=\"anchor\" id=\"advancedfunctions\"></a>"
   ]
  },
  {
   "cell_type": "markdown",
   "metadata": {
    "id": "3ChBiFfKg1dq"
   },
   "source": [
    "We will modify our previous function (plot_corrLC) and now we will be able to receive a dictionary with attenuations due to Galactic extinction, as well as the redshift. This will allow us to get absolute magnitudes (assuming no K-corrections), and to \n",
    "transform the light curve to the source rest frame. Note that we use astroquery Distance and WMAP7 objects, as well as mag units."
   ]
  },
  {
   "cell_type": "code",
   "execution_count": null,
   "metadata": {
    "id": "L-3tB5WEg1dq"
   },
   "outputs": [],
   "source": [
    "def plotLC(oid, LC_det, A=None, redshift=None):\n",
    "    \n",
    "    fig, ax = plt.subplots(figsize = (14, 8))\n",
    "    labels = {1: 'g', 2: 'r'}\n",
    "    colors = {1: '#56E03A', 2: '#D42F4B'}\n",
    "    markers = {1: 'o', 2: 's'}\n",
    "    \n",
    "    # distmod: distance modulus, reftime: reference time\n",
    "    if redshift is not None:\n",
    "        distmod = float(Distance(z=redshift, cosmology=WMAP7).distmod / u.mag)\n",
    "        reftime = LC_det.mjd.min()\n",
    "    else:\n",
    "        distmod = 0\n",
    "        reftime = 0\n",
    "        redshift = 0\n",
    "        \n",
    "    # loop the passbands\n",
    "    for fid in [1, 2]:\n",
    "        \n",
    "        # galactic extinction in the given band\n",
    "        if A is not None:\n",
    "            A_fid = A[labels[fid]]\n",
    "        else:\n",
    "            A_fid = 0\n",
    "\n",
    "        # plot detections if available\n",
    "        mask = LC_det.fid == fid\n",
    "        if np.sum(mask) > 0:\n",
    "            \n",
    "            # change time to restframe days if redshift is not zero\n",
    "            times = (LC_det[mask].mjd - reftime) / (1. + redshift)\n",
    "            \n",
    "            # note that the detections index is candid and that we are plotting the psf corrected magnitudes\n",
    "            if A_fid != 0:\n",
    "                # plot attenuated light curve with small alpha\n",
    "                ax.errorbar(times, LC_det[mask].magpsf_corr - distmod, \n",
    "                    yerr = LC_det[mask].sigmapsf_corr_ext, c = colors[fid], fmt=markers[fid], label = labels[fid], alpha=0.1)\n",
    "                # show dust and distance attenuation corrected light curve\n",
    "                ax.errorbar(times, LC_det[mask].magpsf_corr - A_fid - distmod, \n",
    "                    yerr = LC_det[mask].sigmapsf_corr_ext, c = colors[fid], fmt=markers[fid], label = \"%s (ext. corr.)\" % labels[fid])\n",
    "            else:\n",
    "                # correct only for redshift\n",
    "                ax.errorbar(times, LC_det[mask].magpsf_corr - distmod, \n",
    "                    yerr = LC_det[mask].sigmapsf_corr_ext - A_fid, c = colors[fid], fmt=markers[fid], label = labels[fid])\n",
    "        \n",
    "            \n",
    "    # labels\n",
    "    if A is not None and redshift != 0:\n",
    "        ax.set_title(\"%s ($A_g=%.3f, A_r=%.3f$, z=%.4f)\" % (oid, A[\"g\"], A[\"r\"], redshift))\n",
    "    elif redshift != 0:\n",
    "        ax.set_title(\"%s (z=%.4f)\" % (oid, redshift))\n",
    "    elif A is not None:\n",
    "        ax.set_title(\"%s ($A_g=%.3f, A_r=%.3f$)\" % (oid, A[\"g\"], A[\"r\"]))\n",
    "    else:\n",
    "        ax.set_title(oid)\n",
    "        \n",
    "    if redshift == 0:\n",
    "        ax.set_xlabel(\"MJD\")\n",
    "        ax.set_ylabel(\"Apparent magnitude\")\n",
    "    else:\n",
    "        ax.set_xlabel(\"Restframe time [days]\")\n",
    "        ax.set_ylabel(\"Absolute magnitude (no K-corr.)\")\n",
    "    ax.legend()\n",
    "    ax.set_ylim(ax.get_ylim()[::-1])"
   ]
  },
  {
   "cell_type": "markdown",
   "metadata": {
    "id": "2Y2jnfpcg1dr"
   },
   "source": [
    "Now we test these functions with the same AGN as before (Mrk 817). This source has a known spectrocopic redshift, but this is usually not the case."
   ]
  },
  {
   "cell_type": "markdown",
   "metadata": {
    "id": "HykIXjFjg1dr"
   },
   "source": [
    "We will also modify the getLCdata function to get all the necessary information given the object id (oid). It now does the following:\n",
    " - display a link to the ALeRCE explorer page for this object\n",
    " - get the basic object statistics, this includes the position in the sky (using the ALeRCE client)\n",
    " - get the detections (using the ALeRCE client). Non-detections are excluded now.\n",
    " - get the Milky Way dust attenuation at the given position in the sky (using astroquery IrsaDust)\n",
    " - plot the apparent magnitude light curve corrected for dust attenuation (using the previously defined function)\n",
    " - query NED to get the redshift, using astroquery Ned, and a radius of 2 arcseconds\n",
    " - plot the absolute magnitude light curve correction for Milky Way dust and distance attenuation, in restframe time and ignoring k-corrections (using the previously defined plotLC function)\n",
    " - plot the first image stamps associated to this source (using the ALeRCE client)"
   ]
  },
  {
   "cell_type": "code",
   "execution_count": null,
   "metadata": {
    "id": "TCCuNAeag1dr"
   },
   "outputs": [],
   "source": [
    "def getLCdata(oid, doLC=False, doext=False, dostamp=False, doNED=False, doredshift=False):\n",
    "\n",
    "    # show link\n",
    "    display(HTML(\"<a href='http://alerce.online/object/%s' target=\\\"_blank\\\"> %s <a>\" % (oid, oid)))\n",
    "    \n",
    "    results = {\"oid\": oid}\n",
    "    \n",
    "    # query basic stats\n",
    "    LC_stats = client.query_object(oid, format='pandas')\n",
    "    results[\"stats\"] = LC_stats\n",
    "    \n",
    "    # query detections\n",
    "    LC_det = client.query_detections(oid, format='pandas')\n",
    "    results[\"lc_det\"] = LC_det\n",
    "    \n",
    "    # object coordinates\n",
    "    co = coordinates.SkyCoord(ra=LC_stats.meanra[0], dec=LC_stats.meandec[0], unit=(u.deg, u.deg), frame='fk5')\n",
    "    \n",
    "    # get galactic extinction\n",
    "    if doext:\n",
    "        # Galactic extinction (use SFD = D.J. Schlegel, D.P. Finkbeiner, & M. Davis (1998, ApJ, 500, 525))\n",
    "        table = IrsaDust.get_extinction_table(co)\n",
    "        A = {\"g\": float(table[table[\"Filter_name\"] == \"SDSS g\"][\"A_SFD\"]), \"r\": float(table[table[\"Filter_name\"] == \"SDSS r\"][\"A_SFD\"])}\n",
    "        results[\"attenuation\"] = A\n",
    "\n",
    "    # plot the LC\n",
    "    if doLC:\n",
    "        if doext:\n",
    "            plotLC(oid, LC_det, A)\n",
    "        else:\n",
    "            plotLC(oid, LC_det)\n",
    "            \n",
    "    # find NED galaxies\n",
    "    if doNED:\n",
    "        Ned_table = Ned.query_region(co, radius=2.0 * u.arcsec, equinox='J2000.0')\n",
    "        display(Ned_table)\n",
    "        results[\"ned_table\"] = Ned_table\n",
    "        \n",
    "        # save closest redshift if any\n",
    "        df_ned = Ned_table.to_pandas()\n",
    "        mask=df_ned.Redshift.notna()\n",
    "        if mask.sum() > 0:\n",
    "            results[\"redshift\"] = df_ned.loc[df_ned.loc[mask].Separation.idxmin()].Redshift\n",
    "            print(\"Redshift found: %s\" % results[\"redshift\"])\n",
    "            \n",
    "    # plot absolute value (without K-corrections)\n",
    "    if doredshift:\n",
    "        if type(doredshift) == float and doredshift > 0:\n",
    "            results[\"redshift\"] = doredshift\n",
    "        if \"redshift\" in results.keys():\n",
    "            if doext:\n",
    "                plotLC(oid, LC_det, A, results[\"redshift\"])\n",
    "            else:\n",
    "                plotLC(oid, LC_det, results[\"redshift\"])            \n",
    "    \n",
    "    \n",
    "    \n",
    "    \n",
    "    # show the first image stamp\n",
    "    if dostamp:\n",
    "        candid = results[\"lc_det\"].loc[results[\"lc_det\"].has_stamp].candid.min()\n",
    "        stamps = client.get_stamps(oid, candid)\n",
    "        science, ref, difference = stamps[0].data, stamps[1].data, stamps[2].data\n",
    "        fig, ax = plt.subplots(ncols=3, figsize=(12, 6))\n",
    "        for idx, im in enumerate([np.log(science), np.log(ref), difference]):\n",
    "            ax[idx].imshow(im, cmap='viridis') # Log scale for visualization\n",
    "            ax[idx].axes.get_xaxis().set_visible(False)\n",
    "            ax[idx].axes.get_yaxis().set_visible(False)\n",
    "        ax[0].set_title(\"oid: %s, candid: %s (science, reference and difference)\" % (oid, candid), loc='left')\n",
    "        fig.subplots_adjust(wspace = 0, hspace = 0)\n",
    "        \n",
    "    # return data\n",
    "    return results"
   ]
  },
  {
   "cell_type": "code",
   "execution_count": null,
   "metadata": {
    "colab": {
     "base_uri": "https://localhost:8080/",
     "height": 1000
    },
    "id": "D9oW0Ra-g1ds",
    "outputId": "720f8d32-b0c0-4672-8cbb-a7eaee4ca9fe"
   },
   "outputs": [],
   "source": [
    "results_1st_target = getLCdata(seloid, doLC=True, doext=True, dostamp=True, doNED=True, doredshift=True)"
   ]
  },
  {
   "cell_type": "markdown",
   "metadata": {
    "id": "NogAsI1Kg1ds"
   },
   "source": [
    "This source has the typical absolute magnitude observed for low redshift active galaxies. "
   ]
  },
  {
   "cell_type": "markdown",
   "metadata": {
    "id": "JTjsdF6pg1ds"
   },
   "source": [
    "You can also force the absolute magnitude plot by giving the redshift manually. This may be necessary if there is not a redshift in NED or you need to use a much larger search radius to find it automatically. In this case we selected a source classified as GALAXY by the DR16 catalog \"DR16Q_Superset_v3\" ([Lyke et al. 2020]( https://ui.adsabs.harvard.edu/abs/2020arXiv200709001L/abstract)). "
   ]
  },
  {
   "cell_type": "code",
   "execution_count": null,
   "metadata": {
    "colab": {
     "base_uri": "https://localhost:8080/",
     "height": 1000
    },
    "id": "iLB8asq9g1ds",
    "outputId": "e580f7b3-0ee0-46be-ee25-e8a12be833cb"
   },
   "outputs": [],
   "source": [
    "results_2nd_target = getLCdata(\"ZTF18abotama\", doLC=True, doext=True, dostamp=True, doNED=True, doredshift=0.3471357);"
   ]
  },
  {
   "cell_type": "markdown",
   "metadata": {
    "id": "Llw1UsR8g1ds"
   },
   "source": [
    "It can be seen that this source shows a variable flux, but its [SDSS spectra](http://skyserver.sdss.org/dr15/en/tools/chart/navi.aspx?ra=24.746433972028&dec=26.0043609167832) shows no clear signal of SMBH activity "
   ]
  },
  {
   "cell_type": "markdown",
   "metadata": {
    "id": "EAOucCpig1ds"
   },
   "source": [
    "# Using Aladin   <a class=\"anchor\" id=\"aladdin\"></a>"
   ]
  },
  {
   "cell_type": "markdown",
   "metadata": {
    "id": "t5v2y_oBg1ds"
   },
   "source": [
    "We can show an image from Aladin to see the source and its environment (we could also use ipyaladin for more interactivity, but it is not currently working in Colab). In this case we continue working with Mrk 817."
   ]
  },
  {
   "cell_type": "code",
   "execution_count": null,
   "metadata": {
    "id": "tiVo1cAIg1dt"
   },
   "outputs": [],
   "source": [
    "# Use the example code from Aladin Lite\n",
    "def show_image(results):\n",
    "  query = \"\"\"\n",
    "<!-- include Aladin Lite CSS file in the head section of your page -->\n",
    "<link rel=\"stylesheet\" href=\"https://aladin.u-strasbg.fr/AladinLite/api/v2/latest/aladin.min.css\" />\n",
    " \n",
    "<!-- you can skip the following line if your page already integrates the jQuery library -->\n",
    "<script type=\"text/javascript\" src=\"https://code.jquery.com/jquery-1.12.1.min.js\" charset=\"utf-8\"></script>\n",
    " \n",
    "<!-- insert this snippet where you want Aladin Lite viewer to appear and after the loading of jQuery -->\n",
    "<div id=\"aladin-lite-div\" style=\"width:800px;height:400px;\"></div>\n",
    "<script type=\"text/javascript\" src=\"https://aladin.u-strasbg.fr/AladinLite/api/v2/latest/aladin.min.js\" charset=\"utf-8\"></script>\n",
    "<script type=\"text/javascript\">\n",
    "    var aladin = A.aladin('#aladin-lite-div', {survey: \"P/PanSTARRS/DR1/color-z-zg-g\", fov:0.04, target: \"%s, %s\"});\n",
    "</script>\n",
    "\"\"\" % (float(results[\"stats\"].meanra), float(results[\"stats\"].meandec))\n",
    "  display(HTML(query))"
   ]
  },
  {
   "cell_type": "code",
   "execution_count": null,
   "metadata": {
    "colab": {
     "base_uri": "https://localhost:8080/",
     "height": 419
    },
    "id": "TVb8E3KSg1dt",
    "outputId": "a123718c-a3c8-4731-e71a-f6a65aaf0af2"
   },
   "outputs": [],
   "source": [
    "# this uses the results from the last getSNdata call\n",
    "show_image(results_1st_target)"
   ]
  },
  {
   "cell_type": "markdown",
   "metadata": {
    "id": "F9UdXnkDg1dt"
   },
   "source": [
    "# Query many AGN and QSO candidates using the client <a class=\"anchor\" id=\"agniaclient\"></a>"
   ]
  },
  {
   "cell_type": "markdown",
   "metadata": {
    "id": "q3i6qL5Ng1dt"
   },
   "source": [
    "The ALeRCE client allows users to access the ALeRCE API and do simple queries to our database. You can get information about each command using the help command."
   ]
  },
  {
   "cell_type": "code",
   "execution_count": null,
   "metadata": {
    "colab": {
     "base_uri": "https://localhost:8080/"
    },
    "id": "KElsH6xkg1dt",
    "outputId": "ffb5cce0-3f80-4da5-d45d-067bb504edec"
   },
   "outputs": [],
   "source": [
    "help(client.query_objects)"
   ]
  },
  {
   "cell_type": "markdown",
   "metadata": {
    "id": "XDTsmWELg1dt"
   },
   "source": [
    "### Querying the ALeRCE database"
   ]
  },
  {
   "cell_type": "markdown",
   "metadata": {
    "id": "ZZercXDbg1dt"
   },
   "source": [
    "We will now query the top 1000 AGN and top 1000 QSO candidates, that have a probability > 0.6 of being a AGN according to the light curve classifier, and which have between 30 and 200 detections."
   ]
  },
  {
   "cell_type": "code",
   "execution_count": null,
   "metadata": {
    "colab": {
     "base_uri": "https://localhost:8080/",
     "height": 349
    },
    "id": "DtbB_meig1dt",
    "outputId": "fd7a99eb-5d64-4986-f6ef-3d6f77f85a3a"
   },
   "outputs": [],
   "source": [
    "min_firstmjd = Time(\"2017-11-01T00:00:00\", format=\"isot\", scale=\"utc\").mjd\n",
    "\n",
    "AGNs = client.query_objects(classifier=\"lc_classifier\",\n",
    "                           class_name=\"AGN\", \n",
    "                           probability=0.6,\n",
    "                           ndet=[30, 200],\n",
    "                           order_by=\"probability\",\n",
    "                           order_mode=\"DESC\",\n",
    "                           first_mjd=[min_firstmjd, None],\n",
    "                           count=False,\n",
    "                           page_size=1000, format='pandas')\n",
    "print(AGNs.shape)\n",
    "AGNs.set_index(\"oid\", inplace=True)\n",
    "AGNs.head()"
   ]
  },
  {
   "cell_type": "code",
   "execution_count": null,
   "metadata": {
    "colab": {
     "base_uri": "https://localhost:8080/",
     "height": 349
    },
    "id": "klQUb2yBg1du",
    "outputId": "c97c8565-4427-4a29-e7dd-26aa6827bc1e"
   },
   "outputs": [],
   "source": [
    "QSOs = client.query_objects(classifier=\"lc_classifier\",\n",
    "                           class_name=\"QSO\", \n",
    "                           probability=0.6,\n",
    "                           ndet=[30, 200],\n",
    "                           order_by=\"probability\",\n",
    "                           order_mode=\"DESC\",\n",
    "                           first_mjd=[min_firstmjd, None],\n",
    "                           count=False,\n",
    "                           page_size=1000, format='pandas')\n",
    "print(QSOs.shape)\n",
    "QSOs.set_index(\"oid\", inplace=True)\n",
    "QSOs.head()"
   ]
  },
  {
   "cell_type": "markdown",
   "metadata": {
    "id": "Dpx8X9Hkg1du"
   },
   "source": [
    "Here you can see the fields available in the dataframe"
   ]
  },
  {
   "cell_type": "code",
   "execution_count": null,
   "metadata": {
    "colab": {
     "base_uri": "https://localhost:8080/",
     "height": 54
    },
    "id": "opWXI8c0g1du",
    "outputId": "e2fd6105-071c-466b-a4d1-825100bd446c"
   },
   "outputs": [],
   "source": [
    "\", \".join(list(AGNs))"
   ]
  },
  {
   "cell_type": "markdown",
   "metadata": {
    "id": "20omJ82rg1du"
   },
   "source": [
    "This table contains the unique object identifier `oid` as index, the classification class `class`, whether its light curve was corrected `corrected`, the light curve length `deltjd`, the time of first detection `firstmjd`, the g-r color at maximum `g_r_max`, the corrected g-r color at maximum `g_r_max_corr`, the mean g-r color `g_r_mean`, the corrected mean g-r color `g_r_mean_corr`, the time of last detection `lastmjd`, the mean declination `meandec`, the mean right ascension `meanra`, the latest time of a raw SNR$\\sim 3$ detection `mjdendhist`, the earliest time of a raw SNR$\\sim 3$ detection `mjdstarthist`, the number of times the candidate fell inside on a ZTF observation `ncovhist`, the number of detections `ndet`, the number of raw SNR$\\sim 3$ detection `ndethist`, the classification probability `probability`, the declination standard deviation `sigmadec`, the right ascension standard deviation `sigmara`, whether the object is likely stellar `stellar`, and the version of the preprocessing step `step_id_corr`."
   ]
  },
  {
   "cell_type": "markdown",
   "metadata": {
    "id": "q9HaFt0rg1du"
   },
   "source": [
    "Now we show the corrected mean g-r color `g_r_mean_corr` distribution of AGNs and QSOs:"
   ]
  },
  {
   "cell_type": "code",
   "execution_count": null,
   "metadata": {
    "colab": {
     "base_uri": "https://localhost:8080/",
     "height": 302
    },
    "id": "rLYNkQrKg1du",
    "outputId": "38ecea15-5d02-48f3-e1f3-8d167af5030e",
    "scrolled": true
   },
   "outputs": [],
   "source": [
    "fig, ax = plt.subplots()\n",
    "bins = np.linspace(-0.3,1.5,30)\n",
    "ax.hist(AGNs.g_r_mean_corr,bins = bins, lw=2, histtype='step', color = \"firebrick\", label = \"AGN candidates\")\n",
    "ax.hist(QSOs.g_r_mean_corr, bins=bins, lw=2, histtype='step', color = \"royalblue\", label = \"QSO candidates\")\n",
    "ax.set_xlabel(r\"($g-r$)_mean_corr\")\n",
    "plt.legend()"
   ]
  },
  {
   "cell_type": "markdown",
   "metadata": {
    "id": "UjbflAvqg1dv"
   },
   "source": [
    "And the mean g-r color `g_r_mean` (i.e., measured from the difference images) distribution of AGNs and QSOs:"
   ]
  },
  {
   "cell_type": "code",
   "execution_count": null,
   "metadata": {
    "colab": {
     "base_uri": "https://localhost:8080/",
     "height": 302
    },
    "id": "MaX-hfctg1dv",
    "outputId": "9e2f87cb-f354-48eb-db61-572732e6eef0",
    "scrolled": true
   },
   "outputs": [],
   "source": [
    "fig, ax = plt.subplots()\n",
    "bins = np.linspace(-0.3,1.5,30)\n",
    "ax.hist(AGNs.g_r_mean,bins = bins, lw=2, histtype='step', color = \"firebrick\", label = \"AGN candidates\")\n",
    "ax.hist(QSOs.g_r_mean, bins=bins, lw=2, histtype='step', color = \"royalblue\", label = \"QSO candidates\")\n",
    "ax.set_xlabel(r\"($g-r$)_mean_corr\")\n",
    "plt.legend()"
   ]
  },
  {
   "cell_type": "markdown",
   "metadata": {
    "id": "OcduRE4Wg1dv"
   },
   "source": [
    "Clearly AGNs are much redder than QSOs when we use the corrected magnitudes, while when we consider the difference magnitudes their color distributions are not so different."
   ]
  },
  {
   "cell_type": "markdown",
   "metadata": {
    "id": "YH6AXNDAg1dv"
   },
   "source": [
    "Finally, we try some random AGNs from the selected sample. Some of them will have a known redshift."
   ]
  },
  {
   "cell_type": "code",
   "execution_count": null,
   "metadata": {
    "id": "T-u5w41Og1dv"
   },
   "outputs": [],
   "source": [
    "agn_sel = np.random.choice(AGNs.index, size=5)"
   ]
  },
  {
   "cell_type": "code",
   "execution_count": null,
   "metadata": {
    "colab": {
     "base_uri": "https://localhost:8080/",
     "height": 986
    },
    "id": "Dl3tpHBfg1dv",
    "outputId": "3c036bcf-e990-4119-f39f-2221b9914671"
   },
   "outputs": [],
   "source": [
    "results = getLCdata(agn_sel[0], doLC=True, doext=True, dostamp=True, doNED=True, doredshift=True)\n"
   ]
  },
  {
   "cell_type": "code",
   "execution_count": null,
   "metadata": {
    "colab": {
     "base_uri": "https://localhost:8080/",
     "height": 1000
    },
    "id": "iVufb8_Xg1dv",
    "outputId": "960a1fb1-f088-4278-dc73-afbf0d7842ad"
   },
   "outputs": [],
   "source": [
    "results = getLCdata(agn_sel[1], doLC=True, doext=True, dostamp=True, doNED=True, doredshift=True)\n"
   ]
  },
  {
   "cell_type": "markdown",
   "metadata": {
    "id": "ZWF06-B4g1dw"
   },
   "source": [
    "# Query many AGN, QSO, and Blazar candidates using a direct DB connection <a class=\"anchor\" id=\"agndb\"></a>"
   ]
  },
  {
   "cell_type": "markdown",
   "metadata": {
    "id": "q4d21yBtg1dw"
   },
   "source": [
    "The previous way of querying candidates is good for relatively simple queries. However, if we want to do more complex queries the best solution may be to connect directly to the DB. We show how to do this here."
   ]
  },
  {
   "cell_type": "markdown",
   "metadata": {
    "id": "WiJhBZ_1g1dw"
   },
   "source": [
    "First, you need to install and import pyscopg2"
   ]
  },
  {
   "cell_type": "code",
   "execution_count": null,
   "metadata": {
    "id": "C7RuWzb_g1dx"
   },
   "outputs": [],
   "source": [
    "#!pip install psycopg2-binary\n",
    "import psycopg2"
   ]
  },
  {
   "cell_type": "markdown",
   "metadata": {
    "id": "eD1Rksplg1dx"
   },
   "source": [
    "Then, you will need to use the read only credentials available in the repository"
   ]
  },
  {
   "cell_type": "code",
   "execution_count": null,
   "metadata": {
    "id": "TqmuB_gfg1dx"
   },
   "outputs": [],
   "source": [
    "import json\n",
    "import requests\n",
    "url = \"https://raw.githubusercontent.com/alercebroker/usecases/master/alercereaduser_v4.json\"\n",
    "params = requests.get(url).json()['params']"
   ]
  },
  {
   "cell_type": "markdown",
   "metadata": {
    "id": "CFB6VMttg1dx"
   },
   "source": [
    "Now we open a connection to the DB"
   ]
  },
  {
   "cell_type": "code",
   "execution_count": null,
   "metadata": {
    "id": "dEXwgtQpg1dx"
   },
   "outputs": [],
   "source": [
    "conn = psycopg2.connect(dbname=params['dbname'], user=params['user'], host=params['host'], password=params['password'])"
   ]
  },
  {
   "cell_type": "markdown",
   "metadata": {
    "id": "GpaU24Tmg1dx"
   },
   "source": [
    "And we show all the available tables"
   ]
  },
  {
   "cell_type": "code",
   "execution_count": null,
   "metadata": {
    "colab": {
     "base_uri": "https://localhost:8080/",
     "height": 802
    },
    "id": "DkT-s8o6g1dx",
    "outputId": "d6c5789d-7b7e-45d1-95f3-9ec59db2fa1c"
   },
   "outputs": [],
   "source": [
    "query = \"\"\"\n",
    "SELECT table_name  FROM information_schema.tables\n",
    "WHERE table_schema='alerce'\n",
    "ORDER BY table_name;\n",
    "\"\"\"\n",
    "tables = pd.read_sql_query(query, conn)\n",
    "tables.sort_values(by=\"table_name\")"
   ]
  },
  {
   "cell_type": "markdown",
   "metadata": {
    "id": "L4xoMT44g1dx"
   },
   "source": [
    "You can see all the tables used in the new version of our database. The most relevant tables are, moving from less to more aggregation:\n",
    "\n",
    "* `non_detection`: one row per non-detection per object, the limiting magnitudes\n",
    "* `detection`: one row per detection, light curves and other relevant time dependent information\n",
    "* `data_quality`: one row per detection, data quality related time dependent information\n",
    "* `magstat`: one row per object per filter, statistics per bandpass per object\n",
    "* `object`: one row per object, basic object statistics\n",
    "* `probability`: one row per object per classifier and class, the probabilities of every object\n",
    "* `reference`: one row per object per reference image, object statistics for every reference image used\n",
    "* `feature`: one row per object per feature, object computed features\n",
    "* `xmatch`: one row per object per external catalog, the table that points to the detailed xmatch tables\n",
    "* `allwise, ps1_ztf, gaia_ztf, ss_stf`: one row per object, xmatch tables"
   ]
  },
  {
   "cell_type": "markdown",
   "metadata": {
    "id": "bR7o4JmNg1dx"
   },
   "source": [
    "For completeness, we now show all columns available in all tables!"
   ]
  },
  {
   "cell_type": "code",
   "execution_count": null,
   "metadata": {
    "colab": {
     "base_uri": "https://localhost:8080/",
     "height": 1000
    },
    "id": "7h29ynkWg1dy",
    "outputId": "2916c582-3588-429b-867b-2148a604f20b"
   },
   "outputs": [],
   "source": [
    "alltabs = []\n",
    "for tab in sorted(tables.table_name):\n",
    "    cols = pd.DataFrame()\n",
    "    query = \"select column_name, data_type from information_schema.columns where table_name = '%s';\" % tab\n",
    "    results = pd.read_sql_query(query, conn)\n",
    "    results[\"table\"] = tab\n",
    "    alltabs.append(results)\n",
    "dftab = pd.concat(alltabs)\n",
    "pd.options.display.max_rows = 999\n",
    "display(dftab[[\"table\", \"column_name\", \"data_type\"]])\n",
    "pd.options.display.max_rows = 101"
   ]
  },
  {
   "cell_type": "markdown",
   "metadata": {
    "id": "kGLtC12lg1dy"
   },
   "source": [
    "Now we can do a query asking for sources classfied as AGN, QSO or Blazar. We define a minimum number of detections (ndet), and a minimum time span between the first and the last detection (deltajd), in order to ensure the detection of a variable signal from the light curves.  We also filter out sources by their predicted class probability. The DB includes a larger number of QSO and AGN than Blazars, so to be able to collect similar numbers, we include a UNION in this query. WARNING: this might take some time to run depending on the selection criteria...\n"
   ]
  },
  {
   "cell_type": "code",
   "execution_count": null,
   "metadata": {
    "colab": {
     "base_uri": "https://localhost:8080/",
     "height": 256
    },
    "id": "UOnIj0rRMDGx",
    "outputId": "bf0c5d00-25d1-4736-d856-760c2a69f333"
   },
   "outputs": [],
   "source": [
    "query='''\n",
    "SELECT\n",
    "    object.oid, object.meanra, object.meandec, object.ndet,\n",
    "    object.firstMJD, object.deltajd, object.g_r_mean_corr,\n",
    "    probability_oid.classifier_name, probability_oid.class_name,\n",
    "    probability_oid.ranking, probability_oid.probability\n",
    "FROM\n",
    "    object INNER JOIN (\n",
    "    SELECT\n",
    "        oid, classifier_name, class_name, ranking, probability\n",
    "    FROM\n",
    "        probability\n",
    "    WHERE\n",
    "        classifier_name='lc_classifier'\n",
    "        AND class_name IN ('AGN', 'QSO')\n",
    "        AND ranking=1\n",
    "        AND probability > 0.95\n",
    "    UNION\n",
    "    SELECT\n",
    "        oid, classifier_name, class_name, ranking, probability\n",
    "    FROM\n",
    "        probability\n",
    "    WHERE\n",
    "        classifier_name='lc_classifier'\n",
    "        AND class_name IN ('Blazar')\n",
    "        AND ranking=1\n",
    "        AND probability > 0.8\n",
    "    ) AS probability_oid\n",
    "    ON object.oid=probability_oid.oid\n",
    "WHERE\n",
    "    probability_oid.classifier_name='lc_classifier'\n",
    "    AND object.deltajd > 200\n",
    "    AND object.ndet > 40\n",
    "'''\n",
    "\n",
    "objects = pd.read_sql_query(query, conn)\n",
    "print(objects.shape)\n",
    "objects.set_index('oid', inplace=True)\n",
    "objects.head()"
   ]
  },
  {
   "cell_type": "markdown",
   "metadata": {
    "id": "2k3IC4cIg1dy"
   },
   "source": [
    "How many sources are classified as QSOs, AGNs or Blazars?"
   ]
  },
  {
   "cell_type": "code",
   "execution_count": null,
   "metadata": {
    "colab": {
     "base_uri": "https://localhost:8080/"
    },
    "id": "uHWi40gOg1dz",
    "outputId": "84cd13d7-e4f4-4cff-f1b9-2d0ac90585ff"
   },
   "outputs": [],
   "source": [
    "objects.class_name.value_counts().plot.barh()\n",
    "\n",
    "print(\"QSO: \", len(objects.loc[objects[\"class_name\"]==\"QSO\"]))\n",
    "print(\"AGN: \", len(objects.loc[objects[\"class_name\"]==\"AGN\"]))\n",
    "print(\"Blazar: \", len(objects.loc[objects[\"class_name\"]==\"Blazar\"]))"
   ]
  },
  {
   "cell_type": "markdown",
   "metadata": {
    "id": "PwsMpBR-g1dz"
   },
   "source": [
    "We save the object IDs (oid) of each source, which will be used in the next sections:"
   ]
  },
  {
   "cell_type": "code",
   "execution_count": null,
   "metadata": {
    "colab": {
     "base_uri": "https://localhost:8080/"
    },
    "id": "S5ykoXYOg1dz",
    "outputId": "824a2387-c77a-40a9-a2bf-e88a6d4ed1e3"
   },
   "outputs": [],
   "source": [
    "oids_objects =  objects.index.values\n",
    "#print(len(oids_objects))\n",
    "#print(oids_objects)"
   ]
  },
  {
   "cell_type": "markdown",
   "metadata": {
    "id": "b1UlWJ6Pg1dz"
   },
   "source": [
    "# Query AGN, QSO, and Blazar features and PS1 photometry using a direct DB connection <a class=\"anchor\" id=\"agndbother\"></a>"
   ]
  },
  {
   "cell_type": "markdown",
   "metadata": {
    "id": "aPPtsO9bg1dz"
   },
   "source": [
    "In order to understand the differences between the QSO, AGN and Blazar candidates, we search for its Pan-STARRS1 photometry, using the ps1_ztf table. WARNING: this might take some time to run..."
   ]
  },
  {
   "cell_type": "code",
   "execution_count": null,
   "metadata": {
    "colab": {
     "base_uri": "https://localhost:8080/",
     "height": 238
    },
    "id": "0mjDqex4g1dz",
    "outputId": "bd96a378-955b-40dc-9bae-7be431bf7fa6"
   },
   "outputs": [],
   "source": [
    "query='''\n",
    "SELECT\n",
    "    oid, sgmag1, srmag1, simag1, szmag1, sgscore1\n",
    "FROM\n",
    "    ps1_ztf\n",
    "WHERE\n",
    "    oid in (%s)\n",
    "''' % \",\".join([\"'%s'\" % oid for oid in oids_objects])\n",
    "ps1 = pd.read_sql_query(query, conn)\n",
    "ps1.set_index(\"oid\", inplace=True)\n",
    "ps1.head()"
   ]
  },
  {
   "cell_type": "markdown",
   "metadata": {
    "id": "ZIY8p84pg1dz"
   },
   "source": [
    "We use this data to plot a color-color diagram of QSO, AGN and Blazar candidates"
   ]
  },
  {
   "cell_type": "code",
   "execution_count": null,
   "metadata": {
    "colab": {
     "base_uri": "https://localhost:8080/",
     "height": 302
    },
    "id": "GsMSkhIkg1d0",
    "outputId": "f6400384-e943-438a-9407-0178b33a7707"
   },
   "outputs": [],
   "source": [
    "objects[\"g_r_ps1\"] = ps1.sgmag1 - ps1.srmag1\n",
    "objects[\"r_i_ps1\"] = ps1.srmag1 - ps1.simag1\n",
    "objects[\"i_z_ps1\"] = ps1.simag1 - ps1.szmag1\n",
    "objects[\"sgscore1\"] = ps1.sgscore1 \n",
    "objects.head()"
   ]
  },
  {
   "cell_type": "code",
   "execution_count": null,
   "metadata": {
    "colab": {
     "base_uri": "https://localhost:8080/",
     "height": 529
    },
    "id": "PrV29zlwg1d0",
    "outputId": "bf1f4968-bbd3-4017-c055-9fb9d750c949",
    "scrolled": false
   },
   "outputs": [],
   "source": [
    "fig, ax = plt.subplots(figsize = (8,8))  \n",
    "\n",
    "for class_name, color in [(\"QSO\",\"lightsteelblue\"),(\"AGN\",\"lightcoral\"),(\"Blazar\",\"olivedrab\")]:\n",
    "  plt.scatter(objects.loc[objects[\"class_name\"]==class_name,\"g_r_ps1\"].values,objects.loc[objects[\"class_name\"]==class_name,\"r_i_ps1\"].values,c=color,s=12,label=class_name)\n",
    "\n",
    "plt.ylabel(r'$r-i$',fontsize=20)\n",
    "plt.xlabel(r'$g-r$',fontsize=20)\n",
    "plt.xticks(fontsize = 15)\n",
    "plt.yticks(fontsize = 15)\n",
    "plt.locator_params(axis='y', nbins=6)\n",
    "plt.locator_params(axis='x', nbins=6)\n",
    "plt.legend(fontsize = 15,markerscale=5)\n",
    "plt.ylim(-0.8,1.3)\n",
    "plt.xlim(-0.6,1.6)"
   ]
  },
  {
   "cell_type": "markdown",
   "metadata": {
    "id": "R2nIH37mg1d0"
   },
   "source": [
    "This color-color diagram shows that QSO candidates are bluer than AGN and Blazar candidates.\n",
    "\n",
    "The sgscore1 corresponds to a morphological star/galaxy score of the closest source from PanSTARRS1 ([Tachibana et al. 2018](https://ui.adsabs.harvard.edu/abs/2018PASP..130l8001T/abstract)), with $0 \\leq \\texttt{sgscore1} \\leq 1$, where values closer to 1 imply a higher likelihood of the source being a star. Let's see the distribution of the sgscore1 parameter for these sources:"
   ]
  },
  {
   "cell_type": "code",
   "execution_count": null,
   "metadata": {
    "colab": {
     "base_uri": "https://localhost:8080/",
     "height": 551
    },
    "id": "PtMg_OFPg1d0",
    "outputId": "9b53d642-de83-491a-ee8a-93c428ac292b",
    "scrolled": false
   },
   "outputs": [],
   "source": [
    "fig, ax = plt.subplots(figsize = (8,8)) \n",
    "bins_hist = np.linspace(0,1,25,endpoint=True)\n",
    "\n",
    "for class_name, color in [(\"QSO\",\"royalblue\"),(\"AGN\",\"firebrick\"),(\"Blazar\",\"olivedrab\")]:\n",
    "  weights = np.ones_like(objects.loc[objects[\"class_name\"]==class_name,\"sgscore1\"].values)/float(len(objects.loc[objects[\"class_name\"]==class_name,\"sgscore1\"].values))\n",
    "  plt.hist(objects.loc[objects[\"class_name\"]==class_name,\"sgscore1\"].values, weights=weights, cumulative=False, stacked=False, density=False, histtype='step', bins=bins_hist, lw=3, color = color, ec=color,label=class_name, alpha=1.0)\n",
    "  \n",
    "plt.legend(loc='upper left',fontsize=17)\n",
    "plt.xlabel(r'sgscore1',fontsize=20)\n",
    "plt.ylabel(r'normalized frequency',fontsize=20)\n",
    "plt.xticks(fontsize = 17)\n",
    "plt.yticks(fontsize = 17)\n"
   ]
  },
  {
   "cell_type": "markdown",
   "metadata": {
    "id": "MkDJ9WWJg1d0"
   },
   "source": [
    "Clearly AGN candidates have more extended morphologies compared to QSOs and Blazars.\n",
    "\n",
    "\n",
    "In addition, we query some relevant features for active galaxies from the feature table, like IAR_phi, GP_DRW_sigma and GP_DRW_tau, the MHPS feautres, ExcessVar, and the Structure Function features. These features are described in detail in Sánchez-Sáez et al. 2021. Note that these features are computed using the observed frame light curves (i.e., the light curves are not corrected by redshift). WARNING: this might take some time to run..."
   ]
  },
  {
   "cell_type": "code",
   "execution_count": null,
   "metadata": {
    "colab": {
     "base_uri": "https://localhost:8080/",
     "height": 206
    },
    "id": "8FT3C9zHg1d0",
    "outputId": "7fa58204-7262-4229-c066-65f912906a30"
   },
   "outputs": [],
   "source": [
    "query='''\n",
    "SELECT\n",
    "    *\n",
    "FROM\n",
    "    feature\n",
    "WHERE\n",
    "     oid in (%s)\n",
    "''' % \",\".join([\"'%s'\" % oid for oid in oids_objects])\n",
    "\n",
    "\n",
    "features = pd.read_sql_query(query, conn)\n",
    "features.head()"
   ]
  },
  {
   "cell_type": "markdown",
   "metadata": {
    "id": "SMjczdBzg1d1"
   },
   "source": [
    "Let's save these features in a new dataframe to make their manipulation easier "
   ]
  },
  {
   "cell_type": "code",
   "execution_count": null,
   "metadata": {
    "colab": {
     "base_uri": "https://localhost:8080/",
     "height": 331
    },
    "id": "4MWjhBjyg1d1",
    "outputId": "a00c69ff-5729-4e7d-8fee-f238ecb24bf7"
   },
   "outputs": [],
   "source": [
    "features[\"fname\"]=features.name + \"_\" + features.fid.astype(str)\n",
    "features_aux = features.pivot_table(index=\"oid\", columns=\"fname\",values=\"value\")\n",
    "features_aux.head()"
   ]
  },
  {
   "cell_type": "code",
   "execution_count": null,
   "metadata": {
    "colab": {
     "base_uri": "https://localhost:8080/",
     "height": 331
    },
    "id": "fRpGfWbtg1d1",
    "outputId": "67c4b4b2-cb82-4790-a8d9-852056d061c1"
   },
   "outputs": [],
   "source": [
    "objects = objects.join(features_aux)\n",
    "objects.head()"
   ]
  },
  {
   "cell_type": "markdown",
   "metadata": {
    "id": "twY8PIqug1d1"
   },
   "source": [
    "Let's see the distribution of some of these features:"
   ]
  },
  {
   "cell_type": "markdown",
   "metadata": {
    "id": "vTiDmWj8g1d1"
   },
   "source": [
    "First, we will plot the distribution of the Mexican Hat Power Spectrum (MHPS) features. These features are based on the method presented in [Arévalo et al. 2012](https://ui.adsabs.harvard.edu/abs/2012MNRAS.426.1793A/abstract). They proposed a method to compute low-resolution power spectra from data with gaps, where the light curves are convolved with a Mexican hat filter. This method can be used to isolate structures  with a characteristic timescale in a given light curve, in order to estimate the light curve normalized variance associated with that timescale. We compute the light curve variance at two different timescales of 10 (high frequency; MHPS\\_high) and 100 days (low frequency; MHPS\\_low). We also compute the ratio between the low and high frequency variances for a given band, denoted as MHPS\\_ratio. The logarithm of MHPS\\_ratio is therefore an estimate of the power law slope of the power spectrum of the light curve.\n",
    "\n",
    "Below we plot the distribution of these features for the $g$ (\\_1) and $r$ band (\\_2)"
   ]
  },
  {
   "cell_type": "code",
   "execution_count": null,
   "metadata": {
    "colab": {
     "base_uri": "https://localhost:8080/",
     "height": 631
    },
    "id": "luWs8BDug1d2",
    "outputId": "eb85a81a-4978-4cbf-d372-7f6617ed38d6",
    "scrolled": false
   },
   "outputs": [],
   "source": [
    "fig, ax = plt.subplots(nrows=2, ncols= 3, figsize = (18,10)) \n",
    "\n",
    "for feature, axr,axc in [(\"MHPS_low_1\",0,0),(\"MHPS_high_1\",0,1),(\"MHPS_ratio_1\",0,2),(\"MHPS_low_2\",1,0),(\"MHPS_high_2\",1,1),(\"MHPS_ratio_1\",1,2)]:\n",
    "  if feature==\"MHPS_ratio_1\" or feature==\"MHPS_ratio_2\": bins_hist = np.logspace(np.log10(1e-1),np.log10(1500),25, base=10.0,endpoint=True)\n",
    "  else: bins_hist = np.logspace(np.log10(1e-5),np.log10(1300),25, base=10.0,endpoint=True)\n",
    "  \n",
    "  objects_aux = objects[objects[feature]>=np.min(bins_hist)]\n",
    "  for class_name, color in [(\"QSO\",\"royalblue\"),(\"AGN\",\"firebrick\"),(\"Blazar\",\"olivedrab\")]:\n",
    "    weights = np.ones_like(objects_aux.loc[objects_aux[\"class_name\"]==class_name,feature].values)/float(len(objects_aux.loc[objects_aux[\"class_name\"]==class_name,feature].values))\n",
    "    ax[axr,axc].hist(objects_aux.loc[objects_aux[\"class_name\"]==class_name,feature].values, weights=weights, cumulative=False, stacked=False, density=False, histtype='step', bins=bins_hist, lw=3, color = color, ec=color,label=class_name, alpha=1.0)\n",
    "\n",
    "  ax[axr,axc].set_xlabel(feature,fontsize=14)\n",
    "  ax[axr,axc].set_ylabel(r'normalized frequency',fontsize=14)\n",
    "  ax[axr,axc].set_xscale('log')\n",
    "\n",
    "ax[0,0].legend(loc='upper right',fontsize=14)\n",
    "\n",
    "\n"
   ]
  },
  {
   "cell_type": "markdown",
   "metadata": {
    "id": "-zDdMA2tg1d2"
   },
   "source": [
    "It can be seen that in general, the power law slope of the power spectrum of QSO is smaller. "
   ]
  },
  {
   "cell_type": "markdown",
   "metadata": {
    "id": "RMJrj8CZg1d2"
   },
   "source": [
    "Now let's see the distribution of the Damp Random Walk (DRW) parameters.  A DRW model is defined by a stochastic differential equation which includes a damping term that pushes the signal back to its mean: $dX(t)=-\\frac{1}{\\tau_{DRW}}X(t)dt+\\sigma_{DRW}\\sqrt{dt}\\,\\epsilon(t)+b\\,dt,    \\quad      \\tau_{DRW},\\sigma_{DRW},t>0$.  $\\tau_{DRW}$ corresponds to the characteristic time for the time series to become roughly uncorrelated, \n",
    "$\\sigma_{DRW}^2$ corresponds to the squared amplitude of the variations, and $\\epsilon(t)$ is a white noise process with zero mean and variance equal to 1. DRW modelling is typically used to describe light curves of active galactic nuclei ([Kelly et al. 2009](https://ui.adsabs.harvard.edu/abs/2009ApJ...698..895K/abstract)). In this case we obtained the $\\sigma_{DRW}^2$ and $\\tau_{DRW}$ parameters using Gaussian process regression, with a Ornstein-Uhlenbeck kernel, as in [Graham et al. 2017](https://ui.adsabs.harvard.edu/abs/2017MNRAS.470.4112G/abstract). GP\\_DRW\\_sigma denote $\\sigma_{DRW}$, while GP\\_DRW\\_tau denote  $\\tau_{DRW}$.\n",
    "\n",
    "\n",
    "\n",
    "From $\\sigma_{DRW}^2$ we estimated the asymptotic value of the structure function on long timescales as SF$_\\infty = \\sqrt{2} \\sigma_{DRW}$ ([MacLeod et al. 2011](https://ui.adsabs.harvard.edu/abs/2011ApJ...728...26M/abstract)).\n",
    "\n",
    "\n",
    "\n",
    "\n",
    "\n",
    "Below we plot the distribution of GP\\_DRW\\_tau and GP\\_DRW\\_sigma in the $g$ band, for QSOs, AGNs, and Blazars. "
   ]
  },
  {
   "cell_type": "code",
   "execution_count": null,
   "metadata": {
    "colab": {
     "base_uri": "https://localhost:8080/",
     "height": 532
    },
    "id": "Hylj5srWg1d2",
    "outputId": "4eff3f5b-5d5a-40e6-d184-54cb0c3caffc"
   },
   "outputs": [],
   "source": [
    "feature_x='GP_DRW_sigma_1'\n",
    "feature_y='GP_DRW_tau_1'\n",
    "\n",
    "fig, ax = plt.subplots(figsize = (8,8)) \n",
    "\n",
    "objects_aux = objects[(objects[feature_x]>=1e-4) & (objects[feature_y]>=1)] # we want to avoid incorrect measurements \n",
    "\n",
    "for class_name, color in [(\"QSO\",\"lightsteelblue\"),(\"AGN\",\"lightcoral\"),(\"Blazar\",\"olivedrab\")]:\n",
    "  plt.scatter(np.log10(np.sqrt(2*objects_aux.loc[objects_aux[\"class_name\"]==class_name,feature_x].values)),np.log10(objects_aux.loc[objects_aux[\"class_name\"]==class_name,feature_y].values),c=color,s=12,label=class_name)\n",
    "\n",
    "\n",
    "plt.ylabel(\"log10(%s)\" % (feature_y),fontsize=15)\n",
    "#plt.xlabel(\"log10(%s)\" % (feature_x),fontsize=15)\n",
    "plt.xlabel(r\"log$_{10}(SF_{\\infty,g}/mag)$\",fontsize=15)\n",
    "plt.xticks(fontsize = 15)\n",
    "plt.yticks(fontsize = 15)\n",
    "plt.legend(fontsize = 15,markerscale=5, loc=2)\n",
    "plt.ylim(0,4)\n",
    "plt.xlim(-2.1,0.5)"
   ]
  },
  {
   "cell_type": "markdown",
   "metadata": {
    "id": "FQqrB38qg1d2"
   },
   "source": [
    "It can be seen that QSOs, AGNs, and Blazars occupy different locations in this plot, with Blazars showing larger values of $SF_{\\infty,g}$ (and therefore GP\\_DRW\\_sigma\\_1). This behavior was also found in a previous analysis presented by [Ruan et al. 2012](https://ui.adsabs.harvard.edu/abs/2012ApJ...760...51R/abstract)."
   ]
  },
  {
   "cell_type": "markdown",
   "metadata": {},
   "source": [
    "You can see that each object has one row per feature per band. Let's show the unique feature names:"
   ]
  },
  {
   "cell_type": "code",
   "execution_count": null,
   "metadata": {},
   "outputs": [],
   "source": [
    "features.name.unique()"
   ]
  },
  {
   "cell_type": "markdown",
   "metadata": {},
   "source": [
    "Details on the features can be found in Sánchez-Sáez et al. 2021, AJ, 161, 141"
   ]
  },
  {
   "cell_type": "code",
   "execution_count": null,
   "metadata": {
    "id": "_Qvkeqx9sl14"
   },
   "outputs": [],
   "source": [
    "conn.close()"
   ]
  },
  {
   "cell_type": "markdown",
   "metadata": {
    "id": "J9hMt7JfOV91"
   },
   "source": [
    "\n",
    "\n",
    "**Congratulations, you made it to the end of this notebook!**\n",
    "\n",
    "**If you would like to contribute with your own notebook, please let us know!**\n"
   ]
  }
 ],
 "metadata": {
  "colab": {
   "collapsed_sections": [],
   "name": "ALeRCE-ZTF-ActiveGalaxies.ipynb",
   "provenance": []
  },
  "kernelspec": {
   "display_name": "Python 3",
   "language": "python",
   "name": "python3"
  },
  "language_info": {
   "codemirror_mode": {
    "name": "ipython",
    "version": 3
   },
   "file_extension": ".py",
   "mimetype": "text/x-python",
   "name": "python",
   "nbconvert_exporter": "python",
   "pygments_lexer": "ipython3",
   "version": "3.7.5"
  }
 },
 "nbformat": 4,
 "nbformat_minor": 1
}
